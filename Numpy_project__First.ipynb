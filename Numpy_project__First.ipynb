{
 "cells": [
  {
   "cell_type": "code",
   "execution_count": 1,
   "id": "98942d62",
   "metadata": {},
   "outputs": [],
   "source": [
    "import numpy as np\n",
    "import csv"
   ]
  },
  {
   "cell_type": "markdown",
   "id": "81e5966d",
   "metadata": {},
   "source": [
    "# 1. Represent the data in the given sheet into an appropriate NumPy array"
   ]
  },
  {
   "cell_type": "markdown",
   "id": "b11f4a3b",
   "metadata": {},
   "source": [
    "1. read the csv file\n",
    "\n",
    "2. append in the list\n",
    "\n",
    "3. convert the list into NumPy Array\n",
    "\n",
    "4. delete first two row\n",
    "\n",
    "5. Fill the correct value at blank space"
   ]
  },
  {
   "cell_type": "code",
   "execution_count": 2,
   "id": "e528230f",
   "metadata": {},
   "outputs": [],
   "source": [
    "data = []"
   ]
  },
  {
   "cell_type": "code",
   "execution_count": 3,
   "id": "e22b6f9b",
   "metadata": {},
   "outputs": [],
   "source": [
    "with open(r\"C:\\Users\\HP\\Desktop\\Data-LB\\New folder\\SampleTemperature Sheet - mysheet.csv\",'r') as csvfile:\n",
    "    filereader = csv.reader(csvfile,delimiter=',')\n",
    "    for row in filereader:\n",
    "        data.append(row)\n",
    "        "
   ]
  },
  {
   "cell_type": "code",
   "execution_count": 4,
   "id": "9083f663",
   "metadata": {},
   "outputs": [
    {
     "data": {
      "text/plain": [
       "array([['Temprature Sheet', '', '', '', '', '', '', '', '', '', '', '',\n",
       "        '', '', '', ''],\n",
       "       ['', '', '', '', '', '', '', '', '', '', '', '', '', '', '', ''],\n",
       "       ['Month', 'Week', 'Monday', '', 'Tuesday', '', 'Wednesday', '',\n",
       "        'Thursday', '', 'Friday', '', 'Saturday', '', 'Sunday', ''],\n",
       "       ['', '', 'Min Temp', 'Max Temp', 'Min Temp', 'Max Temp',\n",
       "        'Min Temp', 'Max Temp', 'Min Temp', 'Max Temp', 'Min Temp',\n",
       "        'Max Temp', 'Min Temp', 'Max Temp', 'Min Temp', 'Max Temp'],\n",
       "       ['November', 'Week 1', '11', '20', '10', '20', '9', '30', '14',\n",
       "        '24', '6', '29', '12', '21', '12', '27'],\n",
       "       ['', 'Week 2', '13', '23', '13', '29', '8', '22', '-13', '32',\n",
       "        '6', '21', '14', '23', '11', '28'],\n",
       "       ['', 'Week 3', '6', '28', '14', '21', '9', '32', '8', '28', '13',\n",
       "        '30', '6', '31', '6', '23'],\n",
       "       ['', 'Week 4', '6', '23', '8', '23', '14', '24', '6', '29', '13',\n",
       "        '25', '12', '24', '11', '27'],\n",
       "       ['December', 'Week 1', '11', '25', '14', '25', '7', '20', '9',\n",
       "        '28', '9', '23', '11', '23', '11', '30'],\n",
       "       ['', 'Week 2', '9', '30', '15', '26', '9', '27', '14', '31', '8',\n",
       "        '22', '10', '26', '12', '28'],\n",
       "       ['', 'Week 3', '6', '28', '12', '31', '14', '27', '9', '32', '7',\n",
       "        '23', '11', '32', '7', '23'],\n",
       "       ['', 'Week 4', '7', '28', '15', '29', '11', '22', '14', '21',\n",
       "        '12', '27', '12', '31', '14', '25'],\n",
       "       ['January', 'Week 1', '5', '22', '8', '21', '8', '20', '7', '19',\n",
       "        '8', '22', '2', '7', '18', '4'],\n",
       "       ['', 'Week 2', '4', '22', '6', '20', '6', '21', '4', '22', '4',\n",
       "        '21', '3', '3', '20', '5'],\n",
       "       ['', 'Week 3', '5', '21', '7', '18', '8', '21', '4', '19', '4',\n",
       "        '18', '3', '7', '18', '4'],\n",
       "       ['', 'Week 4', '6', '19', '2', '18', '7', '20', '8', '22', '8',\n",
       "        '19', '7', '4', '20', '8'],\n",
       "       ['February', 'Week 1', '8', '22', '7', '19', '-10', '18', '11',\n",
       "        '19', '12', '20', '12', '71', '21', '12'],\n",
       "       ['', 'Week 2', '8', '19', '10', '20', '12', '18', '10', '18',\n",
       "        '10', '22', '8', '11', '19', '7'],\n",
       "       ['', 'Week 3', '9', '22', '11', '19', '7', '21', '11', '21', '9',\n",
       "        '19', '7', '10', '19', '10'],\n",
       "       ['', 'Week 4', '11', '21', '7', '20', '11', '21', '12', '18',\n",
       "        '11', '20', '12', '7', '21', '9']], dtype='<U16')"
      ]
     },
     "execution_count": 4,
     "metadata": {},
     "output_type": "execute_result"
    }
   ],
   "source": [
    "data = np.array(data)\n",
    "data"
   ]
  },
  {
   "cell_type": "code",
   "execution_count": 5,
   "id": "04f79049",
   "metadata": {},
   "outputs": [],
   "source": [
    "data = np.delete(data,0,axis=0)"
   ]
  },
  {
   "cell_type": "code",
   "execution_count": 6,
   "id": "b24db471",
   "metadata": {},
   "outputs": [],
   "source": [
    "data = np.delete(data,0,axis=0)"
   ]
  },
  {
   "cell_type": "code",
   "execution_count": 7,
   "id": "fe31319a",
   "metadata": {},
   "outputs": [
    {
     "data": {
      "text/plain": [
       "array([['Month', 'Week', 'Monday', '', 'Tuesday', '', 'Wednesday', '',\n",
       "        'Thursday', '', 'Friday', '', 'Saturday', '', 'Sunday', ''],\n",
       "       ['', '', 'Min Temp', 'Max Temp', 'Min Temp', 'Max Temp',\n",
       "        'Min Temp', 'Max Temp', 'Min Temp', 'Max Temp', 'Min Temp',\n",
       "        'Max Temp', 'Min Temp', 'Max Temp', 'Min Temp', 'Max Temp'],\n",
       "       ['November', 'Week 1', '11', '20', '10', '20', '9', '30', '14',\n",
       "        '24', '6', '29', '12', '21', '12', '27']], dtype='<U16')"
      ]
     },
     "execution_count": 7,
     "metadata": {},
     "output_type": "execute_result"
    }
   ],
   "source": [
    "data[0:3]"
   ]
  },
  {
   "cell_type": "code",
   "execution_count": 8,
   "id": "1a37e315",
   "metadata": {},
   "outputs": [
    {
     "data": {
      "text/plain": [
       "array([['November', 'Week 1', '11', '20', '10', '20', '9', '30', '14',\n",
       "        '24', '6', '29', '12', '21', '12', '27'],\n",
       "       ['', 'Week 2', '13', '23', '13', '29', '8', '22', '-13', '32',\n",
       "        '6', '21', '14', '23', '11', '28'],\n",
       "       ['', 'Week 3', '6', '28', '14', '21', '9', '32', '8', '28', '13',\n",
       "        '30', '6', '31', '6', '23'],\n",
       "       ['', 'Week 4', '6', '23', '8', '23', '14', '24', '6', '29', '13',\n",
       "        '25', '12', '24', '11', '27'],\n",
       "       ['December', 'Week 1', '11', '25', '14', '25', '7', '20', '9',\n",
       "        '28', '9', '23', '11', '23', '11', '30'],\n",
       "       ['', 'Week 2', '9', '30', '15', '26', '9', '27', '14', '31', '8',\n",
       "        '22', '10', '26', '12', '28'],\n",
       "       ['', 'Week 3', '6', '28', '12', '31', '14', '27', '9', '32', '7',\n",
       "        '23', '11', '32', '7', '23'],\n",
       "       ['', 'Week 4', '7', '28', '15', '29', '11', '22', '14', '21',\n",
       "        '12', '27', '12', '31', '14', '25'],\n",
       "       ['January', 'Week 1', '5', '22', '8', '21', '8', '20', '7', '19',\n",
       "        '8', '22', '2', '7', '18', '4'],\n",
       "       ['', 'Week 2', '4', '22', '6', '20', '6', '21', '4', '22', '4',\n",
       "        '21', '3', '3', '20', '5'],\n",
       "       ['', 'Week 3', '5', '21', '7', '18', '8', '21', '4', '19', '4',\n",
       "        '18', '3', '7', '18', '4'],\n",
       "       ['', 'Week 4', '6', '19', '2', '18', '7', '20', '8', '22', '8',\n",
       "        '19', '7', '4', '20', '8'],\n",
       "       ['February', 'Week 1', '8', '22', '7', '19', '-10', '18', '11',\n",
       "        '19', '12', '20', '12', '71', '21', '12'],\n",
       "       ['', 'Week 2', '8', '19', '10', '20', '12', '18', '10', '18',\n",
       "        '10', '22', '8', '11', '19', '7'],\n",
       "       ['', 'Week 3', '9', '22', '11', '19', '7', '21', '11', '21', '9',\n",
       "        '19', '7', '10', '19', '10'],\n",
       "       ['', 'Week 4', '11', '21', '7', '20', '11', '21', '12', '18',\n",
       "        '11', '20', '12', '7', '21', '9']], dtype='<U16')"
      ]
     },
     "execution_count": 8,
     "metadata": {},
     "output_type": "execute_result"
    }
   ],
   "source": [
    "d1 = data[2:,:]\n",
    "d1"
   ]
  },
  {
   "cell_type": "code",
   "execution_count": 9,
   "id": "e0b60f73",
   "metadata": {},
   "outputs": [
    {
     "data": {
      "text/plain": [
       "array([False,  True,  True,  True, False,  True,  True,  True, False,\n",
       "        True,  True,  True, False,  True,  True,  True])"
      ]
     },
     "execution_count": 9,
     "metadata": {},
     "output_type": "execute_result"
    }
   ],
   "source": [
    "#condition for blank space in column 1\n",
    "c = d1[:,0]==''\n",
    "c"
   ]
  },
  {
   "cell_type": "code",
   "execution_count": 10,
   "id": "57ddafbb",
   "metadata": {},
   "outputs": [],
   "source": [
    "#Filling of column 1 with months name\n",
    "d1[1:4,0:1] = 'November'\n",
    "d1[5:8,0:1] = 'December'\n",
    "d1[9:12,0:1]= 'January'\n",
    "d1[13:16,0:1] = 'February'"
   ]
  },
  {
   "cell_type": "code",
   "execution_count": 11,
   "id": "4ecdcf4b",
   "metadata": {},
   "outputs": [
    {
     "data": {
      "text/plain": [
       "array([['November', 'Week 1', '11', '20', '10', '20', '9', '30', '14',\n",
       "        '24', '6', '29', '12', '21', '12', '27'],\n",
       "       ['November', 'Week 2', '13', '23', '13', '29', '8', '22', '-13',\n",
       "        '32', '6', '21', '14', '23', '11', '28'],\n",
       "       ['November', 'Week 3', '6', '28', '14', '21', '9', '32', '8',\n",
       "        '28', '13', '30', '6', '31', '6', '23'],\n",
       "       ['November', 'Week 4', '6', '23', '8', '23', '14', '24', '6',\n",
       "        '29', '13', '25', '12', '24', '11', '27'],\n",
       "       ['December', 'Week 1', '11', '25', '14', '25', '7', '20', '9',\n",
       "        '28', '9', '23', '11', '23', '11', '30'],\n",
       "       ['December', 'Week 2', '9', '30', '15', '26', '9', '27', '14',\n",
       "        '31', '8', '22', '10', '26', '12', '28'],\n",
       "       ['December', 'Week 3', '6', '28', '12', '31', '14', '27', '9',\n",
       "        '32', '7', '23', '11', '32', '7', '23'],\n",
       "       ['December', 'Week 4', '7', '28', '15', '29', '11', '22', '14',\n",
       "        '21', '12', '27', '12', '31', '14', '25'],\n",
       "       ['January', 'Week 1', '5', '22', '8', '21', '8', '20', '7', '19',\n",
       "        '8', '22', '2', '7', '18', '4'],\n",
       "       ['January', 'Week 2', '4', '22', '6', '20', '6', '21', '4', '22',\n",
       "        '4', '21', '3', '3', '20', '5'],\n",
       "       ['January', 'Week 3', '5', '21', '7', '18', '8', '21', '4', '19',\n",
       "        '4', '18', '3', '7', '18', '4'],\n",
       "       ['January', 'Week 4', '6', '19', '2', '18', '7', '20', '8', '22',\n",
       "        '8', '19', '7', '4', '20', '8'],\n",
       "       ['February', 'Week 1', '8', '22', '7', '19', '-10', '18', '11',\n",
       "        '19', '12', '20', '12', '71', '21', '12'],\n",
       "       ['February', 'Week 2', '8', '19', '10', '20', '12', '18', '10',\n",
       "        '18', '10', '22', '8', '11', '19', '7'],\n",
       "       ['February', 'Week 3', '9', '22', '11', '19', '7', '21', '11',\n",
       "        '21', '9', '19', '7', '10', '19', '10'],\n",
       "       ['February', 'Week 4', '11', '21', '7', '20', '11', '21', '12',\n",
       "        '18', '11', '20', '12', '7', '21', '9']], dtype='<U16')"
      ]
     },
     "execution_count": 11,
     "metadata": {},
     "output_type": "execute_result"
    }
   ],
   "source": [
    "d1"
   ]
  },
  {
   "cell_type": "code",
   "execution_count": 12,
   "id": "d784d46b",
   "metadata": {},
   "outputs": [
    {
     "data": {
      "text/plain": [
       "array([['Month', 'Week', 'Monday', '', 'Tuesday', '', 'Wednesday', '',\n",
       "        'Thursday', '', 'Friday', '', 'Saturday', '', 'Sunday', ''],\n",
       "       ['', '', 'Min Temp', 'Max Temp', 'Min Temp', 'Max Temp',\n",
       "        'Min Temp', 'Max Temp', 'Min Temp', 'Max Temp', 'Min Temp',\n",
       "        'Max Temp', 'Min Temp', 'Max Temp', 'Min Temp', 'Max Temp'],\n",
       "       ['November', 'Week 1', '11', '20', '10', '20', '9', '30', '14',\n",
       "        '24', '6', '29', '12', '21', '12', '27'],\n",
       "       ['November', 'Week 2', '13', '23', '13', '29', '8', '22', '-13',\n",
       "        '32', '6', '21', '14', '23', '11', '28'],\n",
       "       ['November', 'Week 3', '6', '28', '14', '21', '9', '32', '8',\n",
       "        '28', '13', '30', '6', '31', '6', '23'],\n",
       "       ['November', 'Week 4', '6', '23', '8', '23', '14', '24', '6',\n",
       "        '29', '13', '25', '12', '24', '11', '27'],\n",
       "       ['December', 'Week 1', '11', '25', '14', '25', '7', '20', '9',\n",
       "        '28', '9', '23', '11', '23', '11', '30'],\n",
       "       ['December', 'Week 2', '9', '30', '15', '26', '9', '27', '14',\n",
       "        '31', '8', '22', '10', '26', '12', '28'],\n",
       "       ['December', 'Week 3', '6', '28', '12', '31', '14', '27', '9',\n",
       "        '32', '7', '23', '11', '32', '7', '23'],\n",
       "       ['December', 'Week 4', '7', '28', '15', '29', '11', '22', '14',\n",
       "        '21', '12', '27', '12', '31', '14', '25'],\n",
       "       ['January', 'Week 1', '5', '22', '8', '21', '8', '20', '7', '19',\n",
       "        '8', '22', '2', '7', '18', '4'],\n",
       "       ['January', 'Week 2', '4', '22', '6', '20', '6', '21', '4', '22',\n",
       "        '4', '21', '3', '3', '20', '5'],\n",
       "       ['January', 'Week 3', '5', '21', '7', '18', '8', '21', '4', '19',\n",
       "        '4', '18', '3', '7', '18', '4'],\n",
       "       ['January', 'Week 4', '6', '19', '2', '18', '7', '20', '8', '22',\n",
       "        '8', '19', '7', '4', '20', '8'],\n",
       "       ['February', 'Week 1', '8', '22', '7', '19', '-10', '18', '11',\n",
       "        '19', '12', '20', '12', '71', '21', '12'],\n",
       "       ['February', 'Week 2', '8', '19', '10', '20', '12', '18', '10',\n",
       "        '18', '10', '22', '8', '11', '19', '7'],\n",
       "       ['February', 'Week 3', '9', '22', '11', '19', '7', '21', '11',\n",
       "        '21', '9', '19', '7', '10', '19', '10'],\n",
       "       ['February', 'Week 4', '11', '21', '7', '20', '11', '21', '12',\n",
       "        '18', '11', '20', '12', '7', '21', '9']], dtype='<U16')"
      ]
     },
     "execution_count": 12,
     "metadata": {},
     "output_type": "execute_result"
    }
   ],
   "source": [
    "#vertical stacking to add tilte\n",
    "d2 = np.vstack((data[0:2,:],d1))\n",
    "d2"
   ]
  },
  {
   "cell_type": "code",
   "execution_count": 13,
   "id": "fd1447ea",
   "metadata": {},
   "outputs": [
    {
     "data": {
      "text/plain": [
       "array([[False, False, False,  True, False,  True, False,  True, False,\n",
       "         True, False,  True, False,  True, False,  True]])"
      ]
     },
     "execution_count": 13,
     "metadata": {},
     "output_type": "execute_result"
    }
   ],
   "source": [
    "#condition for blank space in row 1\n",
    "c2 = data[0:1,:] ==''\n",
    "c2"
   ]
  },
  {
   "cell_type": "code",
   "execution_count": 14,
   "id": "05dadf6f",
   "metadata": {},
   "outputs": [],
   "source": [
    "#Filling of row 1 with day name\n",
    "data[0:1,3:4] = 'Monday'\n",
    "data[0:1,5:6] = 'Tuesday'\n",
    "data[0:1,7:8] = 'Wednesday'\n",
    "data[0:1,9:10] = 'Thursday'\n",
    "data[0:1,11:12] = 'Friday'\n",
    "data[0:1,13:14] = 'Saturday'\n",
    "data[0:1,15:16] = 'Sunday'"
   ]
  },
  {
   "cell_type": "code",
   "execution_count": 15,
   "id": "49f0f1e1",
   "metadata": {},
   "outputs": [
    {
     "data": {
      "text/plain": [
       "array([['Month', 'Week', 'Monday', 'Monday', 'Tuesday', 'Tuesday',\n",
       "        'Wednesday', 'Wednesday', 'Thursday', 'Thursday', 'Friday',\n",
       "        'Friday', 'Saturday', 'Saturday', 'Sunday', 'Sunday'],\n",
       "       ['', '', 'Min Temp', 'Max Temp', 'Min Temp', 'Max Temp',\n",
       "        'Min Temp', 'Max Temp', 'Min Temp', 'Max Temp', 'Min Temp',\n",
       "        'Max Temp', 'Min Temp', 'Max Temp', 'Min Temp', 'Max Temp'],\n",
       "       ['November', 'Week 1', '11', '20', '10', '20', '9', '30', '14',\n",
       "        '24', '6', '29', '12', '21', '12', '27'],\n",
       "       ['November', 'Week 2', '13', '23', '13', '29', '8', '22', '-13',\n",
       "        '32', '6', '21', '14', '23', '11', '28'],\n",
       "       ['November', 'Week 3', '6', '28', '14', '21', '9', '32', '8',\n",
       "        '28', '13', '30', '6', '31', '6', '23'],\n",
       "       ['November', 'Week 4', '6', '23', '8', '23', '14', '24', '6',\n",
       "        '29', '13', '25', '12', '24', '11', '27'],\n",
       "       ['December', 'Week 1', '11', '25', '14', '25', '7', '20', '9',\n",
       "        '28', '9', '23', '11', '23', '11', '30'],\n",
       "       ['December', 'Week 2', '9', '30', '15', '26', '9', '27', '14',\n",
       "        '31', '8', '22', '10', '26', '12', '28'],\n",
       "       ['December', 'Week 3', '6', '28', '12', '31', '14', '27', '9',\n",
       "        '32', '7', '23', '11', '32', '7', '23'],\n",
       "       ['December', 'Week 4', '7', '28', '15', '29', '11', '22', '14',\n",
       "        '21', '12', '27', '12', '31', '14', '25'],\n",
       "       ['January', 'Week 1', '5', '22', '8', '21', '8', '20', '7', '19',\n",
       "        '8', '22', '2', '7', '18', '4'],\n",
       "       ['January', 'Week 2', '4', '22', '6', '20', '6', '21', '4', '22',\n",
       "        '4', '21', '3', '3', '20', '5'],\n",
       "       ['January', 'Week 3', '5', '21', '7', '18', '8', '21', '4', '19',\n",
       "        '4', '18', '3', '7', '18', '4'],\n",
       "       ['January', 'Week 4', '6', '19', '2', '18', '7', '20', '8', '22',\n",
       "        '8', '19', '7', '4', '20', '8'],\n",
       "       ['February', 'Week 1', '8', '22', '7', '19', '-10', '18', '11',\n",
       "        '19', '12', '20', '12', '71', '21', '12'],\n",
       "       ['February', 'Week 2', '8', '19', '10', '20', '12', '18', '10',\n",
       "        '18', '10', '22', '8', '11', '19', '7'],\n",
       "       ['February', 'Week 3', '9', '22', '11', '19', '7', '21', '11',\n",
       "        '21', '9', '19', '7', '10', '19', '10'],\n",
       "       ['February', 'Week 4', '11', '21', '7', '20', '11', '21', '12',\n",
       "        '18', '11', '20', '12', '7', '21', '9']], dtype='<U16')"
      ]
     },
     "execution_count": 15,
     "metadata": {},
     "output_type": "execute_result"
    }
   ],
   "source": [
    "data"
   ]
  },
  {
   "cell_type": "markdown",
   "id": "1b3bd4eb",
   "metadata": {},
   "source": [
    "# 2. Write the dimensions and shape of the NumPy array that you have created.\n",
    "1. Use ndim function to find the dimension of array.\n",
    "\n",
    "2. use the shape method to find the shape of array."
   ]
  },
  {
   "cell_type": "code",
   "execution_count": 16,
   "id": "df1f1ea9",
   "metadata": {},
   "outputs": [
    {
     "data": {
      "text/plain": [
       "2"
      ]
     },
     "execution_count": 16,
     "metadata": {},
     "output_type": "execute_result"
    }
   ],
   "source": [
    "#Dimmension\n",
    "dim = np.ndim(data)\n",
    "dim"
   ]
  },
  {
   "cell_type": "code",
   "execution_count": 17,
   "id": "c85720bb",
   "metadata": {},
   "outputs": [
    {
     "data": {
      "text/plain": [
       "(18, 16)"
      ]
     },
     "execution_count": 17,
     "metadata": {},
     "output_type": "execute_result"
    }
   ],
   "source": [
    "#shape of data\n",
    "data.shape"
   ]
  },
  {
   "cell_type": "markdown",
   "id": "3ad90623",
   "metadata": {},
   "source": [
    "# 3. Print the daily temperatures for the first week of each month.\n",
    "1. make a condition, that is true for Week 1 only.\n",
    "\n",
    "2. Find the data for true condition only."
   ]
  },
  {
   "cell_type": "code",
   "execution_count": 18,
   "id": "e62ccf0c",
   "metadata": {},
   "outputs": [
    {
     "data": {
      "text/plain": [
       "array([['Month', 'Week', 'Monday', 'Monday', 'Tuesday', 'Tuesday',\n",
       "        'Wednesday', 'Wednesday', 'Thursday', 'Thursday', 'Friday',\n",
       "        'Friday', 'Saturday', 'Saturday', 'Sunday', 'Sunday'],\n",
       "       ['', '', 'Min Temp', 'Max Temp', 'Min Temp', 'Max Temp',\n",
       "        'Min Temp', 'Max Temp', 'Min Temp', 'Max Temp', 'Min Temp',\n",
       "        'Max Temp', 'Min Temp', 'Max Temp', 'Min Temp', 'Max Temp'],\n",
       "       ['November', 'Week 1', '11', '20', '10', '20', '9', '30', '14',\n",
       "        '24', '6', '29', '12', '21', '12', '27']], dtype='<U16')"
      ]
     },
     "execution_count": 18,
     "metadata": {},
     "output_type": "execute_result"
    }
   ],
   "source": [
    "data[0:3]"
   ]
  },
  {
   "cell_type": "code",
   "execution_count": 19,
   "id": "0e682d5d",
   "metadata": {},
   "outputs": [
    {
     "data": {
      "text/plain": [
       "array([False, False,  True, False, False, False,  True, False, False,\n",
       "       False,  True, False, False, False,  True, False, False, False])"
      ]
     },
     "execution_count": 19,
     "metadata": {},
     "output_type": "execute_result"
    }
   ],
   "source": [
    "#condtion for Week 1\n",
    "cond_week1 = data[:,1]=='Week 1'\n",
    "cond_week1"
   ]
  },
  {
   "cell_type": "code",
   "execution_count": 20,
   "id": "dd0e0594",
   "metadata": {},
   "outputs": [
    {
     "data": {
      "text/plain": [
       "array([['November', 'Week 1', '11', '20', '10', '20', '9', '30', '14',\n",
       "        '24', '6', '29', '12', '21', '12', '27'],\n",
       "       ['December', 'Week 1', '11', '25', '14', '25', '7', '20', '9',\n",
       "        '28', '9', '23', '11', '23', '11', '30'],\n",
       "       ['January', 'Week 1', '5', '22', '8', '21', '8', '20', '7', '19',\n",
       "        '8', '22', '2', '7', '18', '4'],\n",
       "       ['February', 'Week 1', '8', '22', '7', '19', '-10', '18', '11',\n",
       "        '19', '12', '20', '12', '71', '21', '12']], dtype='<U16')"
      ]
     },
     "execution_count": 20,
     "metadata": {},
     "output_type": "execute_result"
    }
   ],
   "source": [
    "data_1 = data[cond_week1]\n",
    "data_1"
   ]
  },
  {
   "cell_type": "code",
   "execution_count": 21,
   "id": "4e83b064",
   "metadata": {},
   "outputs": [
    {
     "data": {
      "text/plain": [
       "array([['Month', 'Week', 'Monday', 'Monday', 'Tuesday', 'Tuesday',\n",
       "        'Wednesday', 'Wednesday', 'Thursday', 'Thursday', 'Friday',\n",
       "        'Friday', 'Saturday', 'Saturday', 'Sunday', 'Sunday'],\n",
       "       ['', '', 'Min Temp', 'Max Temp', 'Min Temp', 'Max Temp',\n",
       "        'Min Temp', 'Max Temp', 'Min Temp', 'Max Temp', 'Min Temp',\n",
       "        'Max Temp', 'Min Temp', 'Max Temp', 'Min Temp', 'Max Temp'],\n",
       "       ['November', 'Week 1', '11', '20', '10', '20', '9', '30', '14',\n",
       "        '24', '6', '29', '12', '21', '12', '27'],\n",
       "       ['December', 'Week 1', '11', '25', '14', '25', '7', '20', '9',\n",
       "        '28', '9', '23', '11', '23', '11', '30'],\n",
       "       ['January', 'Week 1', '5', '22', '8', '21', '8', '20', '7', '19',\n",
       "        '8', '22', '2', '7', '18', '4'],\n",
       "       ['February', 'Week 1', '8', '22', '7', '19', '-10', '18', '11',\n",
       "        '19', '12', '20', '12', '71', '21', '12']], dtype='<U16')"
      ]
     },
     "execution_count": 21,
     "metadata": {},
     "output_type": "execute_result"
    }
   ],
   "source": [
    "#Vertical stacking\n",
    "week1_temp = np.vstack((data[0:2,:],data_1))\n",
    "week1_temp"
   ]
  },
  {
   "cell_type": "markdown",
   "id": "b826f732",
   "metadata": {},
   "source": [
    "# 4. Print the temperatures for Tuesday of each month.\n",
    "1. slicing of data.\n",
    "\n",
    "2. Horizontal stacking."
   ]
  },
  {
   "cell_type": "code",
   "execution_count": 22,
   "id": "a548caec",
   "metadata": {},
   "outputs": [
    {
     "data": {
      "text/plain": [
       "array([['Tuesday', 'Tuesday'],\n",
       "       ['Min Temp', 'Max Temp'],\n",
       "       ['10', '20'],\n",
       "       ['13', '29'],\n",
       "       ['14', '21'],\n",
       "       ['8', '23'],\n",
       "       ['14', '25'],\n",
       "       ['15', '26'],\n",
       "       ['12', '31'],\n",
       "       ['15', '29'],\n",
       "       ['8', '21'],\n",
       "       ['6', '20'],\n",
       "       ['7', '18'],\n",
       "       ['2', '18'],\n",
       "       ['7', '19'],\n",
       "       ['10', '20'],\n",
       "       ['11', '19'],\n",
       "       ['7', '20']], dtype='<U16')"
      ]
     },
     "execution_count": 22,
     "metadata": {},
     "output_type": "execute_result"
    }
   ],
   "source": [
    "tuesday_temp = data[:,4:6]\n",
    "tuesday_temp"
   ]
  },
  {
   "cell_type": "code",
   "execution_count": 23,
   "id": "eee8a05b",
   "metadata": {},
   "outputs": [
    {
     "data": {
      "text/plain": [
       "array([['Month', 'Week', 'Tuesday', 'Tuesday'],\n",
       "       ['', '', 'Min Temp', 'Max Temp'],\n",
       "       ['November', 'Week 1', '10', '20'],\n",
       "       ['November', 'Week 2', '13', '29'],\n",
       "       ['November', 'Week 3', '14', '21'],\n",
       "       ['November', 'Week 4', '8', '23'],\n",
       "       ['December', 'Week 1', '14', '25'],\n",
       "       ['December', 'Week 2', '15', '26'],\n",
       "       ['December', 'Week 3', '12', '31'],\n",
       "       ['December', 'Week 4', '15', '29'],\n",
       "       ['January', 'Week 1', '8', '21'],\n",
       "       ['January', 'Week 2', '6', '20'],\n",
       "       ['January', 'Week 3', '7', '18'],\n",
       "       ['January', 'Week 4', '2', '18'],\n",
       "       ['February', 'Week 1', '7', '19'],\n",
       "       ['February', 'Week 2', '10', '20'],\n",
       "       ['February', 'Week 3', '11', '19'],\n",
       "       ['February', 'Week 4', '7', '20']], dtype='<U16')"
      ]
     },
     "execution_count": 23,
     "metadata": {},
     "output_type": "execute_result"
    }
   ],
   "source": [
    "np.hstack((data[:,0:2],tuesday_temp))"
   ]
  },
  {
   "cell_type": "markdown",
   "id": "a5ecc2ab",
   "metadata": {},
   "source": [
    "# 5. Print only the maximum temperature for all the weekdays of Dec and Feb."
   ]
  },
  {
   "cell_type": "markdown",
   "id": "08672be4",
   "metadata": {},
   "source": [
    "1. Find maximum temperature for all months and weeks by slicing and stacking\n",
    "\n",
    "2. mask for dec and feb\n"
   ]
  },
  {
   "cell_type": "code",
   "execution_count": 24,
   "id": "f0120070",
   "metadata": {},
   "outputs": [
    {
     "data": {
      "text/plain": [
       "array([['', '', 'Min Temp', 'Max Temp', 'Min Temp', 'Max Temp',\n",
       "        'Min Temp', 'Max Temp', 'Min Temp', 'Max Temp', 'Min Temp',\n",
       "        'Max Temp', 'Min Temp', 'Max Temp', 'Min Temp', 'Max Temp']],\n",
       "      dtype='<U16')"
      ]
     },
     "execution_count": 24,
     "metadata": {},
     "output_type": "execute_result"
    }
   ],
   "source": [
    "data[1:2]"
   ]
  },
  {
   "cell_type": "code",
   "execution_count": 25,
   "id": "304bf3a0",
   "metadata": {},
   "outputs": [
    {
     "data": {
      "text/plain": [
       "array([['Month', 'Week', 'Monday', 'Tuesday', 'Wednesday', 'Thursday',\n",
       "        'Friday', 'Saturday', 'Sunday'],\n",
       "       ['', '', 'Max Temp', 'Max Temp', 'Max Temp', 'Max Temp',\n",
       "        'Max Temp', 'Max Temp', 'Max Temp'],\n",
       "       ['November', 'Week 1', '20', '20', '30', '24', '29', '21', '27'],\n",
       "       ['November', 'Week 2', '23', '29', '22', '32', '21', '23', '28'],\n",
       "       ['November', 'Week 3', '28', '21', '32', '28', '30', '31', '23'],\n",
       "       ['November', 'Week 4', '23', '23', '24', '29', '25', '24', '27'],\n",
       "       ['December', 'Week 1', '25', '25', '20', '28', '23', '23', '30'],\n",
       "       ['December', 'Week 2', '30', '26', '27', '31', '22', '26', '28'],\n",
       "       ['December', 'Week 3', '28', '31', '27', '32', '23', '32', '23'],\n",
       "       ['December', 'Week 4', '28', '29', '22', '21', '27', '31', '25'],\n",
       "       ['January', 'Week 1', '22', '21', '20', '19', '22', '7', '4'],\n",
       "       ['January', 'Week 2', '22', '20', '21', '22', '21', '3', '5'],\n",
       "       ['January', 'Week 3', '21', '18', '21', '19', '18', '7', '4'],\n",
       "       ['January', 'Week 4', '19', '18', '20', '22', '19', '4', '8'],\n",
       "       ['February', 'Week 1', '22', '19', '18', '19', '20', '71', '12'],\n",
       "       ['February', 'Week 2', '19', '20', '18', '18', '22', '11', '7'],\n",
       "       ['February', 'Week 3', '22', '19', '21', '21', '19', '10', '10'],\n",
       "       ['February', 'Week 4', '21', '20', '21', '18', '20', '7', '9']],\n",
       "      dtype='<U16')"
      ]
     },
     "execution_count": 25,
     "metadata": {},
     "output_type": "execute_result"
    }
   ],
   "source": [
    "max_temp = np.hstack((data[:,0:2],data[:,3::2]))\n",
    "max_temp"
   ]
  },
  {
   "cell_type": "code",
   "execution_count": 26,
   "id": "06f3580c",
   "metadata": {},
   "outputs": [],
   "source": [
    "#condition for december temperature\n",
    "\n",
    "cond_dec =max_temp[:,0]=='December' \n",
    "dec_temp = max_temp[cond_dec]"
   ]
  },
  {
   "cell_type": "code",
   "execution_count": 27,
   "id": "202003b5",
   "metadata": {},
   "outputs": [],
   "source": [
    "#Condition for february temperature\n",
    "\n",
    "cond_feb = max_temp[0:,0]== 'February'\n",
    "feb_temp = max_temp[cond_feb]"
   ]
  },
  {
   "cell_type": "code",
   "execution_count": 28,
   "id": "2a6a66eb",
   "metadata": {},
   "outputs": [
    {
     "data": {
      "text/plain": [
       "array([['Month', 'Week', 'Monday', 'Tuesday', 'Wednesday', 'Thursday',\n",
       "        'Friday', 'Saturday', 'Sunday'],\n",
       "       ['', '', 'Max Temp', 'Max Temp', 'Max Temp', 'Max Temp',\n",
       "        'Max Temp', 'Max Temp', 'Max Temp'],\n",
       "       ['December', 'Week 1', '25', '25', '20', '28', '23', '23', '30'],\n",
       "       ['December', 'Week 2', '30', '26', '27', '31', '22', '26', '28'],\n",
       "       ['December', 'Week 3', '28', '31', '27', '32', '23', '32', '23'],\n",
       "       ['December', 'Week 4', '28', '29', '22', '21', '27', '31', '25'],\n",
       "       ['February', 'Week 1', '22', '19', '18', '19', '20', '71', '12'],\n",
       "       ['February', 'Week 2', '19', '20', '18', '18', '22', '11', '7'],\n",
       "       ['February', 'Week 3', '22', '19', '21', '21', '19', '10', '10'],\n",
       "       ['February', 'Week 4', '21', '20', '21', '18', '20', '7', '9']],\n",
       "      dtype='<U16')"
      ]
     },
     "execution_count": 28,
     "metadata": {},
     "output_type": "execute_result"
    }
   ],
   "source": [
    "#Vertical stacking for title, december and february\n",
    "\n",
    "np.vstack(((max_temp[0:2,:],dec_temp,feb_temp)))"
   ]
  },
  {
   "cell_type": "markdown",
   "id": "dd019411",
   "metadata": {},
   "source": [
    "# 6. Print all the days along with the week number in November when the minimum temperature was less than 8 degrees."
   ]
  },
  {
   "cell_type": "code",
   "execution_count": 29,
   "id": "3105172b",
   "metadata": {},
   "outputs": [
    {
     "data": {
      "text/plain": [
       "array([['Month', 'Week', 'Monday', 'Tuesday', 'Wednesday', 'Thursday',\n",
       "        'Friday', 'Saturday', 'Sunday'],\n",
       "       ['', '', 'Min Temp', 'Min Temp', 'Min Temp', 'Min Temp',\n",
       "        'Min Temp', 'Min Temp', 'Min Temp'],\n",
       "       ['November', 'Week 1', '11', '10', '9', '14', '6', '12', '12'],\n",
       "       ['November', 'Week 2', '13', '13', '8', '-13', '6', '14', '11'],\n",
       "       ['November', 'Week 3', '6', '14', '9', '8', '13', '6', '6'],\n",
       "       ['November', 'Week 4', '6', '8', '14', '6', '13', '12', '11'],\n",
       "       ['December', 'Week 1', '11', '14', '7', '9', '9', '11', '11'],\n",
       "       ['December', 'Week 2', '9', '15', '9', '14', '8', '10', '12'],\n",
       "       ['December', 'Week 3', '6', '12', '14', '9', '7', '11', '7'],\n",
       "       ['December', 'Week 4', '7', '15', '11', '14', '12', '12', '14'],\n",
       "       ['January', 'Week 1', '5', '8', '8', '7', '8', '2', '18'],\n",
       "       ['January', 'Week 2', '4', '6', '6', '4', '4', '3', '20'],\n",
       "       ['January', 'Week 3', '5', '7', '8', '4', '4', '3', '18'],\n",
       "       ['January', 'Week 4', '6', '2', '7', '8', '8', '7', '20'],\n",
       "       ['February', 'Week 1', '8', '7', '-10', '11', '12', '12', '21'],\n",
       "       ['February', 'Week 2', '8', '10', '12', '10', '10', '8', '19'],\n",
       "       ['February', 'Week 3', '9', '11', '7', '11', '9', '7', '19'],\n",
       "       ['February', 'Week 4', '11', '7', '11', '12', '11', '12', '21']],\n",
       "      dtype='<U16')"
      ]
     },
     "execution_count": 29,
     "metadata": {},
     "output_type": "execute_result"
    }
   ],
   "source": [
    "#creat an array for min temp\n",
    "min_temp = np.hstack((data[:,0:2],data[:,2::2]))\n",
    "min_temp"
   ]
  },
  {
   "cell_type": "code",
   "execution_count": 30,
   "id": "11d6ccdc",
   "metadata": {},
   "outputs": [
    {
     "data": {
      "text/plain": [
       "array([False, False,  True,  True,  True,  True, False, False, False,\n",
       "       False, False, False, False, False, False, False, False, False])"
      ]
     },
     "execution_count": 30,
     "metadata": {},
     "output_type": "execute_result"
    }
   ],
   "source": [
    "#mask for nov\n",
    "cond_nov = min_temp[:,0]=='November'\n",
    "cond_nov"
   ]
  },
  {
   "cell_type": "code",
   "execution_count": 31,
   "id": "ec3b58e7",
   "metadata": {},
   "outputs": [
    {
     "data": {
      "text/plain": [
       "array([['November', 'Week 1', '11', '10', '9', '14', '6', '12', '12'],\n",
       "       ['November', 'Week 2', '13', '13', '8', '-13', '6', '14', '11'],\n",
       "       ['November', 'Week 3', '6', '14', '9', '8', '13', '6', '6'],\n",
       "       ['November', 'Week 4', '6', '8', '14', '6', '13', '12', '11']],\n",
       "      dtype='<U16')"
      ]
     },
     "execution_count": 31,
     "metadata": {},
     "output_type": "execute_result"
    }
   ],
   "source": [
    "#min_temp for Nov\n",
    "min_temp_nov = min_temp[cond_nov]\n",
    "min_temp_nov"
   ]
  },
  {
   "cell_type": "code",
   "execution_count": 32,
   "id": "0c26db8d",
   "metadata": {},
   "outputs": [
    {
     "data": {
      "text/plain": [
       "array([[ 11,  10,   9,  14,   6,  12,  12],\n",
       "       [ 13,  13,   8, -13,   6,  14,  11],\n",
       "       [  6,  14,   9,   8,  13,   6,   6],\n",
       "       [  6,   8,  14,   6,  13,  12,  11]])"
      ]
     },
     "execution_count": 32,
     "metadata": {},
     "output_type": "execute_result"
    }
   ],
   "source": [
    "#data type change into int\n",
    "t = min_temp_nov[:,2:].astype(int)\n",
    "t"
   ]
  },
  {
   "cell_type": "code",
   "execution_count": 33,
   "id": "9aa1cd94",
   "metadata": {},
   "outputs": [
    {
     "data": {
      "text/plain": [
       "array([11, 10,  9, 14,  6, 12, 12])"
      ]
     },
     "execution_count": 33,
     "metadata": {},
     "output_type": "execute_result"
    }
   ],
   "source": [
    "#Week1 data in 1D array\n",
    "week_1 = t[0:1,:].reshape(7,)\n",
    "week_1"
   ]
  },
  {
   "cell_type": "code",
   "execution_count": 34,
   "id": "dd1d2fdb",
   "metadata": {},
   "outputs": [
    {
     "data": {
      "text/plain": [
       "array([ 13,  13,   8, -13,   6,  14,  11])"
      ]
     },
     "execution_count": 34,
     "metadata": {},
     "output_type": "execute_result"
    }
   ],
   "source": [
    "#Week2 data in 1D array\n",
    "week_2 = t[1:2,:].reshape(7,)\n",
    "week_2"
   ]
  },
  {
   "cell_type": "code",
   "execution_count": 35,
   "id": "382927be",
   "metadata": {},
   "outputs": [
    {
     "data": {
      "text/plain": [
       "array([ 6, 14,  9,  8, 13,  6,  6])"
      ]
     },
     "execution_count": 35,
     "metadata": {},
     "output_type": "execute_result"
    }
   ],
   "source": [
    "#Week3 data in 1D array\n",
    "week_3 = t[2:3,:].reshape(7,)\n",
    "week_3"
   ]
  },
  {
   "cell_type": "code",
   "execution_count": 36,
   "id": "92e0529a",
   "metadata": {},
   "outputs": [
    {
     "data": {
      "text/plain": [
       "array([ 6,  8, 14,  6, 13, 12, 11])"
      ]
     },
     "execution_count": 36,
     "metadata": {},
     "output_type": "execute_result"
    }
   ],
   "source": [
    "#Week4 data in 1D array\n",
    "week_4 = t[3:4,:].reshape(7,)\n",
    "week_4"
   ]
  },
  {
   "cell_type": "code",
   "execution_count": 37,
   "id": "5f648419",
   "metadata": {},
   "outputs": [
    {
     "name": "stdout",
     "output_type": "stream",
     "text": [
      "['', '', '', '', 6, '', '']\n"
     ]
    }
   ],
   "source": [
    "#Condition for check where temp <8 for week1\n",
    "#write temp<8 in a list\n",
    "w1 = []\n",
    "for n in week_1:\n",
    "    if n<8:\n",
    "        w1.append(n)\n",
    "    else:\n",
    "        w1.append('')\n",
    "print(w1)"
   ]
  },
  {
   "cell_type": "code",
   "execution_count": 38,
   "id": "9b3a68e7",
   "metadata": {},
   "outputs": [
    {
     "name": "stdout",
     "output_type": "stream",
     "text": [
      "['', '', '', -13, 6, '', '']\n"
     ]
    }
   ],
   "source": [
    "#Condition for check where temp <8 for week2\n",
    "#write temp<8 in a list\n",
    "w2 = []\n",
    "for n in week_2:\n",
    "    if n<8:\n",
    "        w2.append(n)\n",
    "    else:\n",
    "        w2.append('')\n",
    "print(w2)"
   ]
  },
  {
   "cell_type": "code",
   "execution_count": 39,
   "id": "7b6711b0",
   "metadata": {},
   "outputs": [
    {
     "name": "stdout",
     "output_type": "stream",
     "text": [
      "[6, '', '', '', '', 6, 6]\n"
     ]
    }
   ],
   "source": [
    "#Condition for check where temp <8 for week3\n",
    "#write temp<8 in a list\n",
    "w3 = []\n",
    "for n in week_3:\n",
    "    if n<8:\n",
    "        w3.append(n)\n",
    "    else:\n",
    "        w3.append('')\n",
    "print(w3)"
   ]
  },
  {
   "cell_type": "code",
   "execution_count": 40,
   "id": "fff33da8",
   "metadata": {},
   "outputs": [
    {
     "name": "stdout",
     "output_type": "stream",
     "text": [
      "[6, '', '', 6, '', '', '']\n"
     ]
    }
   ],
   "source": [
    "#Condition for check where temp <8 for week4\n",
    "#write temp<8 in a list\n",
    "w4 = []\n",
    "for n in week_4:\n",
    "    if n<8:\n",
    "        w4.append(n)\n",
    "    else:\n",
    "        w4.append('')\n",
    "print(w4)"
   ]
  },
  {
   "cell_type": "code",
   "execution_count": 41,
   "id": "2014fb22",
   "metadata": {},
   "outputs": [],
   "source": [
    "#list to array conversion\n",
    "#1D to 2D array conversion\n",
    "w1 = np.array(w1).reshape(1,7)\n",
    "w2 = np.array(w2).reshape(1,7)\n",
    "w3 = np.array(w3).reshape(1,7)\n",
    "w4 = np.array(w4).reshape(1,7)"
   ]
  },
  {
   "cell_type": "code",
   "execution_count": 42,
   "id": "c0e93c36",
   "metadata": {},
   "outputs": [
    {
     "data": {
      "text/plain": [
       "array([['', '', '', '', '6', '', ''],\n",
       "       ['', '', '', '-13', '6', '', ''],\n",
       "       ['6', '', '', '', '', '6', '6'],\n",
       "       ['6', '', '', '6', '', '', '']], dtype='<U11')"
      ]
     },
     "execution_count": 42,
     "metadata": {},
     "output_type": "execute_result"
    }
   ],
   "source": [
    "# Vertical stcking of Week1, Week2, Week3 and Week4\n",
    "Nov_temp = np.vstack((((w1,w2,w3,w4))))\n",
    "Nov_temp"
   ]
  },
  {
   "cell_type": "code",
   "execution_count": 43,
   "id": "08145a60",
   "metadata": {},
   "outputs": [],
   "source": [
    "#Horizonbtal stacking\n",
    "temp_lesser_8 = np.hstack((min_temp_nov[:,0:2],Nov_temp))"
   ]
  },
  {
   "cell_type": "code",
   "execution_count": 44,
   "id": "3d49fbda",
   "metadata": {},
   "outputs": [
    {
     "data": {
      "text/plain": [
       "array([['November', 'Week 1', '', '', '', '', '6', '', ''],\n",
       "       ['November', 'Week 2', '', '', '', '-13', '6', '', ''],\n",
       "       ['November', 'Week 3', '6', '', '', '', '', '6', '6'],\n",
       "       ['November', 'Week 4', '6', '', '', '6', '', '', '']], dtype='<U16')"
      ]
     },
     "execution_count": 44,
     "metadata": {},
     "output_type": "execute_result"
    }
   ],
   "source": [
    "temp_lesser_8"
   ]
  },
  {
   "cell_type": "markdown",
   "id": "1aaa3925",
   "metadata": {},
   "source": [
    "# 7. Print all the weeks in Dec and Jan where the maximum temperature has crossed a threshold of 20 degrees.\n"
   ]
  },
  {
   "cell_type": "code",
   "execution_count": 45,
   "id": "6807e469",
   "metadata": {
    "scrolled": true
   },
   "outputs": [
    {
     "data": {
      "text/plain": [
       "array([['Month', 'Week', 'Monday', 'Tuesday', 'Wednesday', 'Thursday',\n",
       "        'Friday', 'Saturday', 'Sunday'],\n",
       "       ['', '', 'Max Temp', 'Max Temp', 'Max Temp', 'Max Temp',\n",
       "        'Max Temp', 'Max Temp', 'Max Temp'],\n",
       "       ['November', 'Week 1', '20', '20', '30', '24', '29', '21', '27'],\n",
       "       ['November', 'Week 2', '23', '29', '22', '32', '21', '23', '28'],\n",
       "       ['November', 'Week 3', '28', '21', '32', '28', '30', '31', '23'],\n",
       "       ['November', 'Week 4', '23', '23', '24', '29', '25', '24', '27'],\n",
       "       ['December', 'Week 1', '25', '25', '20', '28', '23', '23', '30'],\n",
       "       ['December', 'Week 2', '30', '26', '27', '31', '22', '26', '28'],\n",
       "       ['December', 'Week 3', '28', '31', '27', '32', '23', '32', '23'],\n",
       "       ['December', 'Week 4', '28', '29', '22', '21', '27', '31', '25'],\n",
       "       ['January', 'Week 1', '22', '21', '20', '19', '22', '7', '4'],\n",
       "       ['January', 'Week 2', '22', '20', '21', '22', '21', '3', '5'],\n",
       "       ['January', 'Week 3', '21', '18', '21', '19', '18', '7', '4'],\n",
       "       ['January', 'Week 4', '19', '18', '20', '22', '19', '4', '8'],\n",
       "       ['February', 'Week 1', '22', '19', '18', '19', '20', '71', '12'],\n",
       "       ['February', 'Week 2', '19', '20', '18', '18', '22', '11', '7'],\n",
       "       ['February', 'Week 3', '22', '19', '21', '21', '19', '10', '10'],\n",
       "       ['February', 'Week 4', '21', '20', '21', '18', '20', '7', '9']],\n",
       "      dtype='<U16')"
      ]
     },
     "execution_count": 45,
     "metadata": {},
     "output_type": "execute_result"
    }
   ],
   "source": [
    "max_temp"
   ]
  },
  {
   "cell_type": "code",
   "execution_count": 46,
   "id": "4f21c650",
   "metadata": {},
   "outputs": [],
   "source": [
    "cond_dec = max_temp[:,0]=='December'"
   ]
  },
  {
   "cell_type": "code",
   "execution_count": 47,
   "id": "156a0022",
   "metadata": {},
   "outputs": [],
   "source": [
    "cond_jan = max_temp[:,0]=='January'"
   ]
  },
  {
   "cell_type": "code",
   "execution_count": 48,
   "id": "7350752f",
   "metadata": {},
   "outputs": [],
   "source": [
    "dec_jan = np.vstack((max_temp[cond_dec],max_temp[cond_jan]))"
   ]
  },
  {
   "cell_type": "code",
   "execution_count": 49,
   "id": "e748c1e4",
   "metadata": {
    "scrolled": true
   },
   "outputs": [
    {
     "data": {
      "text/plain": [
       "array([['December', 'Week 1', '25', '25', '20', '28', '23', '23', '30'],\n",
       "       ['December', 'Week 2', '30', '26', '27', '31', '22', '26', '28'],\n",
       "       ['December', 'Week 3', '28', '31', '27', '32', '23', '32', '23'],\n",
       "       ['December', 'Week 4', '28', '29', '22', '21', '27', '31', '25'],\n",
       "       ['January', 'Week 1', '22', '21', '20', '19', '22', '7', '4'],\n",
       "       ['January', 'Week 2', '22', '20', '21', '22', '21', '3', '5'],\n",
       "       ['January', 'Week 3', '21', '18', '21', '19', '18', '7', '4'],\n",
       "       ['January', 'Week 4', '19', '18', '20', '22', '19', '4', '8']],\n",
       "      dtype='<U16')"
      ]
     },
     "execution_count": 49,
     "metadata": {},
     "output_type": "execute_result"
    }
   ],
   "source": [
    "dec_jan"
   ]
  },
  {
   "cell_type": "code",
   "execution_count": 50,
   "id": "dafdfcc1",
   "metadata": {},
   "outputs": [
    {
     "data": {
      "text/plain": [
       "array([25, 25, 20, 28, 23, 23, 30])"
      ]
     },
     "execution_count": 50,
     "metadata": {},
     "output_type": "execute_result"
    }
   ],
   "source": [
    "dec_w1 = dec_jan[0:1,2:].reshape(7,).astype(int)\n",
    "dec_w1"
   ]
  },
  {
   "cell_type": "code",
   "execution_count": 51,
   "id": "7bee1382",
   "metadata": {},
   "outputs": [],
   "source": [
    "dec_w2 = dec_jan[1:2,2:].reshape(7,).astype(int)\n",
    "dec_w3 = dec_jan[2:3,2:].reshape(7,).astype(int)\n",
    "dec_w4 = dec_jan[3:4,2:].reshape(7,).astype(int)"
   ]
  },
  {
   "cell_type": "code",
   "execution_count": 52,
   "id": "601a123a",
   "metadata": {},
   "outputs": [
    {
     "data": {
      "text/plain": [
       "array([28, 29, 22, 21, 27, 31, 25])"
      ]
     },
     "execution_count": 52,
     "metadata": {},
     "output_type": "execute_result"
    }
   ],
   "source": [
    "dec_w4"
   ]
  },
  {
   "cell_type": "code",
   "execution_count": 53,
   "id": "f15c2c94",
   "metadata": {},
   "outputs": [],
   "source": [
    "jan_w1 = dec_jan[4:5,2:].reshape(7,).astype(int)\n",
    "jan_w2 = dec_jan[5:6,2:].reshape(7,).astype(int)\n",
    "jan_w3 = dec_jan[6:7,2:].reshape(7,).astype(int)\n",
    "jan_w4 = dec_jan[7:8,2:].reshape(7,).astype(int)"
   ]
  },
  {
   "cell_type": "code",
   "execution_count": 54,
   "id": "8a4b3f73",
   "metadata": {},
   "outputs": [
    {
     "data": {
      "text/plain": [
       "array([22, 21, 20, 19, 22,  7,  4])"
      ]
     },
     "execution_count": 54,
     "metadata": {},
     "output_type": "execute_result"
    }
   ],
   "source": [
    "jan_w1"
   ]
  },
  {
   "cell_type": "code",
   "execution_count": 55,
   "id": "c8a5b314",
   "metadata": {},
   "outputs": [
    {
     "name": "stdout",
     "output_type": "stream",
     "text": [
      "[25, 25, '', 28, 23, 23, 30]\n"
     ]
    }
   ],
   "source": [
    "d_w1 = []\n",
    "for i in dec_w1:\n",
    "    if i>20:\n",
    "        d_w1.append(i)\n",
    "    else:\n",
    "        d_w1.append('')\n",
    "print(d_w1 )"
   ]
  },
  {
   "cell_type": "code",
   "execution_count": 56,
   "id": "3a148cb5",
   "metadata": {},
   "outputs": [
    {
     "name": "stdout",
     "output_type": "stream",
     "text": [
      "[30, 26, 27, 31, 22, 26, 28]\n"
     ]
    }
   ],
   "source": [
    "d_w2 = []\n",
    "for i in dec_w2:\n",
    "    if i>20:\n",
    "        d_w2.append(i)\n",
    "    else:\n",
    "        d_w2.append('')\n",
    "print(d_w2)"
   ]
  },
  {
   "cell_type": "code",
   "execution_count": 57,
   "id": "dcac14a2",
   "metadata": {},
   "outputs": [
    {
     "name": "stdout",
     "output_type": "stream",
     "text": [
      "[28, 31, 27, 32, 23, 32, 23]\n"
     ]
    }
   ],
   "source": [
    "d_w3 = []\n",
    "for i in dec_w3:\n",
    "    if i>20:\n",
    "        d_w3.append(i)\n",
    "    else:\n",
    "        d_w3.append('')\n",
    "print(d_w3)"
   ]
  },
  {
   "cell_type": "code",
   "execution_count": 58,
   "id": "67416573",
   "metadata": {},
   "outputs": [
    {
     "name": "stdout",
     "output_type": "stream",
     "text": [
      "[28, 29, 22, 21, 27, 31, 25]\n"
     ]
    }
   ],
   "source": [
    "d_w4= []\n",
    "for i in dec_w4:\n",
    "    if i>20:\n",
    "        d_w4.append(i)\n",
    "    else:\n",
    "        d_w4.append('')\n",
    "print(d_w4)"
   ]
  },
  {
   "cell_type": "code",
   "execution_count": 59,
   "id": "db82a4a2",
   "metadata": {},
   "outputs": [
    {
     "name": "stdout",
     "output_type": "stream",
     "text": [
      "[22, 21, '', '', 22, '', '']\n",
      "[22, '', 21, 22, 21, '', '']\n",
      "[21, '', 21, '', '', '', '']\n",
      "['', '', '', 22, '', '', '']\n"
     ]
    }
   ],
   "source": [
    "j_w1= []\n",
    "for i in jan_w1:\n",
    "    if i>20:\n",
    "        j_w1.append(i)\n",
    "    else:\n",
    "        j_w1.append('')\n",
    "print(j_w1)\n",
    "\n",
    "j_w2= []\n",
    "for i in jan_w2:\n",
    "    if i>20:\n",
    "        j_w2.append(i)\n",
    "    else:\n",
    "        j_w2.append('')\n",
    "print(j_w2)\n",
    "\n",
    "j_w3= []\n",
    "for i in jan_w3:\n",
    "    if i>20:\n",
    "        j_w3.append(i)\n",
    "    else:\n",
    "        j_w3.append('')\n",
    "print(j_w3)\n",
    "\n",
    "j_w4= []\n",
    "for i in jan_w4:\n",
    "    if i>20:\n",
    "        j_w4.append(i)\n",
    "    else:\n",
    "        j_w4.append('')\n",
    "print(j_w4)"
   ]
  },
  {
   "cell_type": "code",
   "execution_count": 60,
   "id": "dcd26872",
   "metadata": {},
   "outputs": [],
   "source": [
    "d_w1 = np.array(d_w1).reshape(1,7)\n",
    "d_w2 = np.array(d_w2).reshape(1,7)\n",
    "d_w3 = np.array(d_w3).reshape(1,7)\n",
    "d_w4 = np.array(d_w4).reshape(1,7)"
   ]
  },
  {
   "cell_type": "code",
   "execution_count": 61,
   "id": "c4aa499e",
   "metadata": {},
   "outputs": [
    {
     "data": {
      "text/plain": [
       "array([['25', '25', '', '28', '23', '23', '30']], dtype='<U11')"
      ]
     },
     "execution_count": 61,
     "metadata": {},
     "output_type": "execute_result"
    }
   ],
   "source": [
    "d_w1"
   ]
  },
  {
   "cell_type": "code",
   "execution_count": 62,
   "id": "fbae5815",
   "metadata": {},
   "outputs": [],
   "source": [
    "j_w1 = np.array(j_w1).reshape(1,7)\n",
    "j_w2 = np.array(j_w2).reshape(1,7)\n",
    "j_w3 = np.array(j_w3).reshape(1,7)\n",
    "j_w4 = np.array(j_w4).reshape(1,7)"
   ]
  },
  {
   "cell_type": "code",
   "execution_count": 63,
   "id": "cedb7f83",
   "metadata": {},
   "outputs": [
    {
     "data": {
      "text/plain": [
       "array([['22', '21', '', '', '22', '', '']], dtype='<U11')"
      ]
     },
     "execution_count": 63,
     "metadata": {},
     "output_type": "execute_result"
    }
   ],
   "source": [
    "j_w1"
   ]
  },
  {
   "cell_type": "code",
   "execution_count": 64,
   "id": "fcd73dac",
   "metadata": {},
   "outputs": [
    {
     "data": {
      "text/plain": [
       "array([['25', '25', '', '28', '23', '23', '30'],\n",
       "       ['30', '26', '27', '31', '22', '26', '28'],\n",
       "       ['28', '31', '27', '32', '23', '32', '23'],\n",
       "       ['28', '29', '22', '21', '27', '31', '25'],\n",
       "       ['22', '21', '', '', '22', '', ''],\n",
       "       ['22', '', '21', '22', '21', '', ''],\n",
       "       ['21', '', '21', '', '', '', ''],\n",
       "       ['', '', '', '22', '', '', '']], dtype='<U11')"
      ]
     },
     "execution_count": 64,
     "metadata": {},
     "output_type": "execute_result"
    }
   ],
   "source": [
    "temp = np.vstack((((((((d_w1,d_w2,d_w3,d_w4,j_w1,j_w2,j_w3,j_w4))))))))\n",
    "temp"
   ]
  },
  {
   "cell_type": "code",
   "execution_count": 65,
   "id": "2892695d",
   "metadata": {},
   "outputs": [],
   "source": [
    "temp_greater_20 = np.hstack((dec_jan[:,0:2],temp))"
   ]
  },
  {
   "cell_type": "code",
   "execution_count": 66,
   "id": "b2ecbdbd",
   "metadata": {},
   "outputs": [
    {
     "data": {
      "text/plain": [
       "array([['December', 'Week 1', '25', '25', '', '28', '23', '23', '30'],\n",
       "       ['December', 'Week 2', '30', '26', '27', '31', '22', '26', '28'],\n",
       "       ['December', 'Week 3', '28', '31', '27', '32', '23', '32', '23'],\n",
       "       ['December', 'Week 4', '28', '29', '22', '21', '27', '31', '25'],\n",
       "       ['January', 'Week 1', '22', '21', '', '', '22', '', ''],\n",
       "       ['January', 'Week 2', '22', '', '21', '22', '21', '', ''],\n",
       "       ['January', 'Week 3', '21', '', '21', '', '', '', ''],\n",
       "       ['January', 'Week 4', '', '', '', '22', '', '', '']], dtype='<U16')"
      ]
     },
     "execution_count": 66,
     "metadata": {},
     "output_type": "execute_result"
    }
   ],
   "source": [
    "temp_greater_20"
   ]
  },
  {
   "cell_type": "markdown",
   "id": "fc314f9b",
   "metadata": {},
   "source": [
    "# 8. Check if there are any absurd values present in the dataset(like some temp which should not be present in the data)\n"
   ]
  },
  {
   "cell_type": "code",
   "execution_count": 67,
   "id": "50d60060",
   "metadata": {},
   "outputs": [
    {
     "data": {
      "text/plain": [
       "array([['Month', 'Week', 'Monday', 'Monday', 'Tuesday', 'Tuesday',\n",
       "        'Wednesday', 'Wednesday', 'Thursday', 'Thursday', 'Friday',\n",
       "        'Friday', 'Saturday', 'Saturday', 'Sunday', 'Sunday'],\n",
       "       ['', '', 'Min Temp', 'Max Temp', 'Min Temp', 'Max Temp',\n",
       "        'Min Temp', 'Max Temp', 'Min Temp', 'Max Temp', 'Min Temp',\n",
       "        'Max Temp', 'Min Temp', 'Max Temp', 'Min Temp', 'Max Temp'],\n",
       "       ['November', 'Week 1', '11', '20', '10', '20', '9', '30', '14',\n",
       "        '24', '6', '29', '12', '21', '12', '27']], dtype='<U16')"
      ]
     },
     "execution_count": 67,
     "metadata": {},
     "output_type": "execute_result"
    }
   ],
   "source": [
    "data[0:3]"
   ]
  },
  {
   "cell_type": "code",
   "execution_count": 68,
   "id": "e7c1c38b",
   "metadata": {},
   "outputs": [
    {
     "data": {
      "text/plain": [
       "array([['11', '20', '10', '20', '9', '30', '14', '24', '6', '29', '12',\n",
       "        '21', '12', '27'],\n",
       "       ['13', '23', '13', '29', '8', '22', '-13', '32', '6', '21', '14',\n",
       "        '23', '11', '28'],\n",
       "       ['6', '28', '14', '21', '9', '32', '8', '28', '13', '30', '6',\n",
       "        '31', '6', '23'],\n",
       "       ['6', '23', '8', '23', '14', '24', '6', '29', '13', '25', '12',\n",
       "        '24', '11', '27'],\n",
       "       ['11', '25', '14', '25', '7', '20', '9', '28', '9', '23', '11',\n",
       "        '23', '11', '30'],\n",
       "       ['9', '30', '15', '26', '9', '27', '14', '31', '8', '22', '10',\n",
       "        '26', '12', '28'],\n",
       "       ['6', '28', '12', '31', '14', '27', '9', '32', '7', '23', '11',\n",
       "        '32', '7', '23'],\n",
       "       ['7', '28', '15', '29', '11', '22', '14', '21', '12', '27', '12',\n",
       "        '31', '14', '25'],\n",
       "       ['5', '22', '8', '21', '8', '20', '7', '19', '8', '22', '2', '7',\n",
       "        '18', '4'],\n",
       "       ['4', '22', '6', '20', '6', '21', '4', '22', '4', '21', '3', '3',\n",
       "        '20', '5'],\n",
       "       ['5', '21', '7', '18', '8', '21', '4', '19', '4', '18', '3', '7',\n",
       "        '18', '4'],\n",
       "       ['6', '19', '2', '18', '7', '20', '8', '22', '8', '19', '7', '4',\n",
       "        '20', '8'],\n",
       "       ['8', '22', '7', '19', '-10', '18', '11', '19', '12', '20', '12',\n",
       "        '71', '21', '12'],\n",
       "       ['8', '19', '10', '20', '12', '18', '10', '18', '10', '22', '8',\n",
       "        '11', '19', '7'],\n",
       "       ['9', '22', '11', '19', '7', '21', '11', '21', '9', '19', '7',\n",
       "        '10', '19', '10'],\n",
       "       ['11', '21', '7', '20', '11', '21', '12', '18', '11', '20', '12',\n",
       "        '7', '21', '9']], dtype='<U16')"
      ]
     },
     "execution_count": 68,
     "metadata": {},
     "output_type": "execute_result"
    }
   ],
   "source": [
    "d1 = data[2:,2:]\n",
    "d1"
   ]
  },
  {
   "cell_type": "code",
   "execution_count": 69,
   "id": "e4386f5f",
   "metadata": {},
   "outputs": [],
   "source": [
    "cond = d1==''"
   ]
  },
  {
   "cell_type": "code",
   "execution_count": 70,
   "id": "d0aee1bd",
   "metadata": {},
   "outputs": [
    {
     "data": {
      "text/plain": [
       "array([], dtype='<U16')"
      ]
     },
     "execution_count": 70,
     "metadata": {},
     "output_type": "execute_result"
    }
   ],
   "source": [
    "d1[cond]"
   ]
  },
  {
   "cell_type": "markdown",
   "id": "9e7e1e06",
   "metadata": {},
   "source": [
    "All temperature values are present"
   ]
  },
  {
   "cell_type": "markdown",
   "id": "ecdb269c",
   "metadata": {},
   "source": [
    "................................................"
   ]
  },
  {
   "cell_type": "markdown",
   "id": "1f53443e",
   "metadata": {},
   "source": [
    "# 10. Find and print the indexes of all the outlier(unusual) values present in the above dataset."
   ]
  },
  {
   "cell_type": "code",
   "execution_count": 71,
   "id": "ef1bf290",
   "metadata": {},
   "outputs": [
    {
     "data": {
      "text/plain": [
       "array([['Month', 'Week', 'Monday', 'Monday', 'Tuesday', 'Tuesday',\n",
       "        'Wednesday', 'Wednesday', 'Thursday', 'Thursday', 'Friday',\n",
       "        'Friday', 'Saturday', 'Saturday', 'Sunday', 'Sunday'],\n",
       "       ['', '', 'Min Temp', 'Max Temp', 'Min Temp', 'Max Temp',\n",
       "        'Min Temp', 'Max Temp', 'Min Temp', 'Max Temp', 'Min Temp',\n",
       "        'Max Temp', 'Min Temp', 'Max Temp', 'Min Temp', 'Max Temp'],\n",
       "       ['November', 'Week 1', '11', '20', '10', '20', '9', '30', '14',\n",
       "        '24', '6', '29', '12', '21', '12', '27'],\n",
       "       ['November', 'Week 2', '13', '23', '13', '29', '8', '22', '-13',\n",
       "        '32', '6', '21', '14', '23', '11', '28'],\n",
       "       ['November', 'Week 3', '6', '28', '14', '21', '9', '32', '8',\n",
       "        '28', '13', '30', '6', '31', '6', '23'],\n",
       "       ['November', 'Week 4', '6', '23', '8', '23', '14', '24', '6',\n",
       "        '29', '13', '25', '12', '24', '11', '27'],\n",
       "       ['December', 'Week 1', '11', '25', '14', '25', '7', '20', '9',\n",
       "        '28', '9', '23', '11', '23', '11', '30'],\n",
       "       ['December', 'Week 2', '9', '30', '15', '26', '9', '27', '14',\n",
       "        '31', '8', '22', '10', '26', '12', '28'],\n",
       "       ['December', 'Week 3', '6', '28', '12', '31', '14', '27', '9',\n",
       "        '32', '7', '23', '11', '32', '7', '23'],\n",
       "       ['December', 'Week 4', '7', '28', '15', '29', '11', '22', '14',\n",
       "        '21', '12', '27', '12', '31', '14', '25'],\n",
       "       ['January', 'Week 1', '5', '22', '8', '21', '8', '20', '7', '19',\n",
       "        '8', '22', '2', '7', '18', '4'],\n",
       "       ['January', 'Week 2', '4', '22', '6', '20', '6', '21', '4', '22',\n",
       "        '4', '21', '3', '3', '20', '5'],\n",
       "       ['January', 'Week 3', '5', '21', '7', '18', '8', '21', '4', '19',\n",
       "        '4', '18', '3', '7', '18', '4'],\n",
       "       ['January', 'Week 4', '6', '19', '2', '18', '7', '20', '8', '22',\n",
       "        '8', '19', '7', '4', '20', '8'],\n",
       "       ['February', 'Week 1', '8', '22', '7', '19', '-10', '18', '11',\n",
       "        '19', '12', '20', '12', '71', '21', '12'],\n",
       "       ['February', 'Week 2', '8', '19', '10', '20', '12', '18', '10',\n",
       "        '18', '10', '22', '8', '11', '19', '7'],\n",
       "       ['February', 'Week 3', '9', '22', '11', '19', '7', '21', '11',\n",
       "        '21', '9', '19', '7', '10', '19', '10'],\n",
       "       ['February', 'Week 4', '11', '21', '7', '20', '11', '21', '12',\n",
       "        '18', '11', '20', '12', '7', '21', '9']], dtype='<U16')"
      ]
     },
     "execution_count": 71,
     "metadata": {},
     "output_type": "execute_result"
    }
   ],
   "source": [
    "data"
   ]
  },
  {
   "cell_type": "code",
   "execution_count": 72,
   "id": "ea1a11cb",
   "metadata": {},
   "outputs": [],
   "source": [
    "temp_1 = data[2:,2:].astype(int)"
   ]
  },
  {
   "cell_type": "code",
   "execution_count": 73,
   "id": "ea714c11",
   "metadata": {},
   "outputs": [
    {
     "data": {
      "text/plain": [
       "(16, 14)"
      ]
     },
     "execution_count": 73,
     "metadata": {},
     "output_type": "execute_result"
    }
   ],
   "source": [
    "temp_1.shape"
   ]
  },
  {
   "cell_type": "code",
   "execution_count": 74,
   "id": "1ba575b4",
   "metadata": {},
   "outputs": [],
   "source": [
    "temp_1 = temp_1.reshape(16*14,)"
   ]
  },
  {
   "cell_type": "code",
   "execution_count": 75,
   "id": "e8f2e4e7",
   "metadata": {},
   "outputs": [
    {
     "data": {
      "text/plain": [
       "array([ 11,  20,  10,  20,   9,  30,  14,  24,   6,  29,  12,  21,  12,\n",
       "        27,  13,  23,  13,  29,   8,  22, -13,  32,   6,  21,  14,  23,\n",
       "        11,  28,   6,  28,  14,  21,   9,  32,   8,  28,  13,  30,   6,\n",
       "        31,   6,  23,   6,  23,   8,  23,  14,  24,   6,  29,  13,  25,\n",
       "        12,  24,  11,  27,  11,  25,  14,  25,   7,  20,   9,  28,   9,\n",
       "        23,  11,  23,  11,  30,   9,  30,  15,  26,   9,  27,  14,  31,\n",
       "         8,  22,  10,  26,  12,  28,   6,  28,  12,  31,  14,  27,   9,\n",
       "        32,   7,  23,  11,  32,   7,  23,   7,  28,  15,  29,  11,  22,\n",
       "        14,  21,  12,  27,  12,  31,  14,  25,   5,  22,   8,  21,   8,\n",
       "        20,   7,  19,   8,  22,   2,   7,  18,   4,   4,  22,   6,  20,\n",
       "         6,  21,   4,  22,   4,  21,   3,   3,  20,   5,   5,  21,   7,\n",
       "        18,   8,  21,   4,  19,   4,  18,   3,   7,  18,   4,   6,  19,\n",
       "         2,  18,   7,  20,   8,  22,   8,  19,   7,   4,  20,   8,   8,\n",
       "        22,   7,  19, -10,  18,  11,  19,  12,  20,  12,  71,  21,  12,\n",
       "         8,  19,  10,  20,  12,  18,  10,  18,  10,  22,   8,  11,  19,\n",
       "         7,   9,  22,  11,  19,   7,  21,  11,  21,   9,  19,   7,  10,\n",
       "        19,  10,  11,  21,   7,  20,  11,  21,  12,  18,  11,  20,  12,\n",
       "         7,  21,   9])"
      ]
     },
     "execution_count": 75,
     "metadata": {},
     "output_type": "execute_result"
    }
   ],
   "source": [
    "temp_1"
   ]
  },
  {
   "cell_type": "code",
   "execution_count": 76,
   "id": "201189e8",
   "metadata": {
    "scrolled": true
   },
   "outputs": [
    {
     "data": {
      "text/plain": [
       "array([-13, -10,   2,   2,   3,   3,   3,   4,   4,   4,   4,   4,   4,\n",
       "         4,   4,   5,   5,   5,   6,   6,   6,   6,   6,   6,   6,   6,\n",
       "         6,   6,   6,   7,   7,   7,   7,   7,   7,   7,   7,   7,   7,\n",
       "         7,   7,   7,   7,   7,   7,   8,   8,   8,   8,   8,   8,   8,\n",
       "         8,   8,   8,   8,   8,   8,   8,   9,   9,   9,   9,   9,   9,\n",
       "         9,   9,   9,   9,  10,  10,  10,  10,  10,  10,  10,  11,  11,\n",
       "        11,  11,  11,  11,  11,  11,  11,  11,  11,  11,  11,  11,  11,\n",
       "        12,  12,  12,  12,  12,  12,  12,  12,  12,  12,  12,  12,  12,\n",
       "        13,  13,  13,  13,  14,  14,  14,  14,  14,  14,  14,  14,  14,\n",
       "        15,  15,  18,  18,  18,  18,  18,  18,  18,  18,  18,  19,  19,\n",
       "        19,  19,  19,  19,  19,  19,  19,  19,  19,  20,  20,  20,  20,\n",
       "        20,  20,  20,  20,  20,  20,  20,  20,  21,  21,  21,  21,  21,\n",
       "        21,  21,  21,  21,  21,  21,  21,  21,  21,  21,  22,  22,  22,\n",
       "        22,  22,  22,  22,  22,  22,  22,  22,  23,  23,  23,  23,  23,\n",
       "        23,  23,  23,  23,  24,  24,  24,  25,  25,  25,  25,  26,  26,\n",
       "        27,  27,  27,  27,  27,  28,  28,  28,  28,  28,  28,  28,  29,\n",
       "        29,  29,  29,  30,  30,  30,  30,  31,  31,  31,  31,  32,  32,\n",
       "        32,  32,  71])"
      ]
     },
     "execution_count": 76,
     "metadata": {},
     "output_type": "execute_result"
    }
   ],
   "source": [
    "sort_temp_1 = np.sort(temp_1)\n",
    "sort_temp_1"
   ]
  },
  {
   "cell_type": "code",
   "execution_count": 77,
   "id": "6642e863",
   "metadata": {},
   "outputs": [
    {
     "data": {
      "text/plain": [
       "(224,)"
      ]
     },
     "execution_count": 77,
     "metadata": {},
     "output_type": "execute_result"
    }
   ],
   "source": [
    "sort_temp_1.shape"
   ]
  },
  {
   "cell_type": "code",
   "execution_count": 78,
   "id": "95f0d3b0",
   "metadata": {},
   "outputs": [
    {
     "data": {
      "text/plain": [
       "15.647"
      ]
     },
     "execution_count": 78,
     "metadata": {},
     "output_type": "execute_result"
    }
   ],
   "source": [
    "mean = round(np.mean(temp_1),3)\n",
    "mean"
   ]
  },
  {
   "cell_type": "code",
   "execution_count": 79,
   "id": "6c54e016",
   "metadata": {},
   "outputs": [
    {
     "data": {
      "text/plain": [
       "9.178570342898768"
      ]
     },
     "execution_count": 79,
     "metadata": {},
     "output_type": "execute_result"
    }
   ],
   "source": [
    "std = np.std(temp_1)\n",
    "std"
   ]
  },
  {
   "cell_type": "code",
   "execution_count": 80,
   "id": "cf794b96",
   "metadata": {},
   "outputs": [
    {
     "name": "stdout",
     "output_type": "stream",
     "text": [
      "8.0 22.0\n"
     ]
    }
   ],
   "source": [
    "q1 = np.median(sort_temp_1[0:112])\n",
    "q3 = np.median(sort_temp_1[112:])\n",
    "print(q1,q3)"
   ]
  },
  {
   "cell_type": "code",
   "execution_count": 81,
   "id": "4e40115a",
   "metadata": {},
   "outputs": [
    {
     "data": {
      "text/plain": [
       "14.0"
      ]
     },
     "execution_count": 81,
     "metadata": {},
     "output_type": "execute_result"
    }
   ],
   "source": [
    "iqr = q3-q1\n",
    "iqr"
   ]
  },
  {
   "cell_type": "code",
   "execution_count": 82,
   "id": "533e877e",
   "metadata": {},
   "outputs": [
    {
     "name": "stdout",
     "output_type": "stream",
     "text": [
      "[11, 20, 10, 20, 9, 30, 14, 24, 6, 29, 12, 21, 12, 27, 13, 23, 13, 29, 8, 22, 'outlier', 32, 6, 21, 14, 23, 11, 28, 6, 28, 14, 21, 9, 32, 8, 28, 13, 30, 6, 31, 6, 23, 6, 23, 8, 23, 14, 24, 6, 29, 13, 25, 12, 24, 11, 27, 11, 25, 14, 25, 7, 20, 9, 28, 9, 23, 11, 23, 11, 30, 9, 30, 15, 26, 9, 27, 14, 31, 8, 22, 10, 26, 12, 28, 6, 28, 12, 31, 14, 27, 9, 32, 7, 23, 11, 32, 7, 23, 7, 28, 15, 29, 11, 22, 14, 21, 12, 27, 12, 31, 14, 25, 5, 22, 8, 21, 8, 20, 7, 19, 8, 22, 2, 7, 18, 4, 4, 22, 6, 20, 6, 21, 4, 22, 4, 21, 3, 3, 20, 5, 5, 21, 7, 18, 8, 21, 4, 19, 4, 18, 3, 7, 18, 4, 6, 19, 2, 18, 7, 20, 8, 22, 8, 19, 7, 4, 20, 8, 8, 22, 7, 19, -10, 18, 11, 19, 12, 20, 12, 'outlier', 21, 12, 8, 19, 10, 20, 12, 18, 10, 18, 10, 22, 8, 11, 19, 7, 9, 22, 11, 19, 7, 21, 11, 21, 9, 19, 7, 10, 19, 10, 11, 21, 7, 20, 11, 21, 12, 18, 11, 20, 12, 7, 21, 9]\n"
     ]
    }
   ],
   "source": [
    "b = []\n",
    "for i in temp_1:\n",
    "    if i>q1-1.5*iqr and i<q3+1.5*iqr:\n",
    "        b.append(i)\n",
    "    else:\n",
    "        b.append('outlier')\n",
    "print(b)        "
   ]
  },
  {
   "cell_type": "code",
   "execution_count": 83,
   "id": "e5b7a2c1",
   "metadata": {},
   "outputs": [
    {
     "data": {
      "text/plain": [
       "array([['11', '20', '10', '20', '9', '30', '14', '24', '6', '29', '12',\n",
       "        '21', '12', '27'],\n",
       "       ['13', '23', '13', '29', '8', '22', 'outlier', '32', '6', '21',\n",
       "        '14', '23', '11', '28'],\n",
       "       ['6', '28', '14', '21', '9', '32', '8', '28', '13', '30', '6',\n",
       "        '31', '6', '23'],\n",
       "       ['6', '23', '8', '23', '14', '24', '6', '29', '13', '25', '12',\n",
       "        '24', '11', '27'],\n",
       "       ['11', '25', '14', '25', '7', '20', '9', '28', '9', '23', '11',\n",
       "        '23', '11', '30'],\n",
       "       ['9', '30', '15', '26', '9', '27', '14', '31', '8', '22', '10',\n",
       "        '26', '12', '28'],\n",
       "       ['6', '28', '12', '31', '14', '27', '9', '32', '7', '23', '11',\n",
       "        '32', '7', '23'],\n",
       "       ['7', '28', '15', '29', '11', '22', '14', '21', '12', '27', '12',\n",
       "        '31', '14', '25'],\n",
       "       ['5', '22', '8', '21', '8', '20', '7', '19', '8', '22', '2', '7',\n",
       "        '18', '4'],\n",
       "       ['4', '22', '6', '20', '6', '21', '4', '22', '4', '21', '3', '3',\n",
       "        '20', '5'],\n",
       "       ['5', '21', '7', '18', '8', '21', '4', '19', '4', '18', '3', '7',\n",
       "        '18', '4'],\n",
       "       ['6', '19', '2', '18', '7', '20', '8', '22', '8', '19', '7', '4',\n",
       "        '20', '8'],\n",
       "       ['8', '22', '7', '19', '-10', '18', '11', '19', '12', '20', '12',\n",
       "        'outlier', '21', '12'],\n",
       "       ['8', '19', '10', '20', '12', '18', '10', '18', '10', '22', '8',\n",
       "        '11', '19', '7'],\n",
       "       ['9', '22', '11', '19', '7', '21', '11', '21', '9', '19', '7',\n",
       "        '10', '19', '10'],\n",
       "       ['11', '21', '7', '20', '11', '21', '12', '18', '11', '20', '12',\n",
       "        '7', '21', '9']], dtype='<U11')"
      ]
     },
     "execution_count": 83,
     "metadata": {},
     "output_type": "execute_result"
    }
   ],
   "source": [
    "temp_outliers = np.array(b).reshape(16,14)\n",
    "temp_outliers"
   ]
  },
  {
   "cell_type": "markdown",
   "id": "542e03a8",
   "metadata": {},
   "source": [
    "# 11.Replace the outliers with an appropriate value.\n"
   ]
  },
  {
   "cell_type": "code",
   "execution_count": 84,
   "id": "37c619f3",
   "metadata": {},
   "outputs": [
    {
     "name": "stdout",
     "output_type": "stream",
     "text": [
      "[11, 20, 10, 20, 9, 30, 14, 24, 6, 29, 12, 21, 12, 27, 13, 23, 13, 29, 8, 22, 15.647, 32, 6, 21, 14, 23, 11, 28, 6, 28, 14, 21, 9, 32, 8, 28, 13, 30, 6, 31, 6, 23, 6, 23, 8, 23, 14, 24, 6, 29, 13, 25, 12, 24, 11, 27, 11, 25, 14, 25, 7, 20, 9, 28, 9, 23, 11, 23, 11, 30, 9, 30, 15, 26, 9, 27, 14, 31, 8, 22, 10, 26, 12, 28, 6, 28, 12, 31, 14, 27, 9, 32, 7, 23, 11, 32, 7, 23, 7, 28, 15, 29, 11, 22, 14, 21, 12, 27, 12, 31, 14, 25, 5, 22, 8, 21, 8, 20, 7, 19, 8, 22, 2, 7, 18, 4, 4, 22, 6, 20, 6, 21, 4, 22, 4, 21, 3, 3, 20, 5, 5, 21, 7, 18, 8, 21, 4, 19, 4, 18, 3, 7, 18, 4, 6, 19, 2, 18, 7, 20, 8, 22, 8, 19, 7, 4, 20, 8, 8, 22, 7, 19, -10, 18, 11, 19, 12, 20, 12, 15.647, 21, 12, 8, 19, 10, 20, 12, 18, 10, 18, 10, 22, 8, 11, 19, 7, 9, 22, 11, 19, 7, 21, 11, 21, 9, 19, 7, 10, 19, 10, 11, 21, 7, 20, 11, 21, 12, 18, 11, 20, 12, 7, 21, 9]\n"
     ]
    }
   ],
   "source": [
    "k = []\n",
    "for i in b:\n",
    "    if i!='outlier':\n",
    "        k.append(i)\n",
    "    else:\n",
    "        k.append(mean)\n",
    "print(k)"
   ]
  },
  {
   "cell_type": "code",
   "execution_count": 85,
   "id": "39b1187e",
   "metadata": {},
   "outputs": [
    {
     "data": {
      "text/plain": [
       "array([[ 11.   ,  20.   ,  10.   ,  20.   ,   9.   ,  30.   ,  14.   ,\n",
       "         24.   ,   6.   ,  29.   ,  12.   ,  21.   ,  12.   ,  27.   ],\n",
       "       [ 13.   ,  23.   ,  13.   ,  29.   ,   8.   ,  22.   ,  15.647,\n",
       "         32.   ,   6.   ,  21.   ,  14.   ,  23.   ,  11.   ,  28.   ],\n",
       "       [  6.   ,  28.   ,  14.   ,  21.   ,   9.   ,  32.   ,   8.   ,\n",
       "         28.   ,  13.   ,  30.   ,   6.   ,  31.   ,   6.   ,  23.   ],\n",
       "       [  6.   ,  23.   ,   8.   ,  23.   ,  14.   ,  24.   ,   6.   ,\n",
       "         29.   ,  13.   ,  25.   ,  12.   ,  24.   ,  11.   ,  27.   ],\n",
       "       [ 11.   ,  25.   ,  14.   ,  25.   ,   7.   ,  20.   ,   9.   ,\n",
       "         28.   ,   9.   ,  23.   ,  11.   ,  23.   ,  11.   ,  30.   ],\n",
       "       [  9.   ,  30.   ,  15.   ,  26.   ,   9.   ,  27.   ,  14.   ,\n",
       "         31.   ,   8.   ,  22.   ,  10.   ,  26.   ,  12.   ,  28.   ],\n",
       "       [  6.   ,  28.   ,  12.   ,  31.   ,  14.   ,  27.   ,   9.   ,\n",
       "         32.   ,   7.   ,  23.   ,  11.   ,  32.   ,   7.   ,  23.   ],\n",
       "       [  7.   ,  28.   ,  15.   ,  29.   ,  11.   ,  22.   ,  14.   ,\n",
       "         21.   ,  12.   ,  27.   ,  12.   ,  31.   ,  14.   ,  25.   ],\n",
       "       [  5.   ,  22.   ,   8.   ,  21.   ,   8.   ,  20.   ,   7.   ,\n",
       "         19.   ,   8.   ,  22.   ,   2.   ,   7.   ,  18.   ,   4.   ],\n",
       "       [  4.   ,  22.   ,   6.   ,  20.   ,   6.   ,  21.   ,   4.   ,\n",
       "         22.   ,   4.   ,  21.   ,   3.   ,   3.   ,  20.   ,   5.   ],\n",
       "       [  5.   ,  21.   ,   7.   ,  18.   ,   8.   ,  21.   ,   4.   ,\n",
       "         19.   ,   4.   ,  18.   ,   3.   ,   7.   ,  18.   ,   4.   ],\n",
       "       [  6.   ,  19.   ,   2.   ,  18.   ,   7.   ,  20.   ,   8.   ,\n",
       "         22.   ,   8.   ,  19.   ,   7.   ,   4.   ,  20.   ,   8.   ],\n",
       "       [  8.   ,  22.   ,   7.   ,  19.   , -10.   ,  18.   ,  11.   ,\n",
       "         19.   ,  12.   ,  20.   ,  12.   ,  15.647,  21.   ,  12.   ],\n",
       "       [  8.   ,  19.   ,  10.   ,  20.   ,  12.   ,  18.   ,  10.   ,\n",
       "         18.   ,  10.   ,  22.   ,   8.   ,  11.   ,  19.   ,   7.   ],\n",
       "       [  9.   ,  22.   ,  11.   ,  19.   ,   7.   ,  21.   ,  11.   ,\n",
       "         21.   ,   9.   ,  19.   ,   7.   ,  10.   ,  19.   ,  10.   ],\n",
       "       [ 11.   ,  21.   ,   7.   ,  20.   ,  11.   ,  21.   ,  12.   ,\n",
       "         18.   ,  11.   ,  20.   ,  12.   ,   7.   ,  21.   ,   9.   ]])"
      ]
     },
     "execution_count": 85,
     "metadata": {},
     "output_type": "execute_result"
    }
   ],
   "source": [
    "out_re_array = np.array(k).reshape(16,14)\n",
    "out_re_array"
   ]
  },
  {
   "cell_type": "markdown",
   "id": "061ceb68",
   "metadata": {},
   "source": [
    "# 12. Find the average max temperature for the winter months in Jaipur."
   ]
  },
  {
   "cell_type": "code",
   "execution_count": 86,
   "id": "4c6a4750",
   "metadata": {},
   "outputs": [
    {
     "data": {
      "text/plain": [
       "array([['Month', 'Week', 'Monday', 'Tuesday', 'Wednesday', 'Thursday',\n",
       "        'Friday', 'Saturday', 'Sunday'],\n",
       "       ['', '', 'Max Temp', 'Max Temp', 'Max Temp', 'Max Temp',\n",
       "        'Max Temp', 'Max Temp', 'Max Temp'],\n",
       "       ['November', 'Week 1', '20', '20', '30', '24', '29', '21', '27'],\n",
       "       ['November', 'Week 2', '23', '29', '22', '32', '21', '23', '28'],\n",
       "       ['November', 'Week 3', '28', '21', '32', '28', '30', '31', '23'],\n",
       "       ['November', 'Week 4', '23', '23', '24', '29', '25', '24', '27'],\n",
       "       ['December', 'Week 1', '25', '25', '20', '28', '23', '23', '30'],\n",
       "       ['December', 'Week 2', '30', '26', '27', '31', '22', '26', '28'],\n",
       "       ['December', 'Week 3', '28', '31', '27', '32', '23', '32', '23'],\n",
       "       ['December', 'Week 4', '28', '29', '22', '21', '27', '31', '25'],\n",
       "       ['January', 'Week 1', '22', '21', '20', '19', '22', '7', '4'],\n",
       "       ['January', 'Week 2', '22', '20', '21', '22', '21', '3', '5'],\n",
       "       ['January', 'Week 3', '21', '18', '21', '19', '18', '7', '4'],\n",
       "       ['January', 'Week 4', '19', '18', '20', '22', '19', '4', '8'],\n",
       "       ['February', 'Week 1', '22', '19', '18', '19', '20', '71', '12'],\n",
       "       ['February', 'Week 2', '19', '20', '18', '18', '22', '11', '7'],\n",
       "       ['February', 'Week 3', '22', '19', '21', '21', '19', '10', '10'],\n",
       "       ['February', 'Week 4', '21', '20', '21', '18', '20', '7', '9']],\n",
       "      dtype='<U16')"
      ]
     },
     "execution_count": 86,
     "metadata": {},
     "output_type": "execute_result"
    }
   ],
   "source": [
    "max_temp"
   ]
  },
  {
   "cell_type": "code",
   "execution_count": 87,
   "id": "0b584dd0",
   "metadata": {},
   "outputs": [
    {
     "data": {
      "text/plain": [
       "array([[20, 20, 30, 24, 29, 21, 27],\n",
       "       [23, 29, 22, 32, 21, 23, 28],\n",
       "       [28, 21, 32, 28, 30, 31, 23],\n",
       "       [23, 23, 24, 29, 25, 24, 27],\n",
       "       [25, 25, 20, 28, 23, 23, 30],\n",
       "       [30, 26, 27, 31, 22, 26, 28],\n",
       "       [28, 31, 27, 32, 23, 32, 23],\n",
       "       [28, 29, 22, 21, 27, 31, 25],\n",
       "       [22, 21, 20, 19, 22,  7,  4],\n",
       "       [22, 20, 21, 22, 21,  3,  5],\n",
       "       [21, 18, 21, 19, 18,  7,  4],\n",
       "       [19, 18, 20, 22, 19,  4,  8],\n",
       "       [22, 19, 18, 19, 20, 71, 12],\n",
       "       [19, 20, 18, 18, 22, 11,  7],\n",
       "       [22, 19, 21, 21, 19, 10, 10],\n",
       "       [21, 20, 21, 18, 20,  7,  9]])"
      ]
     },
     "execution_count": 87,
     "metadata": {},
     "output_type": "execute_result"
    }
   ],
   "source": [
    "temp = max_temp[2:,2:].astype(int)\n",
    "temp"
   ]
  },
  {
   "cell_type": "code",
   "execution_count": 88,
   "id": "9e5fbf81",
   "metadata": {},
   "outputs": [
    {
     "data": {
      "text/plain": [
       "71"
      ]
     },
     "execution_count": 88,
     "metadata": {},
     "output_type": "execute_result"
    }
   ],
   "source": [
    "np.max(temp)"
   ]
  },
  {
   "cell_type": "code",
   "execution_count": 89,
   "id": "55b9e268",
   "metadata": {},
   "outputs": [
    {
     "data": {
      "text/plain": [
       "21.794642857142858"
      ]
     },
     "execution_count": 89,
     "metadata": {},
     "output_type": "execute_result"
    }
   ],
   "source": [
    "np.mean(temp)"
   ]
  },
  {
   "cell_type": "code",
   "execution_count": 90,
   "id": "9538e86c",
   "metadata": {},
   "outputs": [
    {
     "data": {
      "text/plain": [
       "22.0"
      ]
     },
     "execution_count": 90,
     "metadata": {},
     "output_type": "execute_result"
    }
   ],
   "source": [
    "np.median(temp)"
   ]
  },
  {
   "cell_type": "markdown",
   "id": "5e258eba",
   "metadata": {},
   "source": [
    "# 13. Find the weekly min avg temp for the month of Dec in Jaipur"
   ]
  },
  {
   "cell_type": "code",
   "execution_count": 91,
   "id": "17d72756",
   "metadata": {},
   "outputs": [
    {
     "data": {
      "text/plain": [
       "array([['Month', 'Week', 'Monday', 'Tuesday', 'Wednesday', 'Thursday',\n",
       "        'Friday', 'Saturday', 'Sunday'],\n",
       "       ['', '', 'Min Temp', 'Min Temp', 'Min Temp', 'Min Temp',\n",
       "        'Min Temp', 'Min Temp', 'Min Temp'],\n",
       "       ['November', 'Week 1', '11', '10', '9', '14', '6', '12', '12'],\n",
       "       ['November', 'Week 2', '13', '13', '8', '-13', '6', '14', '11'],\n",
       "       ['November', 'Week 3', '6', '14', '9', '8', '13', '6', '6'],\n",
       "       ['November', 'Week 4', '6', '8', '14', '6', '13', '12', '11'],\n",
       "       ['December', 'Week 1', '11', '14', '7', '9', '9', '11', '11'],\n",
       "       ['December', 'Week 2', '9', '15', '9', '14', '8', '10', '12'],\n",
       "       ['December', 'Week 3', '6', '12', '14', '9', '7', '11', '7'],\n",
       "       ['December', 'Week 4', '7', '15', '11', '14', '12', '12', '14'],\n",
       "       ['January', 'Week 1', '5', '8', '8', '7', '8', '2', '18'],\n",
       "       ['January', 'Week 2', '4', '6', '6', '4', '4', '3', '20'],\n",
       "       ['January', 'Week 3', '5', '7', '8', '4', '4', '3', '18'],\n",
       "       ['January', 'Week 4', '6', '2', '7', '8', '8', '7', '20'],\n",
       "       ['February', 'Week 1', '8', '7', '-10', '11', '12', '12', '21'],\n",
       "       ['February', 'Week 2', '8', '10', '12', '10', '10', '8', '19'],\n",
       "       ['February', 'Week 3', '9', '11', '7', '11', '9', '7', '19'],\n",
       "       ['February', 'Week 4', '11', '7', '11', '12', '11', '12', '21']],\n",
       "      dtype='<U16')"
      ]
     },
     "execution_count": 91,
     "metadata": {},
     "output_type": "execute_result"
    }
   ],
   "source": [
    "min_temp"
   ]
  },
  {
   "cell_type": "code",
   "execution_count": 92,
   "id": "262197a2",
   "metadata": {},
   "outputs": [],
   "source": [
    "dec_min_w1 = min_temp[6:7,2:].astype(int)\n",
    "dec_min_w2 = min_temp[7:8,2:].astype(int)\n",
    "dec_min_w3 = min_temp[8:9,2:].astype(int)\n",
    "dec_min_w4 = min_temp[9:10,2:].astype(int)"
   ]
  },
  {
   "cell_type": "code",
   "execution_count": 93,
   "id": "147cdecf",
   "metadata": {},
   "outputs": [
    {
     "data": {
      "text/plain": [
       "array([[ 7, 15, 11, 14, 12, 12, 14]])"
      ]
     },
     "execution_count": 93,
     "metadata": {},
     "output_type": "execute_result"
    }
   ],
   "source": [
    "dec_min_w4"
   ]
  },
  {
   "cell_type": "code",
   "execution_count": 94,
   "id": "23823186",
   "metadata": {},
   "outputs": [
    {
     "name": "stdout",
     "output_type": "stream",
     "text": [
      "Minimum Average Temperature Week 1: 10.285714285714286\n",
      "Minimum Average Temperature Week 2: 11.0\n",
      "Minimum Average Temperature Week 3: 9.428571428571429\n",
      "Minimum Average Temperature Week 4: 12.142857142857142\n"
     ]
    }
   ],
   "source": [
    "print('Minimum Average Temperature Week 1:',np.mean(dec_min_w1))\n",
    "print('Minimum Average Temperature Week 2:',np.mean(dec_min_w2))\n",
    "print('Minimum Average Temperature Week 3:',np.mean(dec_min_w3))\n",
    "print('Minimum Average Temperature Week 4:',np.mean(dec_min_w4))"
   ]
  },
  {
   "cell_type": "markdown",
   "id": "06fbc496",
   "metadata": {},
   "source": [
    "# 14. Find the overall avg temp for the months Dec and Jan\n"
   ]
  },
  {
   "cell_type": "code",
   "execution_count": 95,
   "id": "e6cdee29",
   "metadata": {},
   "outputs": [
    {
     "data": {
      "text/plain": [
       "array([['Month', 'Week', 'Monday', 'Monday', 'Tuesday', 'Tuesday',\n",
       "        'Wednesday', 'Wednesday', 'Thursday', 'Thursday', 'Friday',\n",
       "        'Friday', 'Saturday', 'Saturday', 'Sunday', 'Sunday'],\n",
       "       ['', '', 'Min Temp', 'Max Temp', 'Min Temp', 'Max Temp',\n",
       "        'Min Temp', 'Max Temp', 'Min Temp', 'Max Temp', 'Min Temp',\n",
       "        'Max Temp', 'Min Temp', 'Max Temp', 'Min Temp', 'Max Temp'],\n",
       "       ['November', 'Week 1', '11', '20', '10', '20', '9', '30', '14',\n",
       "        '24', '6', '29', '12', '21', '12', '27']], dtype='<U16')"
      ]
     },
     "execution_count": 95,
     "metadata": {},
     "output_type": "execute_result"
    }
   ],
   "source": [
    "data[0:3]"
   ]
  },
  {
   "cell_type": "code",
   "execution_count": 96,
   "id": "9b6e9a21",
   "metadata": {},
   "outputs": [
    {
     "data": {
      "text/plain": [
       "array([[11, 25, 14, 25,  7, 20,  9, 28,  9, 23, 11, 23, 11, 30],\n",
       "       [ 9, 30, 15, 26,  9, 27, 14, 31,  8, 22, 10, 26, 12, 28],\n",
       "       [ 6, 28, 12, 31, 14, 27,  9, 32,  7, 23, 11, 32,  7, 23],\n",
       "       [ 7, 28, 15, 29, 11, 22, 14, 21, 12, 27, 12, 31, 14, 25]])"
      ]
     },
     "execution_count": 96,
     "metadata": {},
     "output_type": "execute_result"
    }
   ],
   "source": [
    "cond_dec = data[0:,0]=='December'\n",
    "dec_temp = data[cond_dec]\n",
    "dec_temp = dec_temp[:,2:].astype(int)\n",
    "dec_temp"
   ]
  },
  {
   "cell_type": "code",
   "execution_count": 97,
   "id": "4e3c8cb4",
   "metadata": {},
   "outputs": [
    {
     "data": {
      "text/plain": [
       "array([[ 5, 22,  8, 21,  8, 20,  7, 19,  8, 22,  2,  7, 18,  4],\n",
       "       [ 4, 22,  6, 20,  6, 21,  4, 22,  4, 21,  3,  3, 20,  5],\n",
       "       [ 5, 21,  7, 18,  8, 21,  4, 19,  4, 18,  3,  7, 18,  4],\n",
       "       [ 6, 19,  2, 18,  7, 20,  8, 22,  8, 19,  7,  4, 20,  8]])"
      ]
     },
     "execution_count": 97,
     "metadata": {},
     "output_type": "execute_result"
    }
   ],
   "source": [
    "jan_cond = data[:,0]=='January'\n",
    "jan_temp = data[jan_cond]\n",
    "jan_temp = jan_temp[:,2:].astype(int)\n",
    "jan_temp"
   ]
  },
  {
   "cell_type": "code",
   "execution_count": 98,
   "id": "ce3c8db7",
   "metadata": {},
   "outputs": [
    {
     "data": {
      "text/plain": [
       "18.625"
      ]
     },
     "execution_count": 98,
     "metadata": {},
     "output_type": "execute_result"
    }
   ],
   "source": [
    "np.mean(dec_temp)"
   ]
  },
  {
   "cell_type": "code",
   "execution_count": 99,
   "id": "b8541022",
   "metadata": {},
   "outputs": [
    {
     "data": {
      "text/plain": [
       "11.732142857142858"
      ]
     },
     "execution_count": 99,
     "metadata": {},
     "output_type": "execute_result"
    }
   ],
   "source": [
    "np.mean(jan_temp)"
   ]
  },
  {
   "cell_type": "code",
   "execution_count": 100,
   "id": "74ba8b38",
   "metadata": {},
   "outputs": [
    {
     "data": {
      "text/plain": [
       "15.178571428571429"
      ]
     },
     "execution_count": 100,
     "metadata": {},
     "output_type": "execute_result"
    }
   ],
   "source": [
    "#Average temperature for Dec and Jan\n",
    "\n",
    "np.mean(np.vstack((dec_temp,jan_temp)))\n"
   ]
  },
  {
   "cell_type": "markdown",
   "id": "1045630a",
   "metadata": {},
   "source": [
    "# 15. Find the least temp experienced by the city in the month of Dec and Jan. Also print the exact date( Day/Week/Month) for the same."
   ]
  },
  {
   "cell_type": "code",
   "execution_count": 101,
   "id": "74f49cd6",
   "metadata": {},
   "outputs": [
    {
     "data": {
      "text/plain": [
       "array([[11, 25, 14, 25,  7, 20,  9, 28,  9, 23, 11, 23, 11, 30],\n",
       "       [ 9, 30, 15, 26,  9, 27, 14, 31,  8, 22, 10, 26, 12, 28],\n",
       "       [ 6, 28, 12, 31, 14, 27,  9, 32,  7, 23, 11, 32,  7, 23],\n",
       "       [ 7, 28, 15, 29, 11, 22, 14, 21, 12, 27, 12, 31, 14, 25],\n",
       "       [ 5, 22,  8, 21,  8, 20,  7, 19,  8, 22,  2,  7, 18,  4],\n",
       "       [ 4, 22,  6, 20,  6, 21,  4, 22,  4, 21,  3,  3, 20,  5],\n",
       "       [ 5, 21,  7, 18,  8, 21,  4, 19,  4, 18,  3,  7, 18,  4],\n",
       "       [ 6, 19,  2, 18,  7, 20,  8, 22,  8, 19,  7,  4, 20,  8]])"
      ]
     },
     "execution_count": 101,
     "metadata": {},
     "output_type": "execute_result"
    }
   ],
   "source": [
    "dec_jan_temp = np.vstack((dec_temp,jan_temp)) \n",
    "dec_jan_temp"
   ]
  },
  {
   "cell_type": "code",
   "execution_count": 102,
   "id": "a3811e51",
   "metadata": {},
   "outputs": [
    {
     "data": {
      "text/plain": [
       "2"
      ]
     },
     "execution_count": 102,
     "metadata": {},
     "output_type": "execute_result"
    }
   ],
   "source": [
    "cond_leat_temp = np.min(dec_jan_temp)\n",
    "cond_leat_temp"
   ]
  },
  {
   "cell_type": "code",
   "execution_count": 103,
   "id": "533bc505",
   "metadata": {},
   "outputs": [],
   "source": [
    "d_j = np.hstack((data[6:14,0:2],dec_jan_temp[:,:]))"
   ]
  },
  {
   "cell_type": "code",
   "execution_count": 104,
   "id": "43acc115",
   "metadata": {},
   "outputs": [],
   "source": [
    "d_j = np.vstack((data[0:2,:],d_j))"
   ]
  },
  {
   "cell_type": "code",
   "execution_count": 105,
   "id": "f8fe74df",
   "metadata": {},
   "outputs": [
    {
     "data": {
      "text/plain": [
       "array([['Month', 'Week', 'Monday', 'Monday', 'Tuesday', 'Tuesday',\n",
       "        'Wednesday', 'Wednesday', 'Thursday', 'Thursday', 'Friday',\n",
       "        'Friday', 'Saturday', 'Saturday', 'Sunday', 'Sunday'],\n",
       "       ['', '', 'Min Temp', 'Max Temp', 'Min Temp', 'Max Temp',\n",
       "        'Min Temp', 'Max Temp', 'Min Temp', 'Max Temp', 'Min Temp',\n",
       "        'Max Temp', 'Min Temp', 'Max Temp', 'Min Temp', 'Max Temp'],\n",
       "       ['December', 'Week 1', '11', '25', '14', '25', '7', '20', '9',\n",
       "        '28', '9', '23', '11', '23', '11', '30'],\n",
       "       ['December', 'Week 2', '9', '30', '15', '26', '9', '27', '14',\n",
       "        '31', '8', '22', '10', '26', '12', '28'],\n",
       "       ['December', 'Week 3', '6', '28', '12', '31', '14', '27', '9',\n",
       "        '32', '7', '23', '11', '32', '7', '23'],\n",
       "       ['December', 'Week 4', '7', '28', '15', '29', '11', '22', '14',\n",
       "        '21', '12', '27', '12', '31', '14', '25'],\n",
       "       ['January', 'Week 1', '5', '22', '8', '21', '8', '20', '7', '19',\n",
       "        '8', '22', '2', '7', '18', '4'],\n",
       "       ['January', 'Week 2', '4', '22', '6', '20', '6', '21', '4', '22',\n",
       "        '4', '21', '3', '3', '20', '5'],\n",
       "       ['January', 'Week 3', '5', '21', '7', '18', '8', '21', '4', '19',\n",
       "        '4', '18', '3', '7', '18', '4'],\n",
       "       ['January', 'Week 4', '6', '19', '2', '18', '7', '20', '8', '22',\n",
       "        '8', '19', '7', '4', '20', '8']], dtype='<U16')"
      ]
     },
     "execution_count": 105,
     "metadata": {},
     "output_type": "execute_result"
    }
   ],
   "source": [
    "d_j"
   ]
  },
  {
   "cell_type": "code",
   "execution_count": 106,
   "id": "854af384",
   "metadata": {},
   "outputs": [
    {
     "data": {
      "text/plain": [
       "array([False, False, False, False, False, False, False, False, False,\n",
       "       False])"
      ]
     },
     "execution_count": 106,
     "metadata": {},
     "output_type": "execute_result"
    }
   ],
   "source": [
    "condn = d_j[:,2]=='2'\n",
    "condn"
   ]
  },
  {
   "cell_type": "code",
   "execution_count": 107,
   "id": "96bf9462",
   "metadata": {},
   "outputs": [
    {
     "data": {
      "text/plain": [
       "array([False, False, False, False, False, False, False, False, False,\n",
       "       False])"
      ]
     },
     "execution_count": 107,
     "metadata": {},
     "output_type": "execute_result"
    }
   ],
   "source": [
    "condn = d_j[:,3]=='2'\n",
    "condn"
   ]
  },
  {
   "cell_type": "code",
   "execution_count": 108,
   "id": "1be8ec91",
   "metadata": {},
   "outputs": [
    {
     "data": {
      "text/plain": [
       "array([False, False, False, False, False, False, False, False, False,\n",
       "        True])"
      ]
     },
     "execution_count": 108,
     "metadata": {},
     "output_type": "execute_result"
    }
   ],
   "source": [
    "condn = d_j[:,4]=='2'\n",
    "condn"
   ]
  },
  {
   "cell_type": "code",
   "execution_count": 109,
   "id": "2bf5bf6a",
   "metadata": {},
   "outputs": [
    {
     "data": {
      "text/plain": [
       "array([['January', 'Week 4', '6', '19', '2', '18', '7', '20', '8', '22',\n",
       "        '8', '19', '7', '4', '20', '8']], dtype='<U16')"
      ]
     },
     "execution_count": 109,
     "metadata": {},
     "output_type": "execute_result"
    }
   ],
   "source": [
    "d_j[condn]"
   ]
  },
  {
   "cell_type": "code",
   "execution_count": 110,
   "id": "f8f7d84e",
   "metadata": {},
   "outputs": [
    {
     "data": {
      "text/plain": [
       "array([False, False, False, False, False, False, False, False, False,\n",
       "       False])"
      ]
     },
     "execution_count": 110,
     "metadata": {},
     "output_type": "execute_result"
    }
   ],
   "source": [
    "condn = d_j[:,5]=='2'\n",
    "condn"
   ]
  },
  {
   "cell_type": "code",
   "execution_count": 111,
   "id": "678e67b2",
   "metadata": {},
   "outputs": [
    {
     "data": {
      "text/plain": [
       "array([False, False, False, False, False, False, False, False, False,\n",
       "       False])"
      ]
     },
     "execution_count": 111,
     "metadata": {},
     "output_type": "execute_result"
    }
   ],
   "source": [
    "condn = d_j[:,6]=='2'\n",
    "condn"
   ]
  },
  {
   "cell_type": "code",
   "execution_count": 112,
   "id": "4cbda046",
   "metadata": {},
   "outputs": [
    {
     "data": {
      "text/plain": [
       "array([False, False, False, False, False, False, False, False, False,\n",
       "       False])"
      ]
     },
     "execution_count": 112,
     "metadata": {},
     "output_type": "execute_result"
    }
   ],
   "source": [
    "condn = d_j[:,7]=='2'\n",
    "condn"
   ]
  },
  {
   "cell_type": "code",
   "execution_count": 113,
   "id": "09d886b3",
   "metadata": {},
   "outputs": [
    {
     "data": {
      "text/plain": [
       "array([False, False, False, False, False, False, False, False, False,\n",
       "       False])"
      ]
     },
     "execution_count": 113,
     "metadata": {},
     "output_type": "execute_result"
    }
   ],
   "source": [
    "condn = d_j[:,8]=='2'\n",
    "condn"
   ]
  },
  {
   "cell_type": "code",
   "execution_count": 114,
   "id": "3319ac66",
   "metadata": {},
   "outputs": [
    {
     "data": {
      "text/plain": [
       "array([False, False, False, False, False, False, False, False, False,\n",
       "       False])"
      ]
     },
     "execution_count": 114,
     "metadata": {},
     "output_type": "execute_result"
    }
   ],
   "source": [
    "condn = d_j[:,9]=='2'\n",
    "condn"
   ]
  },
  {
   "cell_type": "code",
   "execution_count": 115,
   "id": "47937a5d",
   "metadata": {},
   "outputs": [
    {
     "data": {
      "text/plain": [
       "array([False, False, False, False, False, False, False, False, False,\n",
       "       False])"
      ]
     },
     "execution_count": 115,
     "metadata": {},
     "output_type": "execute_result"
    }
   ],
   "source": [
    "condn = d_j[:,10]=='2'\n",
    "condn"
   ]
  },
  {
   "cell_type": "code",
   "execution_count": 116,
   "id": "b5db8c3b",
   "metadata": {},
   "outputs": [
    {
     "data": {
      "text/plain": [
       "array([False, False, False, False, False, False, False, False, False,\n",
       "       False])"
      ]
     },
     "execution_count": 116,
     "metadata": {},
     "output_type": "execute_result"
    }
   ],
   "source": [
    "condn = d_j[:,11]=='2'\n",
    "condn"
   ]
  },
  {
   "cell_type": "code",
   "execution_count": 117,
   "id": "68138680",
   "metadata": {},
   "outputs": [
    {
     "data": {
      "text/plain": [
       "array([False, False, False, False, False, False,  True, False, False,\n",
       "       False])"
      ]
     },
     "execution_count": 117,
     "metadata": {},
     "output_type": "execute_result"
    }
   ],
   "source": [
    "condn = d_j[:,12]=='2'\n",
    "condn"
   ]
  },
  {
   "cell_type": "code",
   "execution_count": 118,
   "id": "cb4b039b",
   "metadata": {},
   "outputs": [
    {
     "data": {
      "text/plain": [
       "array([['January', 'Week 1', '5', '22', '8', '21', '8', '20', '7', '19',\n",
       "        '8', '22', '2', '7', '18', '4']], dtype='<U16')"
      ]
     },
     "execution_count": 118,
     "metadata": {},
     "output_type": "execute_result"
    }
   ],
   "source": [
    "d_j[condn]"
   ]
  },
  {
   "cell_type": "code",
   "execution_count": 119,
   "id": "71efb9a5",
   "metadata": {},
   "outputs": [
    {
     "data": {
      "text/plain": [
       "array([False, False, False, False, False, False, False, False, False,\n",
       "       False])"
      ]
     },
     "execution_count": 119,
     "metadata": {},
     "output_type": "execute_result"
    }
   ],
   "source": [
    "condn = d_j[:,13]=='2'\n",
    "condn"
   ]
  },
  {
   "cell_type": "code",
   "execution_count": 120,
   "id": "f9b43ddf",
   "metadata": {},
   "outputs": [
    {
     "data": {
      "text/plain": [
       "array([False, False, False, False, False, False, False, False, False,\n",
       "       False])"
      ]
     },
     "execution_count": 120,
     "metadata": {},
     "output_type": "execute_result"
    }
   ],
   "source": [
    "condn = d_j[:,15]=='2'\n",
    "condn"
   ]
  },
  {
   "cell_type": "code",
   "execution_count": null,
   "id": "c5246074",
   "metadata": {},
   "outputs": [],
   "source": []
  },
  {
   "cell_type": "markdown",
   "id": "f14de59b",
   "metadata": {},
   "source": [
    "# 16. Find the max temp in the month of Feb and return its date(Day/Week/Month)\n"
   ]
  },
  {
   "cell_type": "code",
   "execution_count": 136,
   "id": "248ff55d",
   "metadata": {},
   "outputs": [
    {
     "data": {
      "text/plain": [
       "array([['Month', 'Week', 'Monday', 'Monday', 'Tuesday', 'Tuesday',\n",
       "        'Wednesday', 'Wednesday', 'Thursday', 'Thursday', 'Friday',\n",
       "        'Friday', 'Saturday', 'Saturday', 'Sunday', 'Sunday'],\n",
       "       ['', '', 'Min Temp', 'Max Temp', 'Min Temp', 'Max Temp',\n",
       "        'Min Temp', 'Max Temp', 'Min Temp', 'Max Temp', 'Min Temp',\n",
       "        'Max Temp', 'Min Temp', 'Max Temp', 'Min Temp', 'Max Temp']],\n",
       "      dtype='<U16')"
      ]
     },
     "execution_count": 136,
     "metadata": {},
     "output_type": "execute_result"
    }
   ],
   "source": [
    "data[:2]"
   ]
  },
  {
   "cell_type": "code",
   "execution_count": 137,
   "id": "d4dfbd1a",
   "metadata": {},
   "outputs": [],
   "source": [
    "cond_feb = data[:,0]=='February'"
   ]
  },
  {
   "cell_type": "code",
   "execution_count": 138,
   "id": "ae3d549a",
   "metadata": {},
   "outputs": [
    {
     "data": {
      "text/plain": [
       "array([['February', 'Week 1', '8', '22', '7', '19', '-10', '18', '11',\n",
       "        '19', '12', '20', '12', '71', '21', '12'],\n",
       "       ['February', 'Week 2', '8', '19', '10', '20', '12', '18', '10',\n",
       "        '18', '10', '22', '8', '11', '19', '7'],\n",
       "       ['February', 'Week 3', '9', '22', '11', '19', '7', '21', '11',\n",
       "        '21', '9', '19', '7', '10', '19', '10'],\n",
       "       ['February', 'Week 4', '11', '21', '7', '20', '11', '21', '12',\n",
       "        '18', '11', '20', '12', '7', '21', '9']], dtype='<U16')"
      ]
     },
     "execution_count": 138,
     "metadata": {},
     "output_type": "execute_result"
    }
   ],
   "source": [
    "feb_temp1 = data[cond_feb]\n",
    "feb_temp1"
   ]
  },
  {
   "cell_type": "code",
   "execution_count": 139,
   "id": "580581ac",
   "metadata": {},
   "outputs": [],
   "source": [
    "feb_temp2 = feb_temp1[:,2:].astype(int)"
   ]
  },
  {
   "cell_type": "code",
   "execution_count": 140,
   "id": "e3044b9f",
   "metadata": {},
   "outputs": [],
   "source": [
    "max_tem_feb = np.max(feb_temp2)"
   ]
  },
  {
   "cell_type": "code",
   "execution_count": 141,
   "id": "bba4b625",
   "metadata": {},
   "outputs": [
    {
     "data": {
      "text/plain": [
       "71"
      ]
     },
     "execution_count": 141,
     "metadata": {},
     "output_type": "execute_result"
    }
   ],
   "source": [
    "max_tem_feb"
   ]
  },
  {
   "cell_type": "code",
   "execution_count": 142,
   "id": "f37b7760",
   "metadata": {
    "scrolled": true
   },
   "outputs": [
    {
     "data": {
      "text/plain": [
       "array([False, False, False, False])"
      ]
     },
     "execution_count": 142,
     "metadata": {},
     "output_type": "execute_result"
    }
   ],
   "source": [
    "cond_1 = feb_temp1[:,2]=='71'\n",
    "cond_1"
   ]
  },
  {
   "cell_type": "code",
   "execution_count": 143,
   "id": "ac93d2bc",
   "metadata": {},
   "outputs": [
    {
     "data": {
      "text/plain": [
       "array([], shape=(0, 16), dtype='<U16')"
      ]
     },
     "execution_count": 143,
     "metadata": {},
     "output_type": "execute_result"
    }
   ],
   "source": [
    "feb_temp1[cond_1]"
   ]
  },
  {
   "cell_type": "code",
   "execution_count": 144,
   "id": "73f8f525",
   "metadata": {},
   "outputs": [
    {
     "data": {
      "text/plain": [
       "array([False, False, False, False])"
      ]
     },
     "execution_count": 144,
     "metadata": {},
     "output_type": "execute_result"
    }
   ],
   "source": [
    "cond_1 = feb_temp1[:,3]=='71'\n",
    "cond_1"
   ]
  },
  {
   "cell_type": "code",
   "execution_count": 145,
   "id": "2c9a4dcc",
   "metadata": {},
   "outputs": [
    {
     "data": {
      "text/plain": [
       "array([False, False, False, False])"
      ]
     },
     "execution_count": 145,
     "metadata": {},
     "output_type": "execute_result"
    }
   ],
   "source": [
    "cond_1 = feb_temp1[:,4]=='71'\n",
    "cond_1"
   ]
  },
  {
   "cell_type": "code",
   "execution_count": 146,
   "id": "c10bd82f",
   "metadata": {},
   "outputs": [
    {
     "data": {
      "text/plain": [
       "array([False, False, False, False])"
      ]
     },
     "execution_count": 146,
     "metadata": {},
     "output_type": "execute_result"
    }
   ],
   "source": [
    "cond_1 = feb_temp1[:,5]=='71'\n",
    "cond_1"
   ]
  },
  {
   "cell_type": "code",
   "execution_count": 147,
   "id": "7429cc25",
   "metadata": {},
   "outputs": [
    {
     "data": {
      "text/plain": [
       "array([False, False, False, False])"
      ]
     },
     "execution_count": 147,
     "metadata": {},
     "output_type": "execute_result"
    }
   ],
   "source": [
    "cond_1 = feb_temp1[:,6]=='71'\n",
    "cond_1"
   ]
  },
  {
   "cell_type": "code",
   "execution_count": 148,
   "id": "4a4df707",
   "metadata": {},
   "outputs": [
    {
     "data": {
      "text/plain": [
       "array([False, False, False, False])"
      ]
     },
     "execution_count": 148,
     "metadata": {},
     "output_type": "execute_result"
    }
   ],
   "source": [
    "cond_1 = feb_temp1[:,7]=='71'\n",
    "cond_1"
   ]
  },
  {
   "cell_type": "code",
   "execution_count": 149,
   "id": "2c2dc9d2",
   "metadata": {},
   "outputs": [
    {
     "data": {
      "text/plain": [
       "array([False, False, False, False])"
      ]
     },
     "execution_count": 149,
     "metadata": {},
     "output_type": "execute_result"
    }
   ],
   "source": [
    "cond_1 = feb_temp1[:,8]=='71'\n",
    "cond_1"
   ]
  },
  {
   "cell_type": "code",
   "execution_count": 150,
   "id": "15dd36a8",
   "metadata": {},
   "outputs": [
    {
     "data": {
      "text/plain": [
       "array([False, False, False, False])"
      ]
     },
     "execution_count": 150,
     "metadata": {},
     "output_type": "execute_result"
    }
   ],
   "source": [
    "cond_1 = feb_temp1[:,9]=='71'\n",
    "cond_1"
   ]
  },
  {
   "cell_type": "code",
   "execution_count": 151,
   "id": "1991a252",
   "metadata": {},
   "outputs": [
    {
     "data": {
      "text/plain": [
       "array([False, False, False, False])"
      ]
     },
     "execution_count": 151,
     "metadata": {},
     "output_type": "execute_result"
    }
   ],
   "source": [
    "cond_1 = feb_temp1[:,10]=='71'\n",
    "cond_1"
   ]
  },
  {
   "cell_type": "code",
   "execution_count": 152,
   "id": "fd4ede5b",
   "metadata": {},
   "outputs": [
    {
     "data": {
      "text/plain": [
       "array([False, False, False, False])"
      ]
     },
     "execution_count": 152,
     "metadata": {},
     "output_type": "execute_result"
    }
   ],
   "source": [
    "cond_1 = feb_temp1[:,11]=='71'\n",
    "cond_1"
   ]
  },
  {
   "cell_type": "code",
   "execution_count": 153,
   "id": "3f17189f",
   "metadata": {},
   "outputs": [
    {
     "data": {
      "text/plain": [
       "array([False, False, False, False])"
      ]
     },
     "execution_count": 153,
     "metadata": {},
     "output_type": "execute_result"
    }
   ],
   "source": [
    "cond_1 = feb_temp1[:,12]=='71'\n",
    "cond_1"
   ]
  },
  {
   "cell_type": "code",
   "execution_count": 154,
   "id": "22d7a813",
   "metadata": {},
   "outputs": [
    {
     "data": {
      "text/plain": [
       "array([ True, False, False, False])"
      ]
     },
     "execution_count": 154,
     "metadata": {},
     "output_type": "execute_result"
    }
   ],
   "source": [
    "cond_1 = feb_temp1[:,13]=='71'\n",
    "cond_1"
   ]
  },
  {
   "cell_type": "code",
   "execution_count": 155,
   "id": "cfd18ac7",
   "metadata": {},
   "outputs": [
    {
     "data": {
      "text/plain": [
       "array([['February', 'Week 1', '8', '22', '7', '19', '-10', '18', '11',\n",
       "        '19', '12', '20', '12', '71', '21', '12']], dtype='<U16')"
      ]
     },
     "execution_count": 155,
     "metadata": {},
     "output_type": "execute_result"
    }
   ],
   "source": [
    "feb_temp1[cond_1]"
   ]
  },
  {
   "cell_type": "code",
   "execution_count": 156,
   "id": "6737c92c",
   "metadata": {},
   "outputs": [
    {
     "data": {
      "text/plain": [
       "array([False, False, False, False])"
      ]
     },
     "execution_count": 156,
     "metadata": {},
     "output_type": "execute_result"
    }
   ],
   "source": [
    "cond_1 = feb_temp1[:,14]=='71'\n",
    "cond_1"
   ]
  },
  {
   "cell_type": "code",
   "execution_count": 157,
   "id": "80f7fa64",
   "metadata": {},
   "outputs": [
    {
     "data": {
      "text/plain": [
       "array([False, False, False, False])"
      ]
     },
     "execution_count": 157,
     "metadata": {},
     "output_type": "execute_result"
    }
   ],
   "source": [
    "cond_1 = feb_temp1[:,15]=='71'\n",
    "cond_1"
   ]
  },
  {
   "cell_type": "markdown",
   "id": "4cde3079",
   "metadata": {},
   "source": [
    "# 17. Find the days in the month of Nov where the max temp of the day dropped below the avg temp of the month.\n",
    "\n"
   ]
  },
  {
   "cell_type": "code",
   "execution_count": 158,
   "id": "3c3e239d",
   "metadata": {},
   "outputs": [
    {
     "data": {
      "text/plain": [
       "array([['Month', 'Week', 'Monday', 'Monday', 'Tuesday', 'Tuesday',\n",
       "        'Wednesday', 'Wednesday', 'Thursday', 'Thursday', 'Friday',\n",
       "        'Friday', 'Saturday', 'Saturday', 'Sunday', 'Sunday'],\n",
       "       ['', '', 'Min Temp', 'Max Temp', 'Min Temp', 'Max Temp',\n",
       "        'Min Temp', 'Max Temp', 'Min Temp', 'Max Temp', 'Min Temp',\n",
       "        'Max Temp', 'Min Temp', 'Max Temp', 'Min Temp', 'Max Temp'],\n",
       "       ['November', 'Week 1', '11', '20', '10', '20', '9', '30', '14',\n",
       "        '24', '6', '29', '12', '21', '12', '27']], dtype='<U16')"
      ]
     },
     "execution_count": 158,
     "metadata": {},
     "output_type": "execute_result"
    }
   ],
   "source": [
    "data[0:3]"
   ]
  },
  {
   "cell_type": "code",
   "execution_count": 159,
   "id": "f23f39e9",
   "metadata": {},
   "outputs": [
    {
     "data": {
      "text/plain": [
       "array([['Month', 'Week', 'Monday', 'Tuesday', 'Wednesday', 'Thursday',\n",
       "        'Friday', 'Saturday', 'Sunday'],\n",
       "       ['', '', 'Max Temp', 'Max Temp', 'Max Temp', 'Max Temp',\n",
       "        'Max Temp', 'Max Temp', 'Max Temp'],\n",
       "       ['November', 'Week 1', '20', '20', '30', '24', '29', '21', '27'],\n",
       "       ['November', 'Week 2', '23', '29', '22', '32', '21', '23', '28'],\n",
       "       ['November', 'Week 3', '28', '21', '32', '28', '30', '31', '23'],\n",
       "       ['November', 'Week 4', '23', '23', '24', '29', '25', '24', '27'],\n",
       "       ['December', 'Week 1', '25', '25', '20', '28', '23', '23', '30'],\n",
       "       ['December', 'Week 2', '30', '26', '27', '31', '22', '26', '28'],\n",
       "       ['December', 'Week 3', '28', '31', '27', '32', '23', '32', '23'],\n",
       "       ['December', 'Week 4', '28', '29', '22', '21', '27', '31', '25'],\n",
       "       ['January', 'Week 1', '22', '21', '20', '19', '22', '7', '4'],\n",
       "       ['January', 'Week 2', '22', '20', '21', '22', '21', '3', '5'],\n",
       "       ['January', 'Week 3', '21', '18', '21', '19', '18', '7', '4'],\n",
       "       ['January', 'Week 4', '19', '18', '20', '22', '19', '4', '8'],\n",
       "       ['February', 'Week 1', '22', '19', '18', '19', '20', '71', '12'],\n",
       "       ['February', 'Week 2', '19', '20', '18', '18', '22', '11', '7'],\n",
       "       ['February', 'Week 3', '22', '19', '21', '21', '19', '10', '10'],\n",
       "       ['February', 'Week 4', '21', '20', '21', '18', '20', '7', '9']],\n",
       "      dtype='<U16')"
      ]
     },
     "execution_count": 159,
     "metadata": {},
     "output_type": "execute_result"
    }
   ],
   "source": [
    "max_temp"
   ]
  },
  {
   "cell_type": "code",
   "execution_count": 160,
   "id": "266ca16c",
   "metadata": {},
   "outputs": [
    {
     "data": {
      "text/plain": [
       "array([False, False,  True,  True,  True,  True, False, False, False,\n",
       "       False, False, False, False, False, False, False, False, False])"
      ]
     },
     "execution_count": 160,
     "metadata": {},
     "output_type": "execute_result"
    }
   ],
   "source": [
    "cond_nov_temp = data[0:,0]=='November'\n",
    "cond_nov_temp"
   ]
  },
  {
   "cell_type": "code",
   "execution_count": 161,
   "id": "95a65689",
   "metadata": {},
   "outputs": [
    {
     "data": {
      "text/plain": [
       "array([['November', 'Week 1', '11', '20', '10', '20', '9', '30', '14',\n",
       "        '24', '6', '29', '12', '21', '12', '27'],\n",
       "       ['November', 'Week 2', '13', '23', '13', '29', '8', '22', '-13',\n",
       "        '32', '6', '21', '14', '23', '11', '28'],\n",
       "       ['November', 'Week 3', '6', '28', '14', '21', '9', '32', '8',\n",
       "        '28', '13', '30', '6', '31', '6', '23'],\n",
       "       ['November', 'Week 4', '6', '23', '8', '23', '14', '24', '6',\n",
       "        '29', '13', '25', '12', '24', '11', '27']], dtype='<U16')"
      ]
     },
     "execution_count": 161,
     "metadata": {},
     "output_type": "execute_result"
    }
   ],
   "source": [
    "nov_temp = data[cond_nov_temp]\n",
    "nov_temp"
   ]
  },
  {
   "cell_type": "code",
   "execution_count": 162,
   "id": "989dbd1b",
   "metadata": {},
   "outputs": [],
   "source": [
    "nov_temp = nov_temp[:,2:].astype(int)"
   ]
  },
  {
   "cell_type": "code",
   "execution_count": 163,
   "id": "144c0f56",
   "metadata": {},
   "outputs": [
    {
     "data": {
      "text/plain": [
       "17.410714285714285"
      ]
     },
     "execution_count": 163,
     "metadata": {},
     "output_type": "execute_result"
    }
   ],
   "source": [
    "mean_nov = np.mean(nov_temp)\n",
    "mean_nov"
   ]
  },
  {
   "cell_type": "code",
   "execution_count": 164,
   "id": "8476ac3b",
   "metadata": {},
   "outputs": [
    {
     "data": {
      "text/plain": [
       "array([['November', 'Week 1', '20', '20', '30', '24', '29', '21', '27'],\n",
       "       ['November', 'Week 2', '23', '29', '22', '32', '21', '23', '28'],\n",
       "       ['November', 'Week 3', '28', '21', '32', '28', '30', '31', '23'],\n",
       "       ['November', 'Week 4', '23', '23', '24', '29', '25', '24', '27']],\n",
       "      dtype='<U16')"
      ]
     },
     "execution_count": 164,
     "metadata": {},
     "output_type": "execute_result"
    }
   ],
   "source": [
    "nov_max = max_temp[2:6,:]\n",
    "nov_max"
   ]
  },
  {
   "cell_type": "code",
   "execution_count": 165,
   "id": "2e76034a",
   "metadata": {},
   "outputs": [],
   "source": [
    "nov_max = nov_max[:,2:].astype(int)"
   ]
  },
  {
   "cell_type": "code",
   "execution_count": 166,
   "id": "b6b63d95",
   "metadata": {},
   "outputs": [
    {
     "data": {
      "text/plain": [
       "(4, 7)"
      ]
     },
     "execution_count": 166,
     "metadata": {},
     "output_type": "execute_result"
    }
   ],
   "source": [
    "nov_max.shape"
   ]
  },
  {
   "cell_type": "code",
   "execution_count": 167,
   "id": "4965362d",
   "metadata": {},
   "outputs": [],
   "source": [
    "cond = nov_max<mean"
   ]
  },
  {
   "cell_type": "code",
   "execution_count": 168,
   "id": "86aae0e6",
   "metadata": {},
   "outputs": [
    {
     "data": {
      "text/plain": [
       "array([[False, False, False, False, False, False, False],\n",
       "       [False, False, False, False, False, False, False],\n",
       "       [False, False, False, False, False, False, False],\n",
       "       [False, False, False, False, False, False, False]])"
      ]
     },
     "execution_count": 168,
     "metadata": {},
     "output_type": "execute_result"
    }
   ],
   "source": [
    "cond"
   ]
  },
  {
   "cell_type": "code",
   "execution_count": 169,
   "id": "d0bd9f88",
   "metadata": {},
   "outputs": [
    {
     "data": {
      "text/plain": [
       "array([], dtype=bool)"
      ]
     },
     "execution_count": 169,
     "metadata": {},
     "output_type": "execute_result"
    }
   ],
   "source": [
    "cond[cond]"
   ]
  },
  {
   "cell_type": "markdown",
   "id": "5132db32",
   "metadata": {},
   "source": [
    "No days are there, where maximum temperature is lesser than avaerage temperature"
   ]
  },
  {
   "cell_type": "markdown",
   "id": "e8992864",
   "metadata": {},
   "source": [
    "......................................................"
   ]
  },
  {
   "cell_type": "markdown",
   "id": "febfc1b5",
   "metadata": {},
   "source": [
    "# 18. Convert the above dataset into an array where the weeks of the same month must be present in the same row, but belonging to different months should come in a row either below or above the selected month.\n"
   ]
  },
  {
   "cell_type": "code",
   "execution_count": 170,
   "id": "5b613a53",
   "metadata": {},
   "outputs": [
    {
     "data": {
      "text/plain": [
       "array([['Month', 'Week', 'Monday', 'Monday', 'Tuesday', 'Tuesday',\n",
       "        'Wednesday', 'Wednesday', 'Thursday', 'Thursday', 'Friday',\n",
       "        'Friday', 'Saturday', 'Saturday', 'Sunday', 'Sunday'],\n",
       "       ['', '', 'Min Temp', 'Max Temp', 'Min Temp', 'Max Temp',\n",
       "        'Min Temp', 'Max Temp', 'Min Temp', 'Max Temp', 'Min Temp',\n",
       "        'Max Temp', 'Min Temp', 'Max Temp', 'Min Temp', 'Max Temp'],\n",
       "       ['November', 'Week 1', '11', '20', '10', '20', '9', '30', '14',\n",
       "        '24', '6', '29', '12', '21', '12', '27'],\n",
       "       ['November', 'Week 2', '13', '23', '13', '29', '8', '22', '-13',\n",
       "        '32', '6', '21', '14', '23', '11', '28'],\n",
       "       ['November', 'Week 3', '6', '28', '14', '21', '9', '32', '8',\n",
       "        '28', '13', '30', '6', '31', '6', '23'],\n",
       "       ['November', 'Week 4', '6', '23', '8', '23', '14', '24', '6',\n",
       "        '29', '13', '25', '12', '24', '11', '27'],\n",
       "       ['December', 'Week 1', '11', '25', '14', '25', '7', '20', '9',\n",
       "        '28', '9', '23', '11', '23', '11', '30'],\n",
       "       ['December', 'Week 2', '9', '30', '15', '26', '9', '27', '14',\n",
       "        '31', '8', '22', '10', '26', '12', '28'],\n",
       "       ['December', 'Week 3', '6', '28', '12', '31', '14', '27', '9',\n",
       "        '32', '7', '23', '11', '32', '7', '23'],\n",
       "       ['December', 'Week 4', '7', '28', '15', '29', '11', '22', '14',\n",
       "        '21', '12', '27', '12', '31', '14', '25'],\n",
       "       ['January', 'Week 1', '5', '22', '8', '21', '8', '20', '7', '19',\n",
       "        '8', '22', '2', '7', '18', '4'],\n",
       "       ['January', 'Week 2', '4', '22', '6', '20', '6', '21', '4', '22',\n",
       "        '4', '21', '3', '3', '20', '5'],\n",
       "       ['January', 'Week 3', '5', '21', '7', '18', '8', '21', '4', '19',\n",
       "        '4', '18', '3', '7', '18', '4'],\n",
       "       ['January', 'Week 4', '6', '19', '2', '18', '7', '20', '8', '22',\n",
       "        '8', '19', '7', '4', '20', '8'],\n",
       "       ['February', 'Week 1', '8', '22', '7', '19', '-10', '18', '11',\n",
       "        '19', '12', '20', '12', '71', '21', '12'],\n",
       "       ['February', 'Week 2', '8', '19', '10', '20', '12', '18', '10',\n",
       "        '18', '10', '22', '8', '11', '19', '7'],\n",
       "       ['February', 'Week 3', '9', '22', '11', '19', '7', '21', '11',\n",
       "        '21', '9', '19', '7', '10', '19', '10'],\n",
       "       ['February', 'Week 4', '11', '21', '7', '20', '11', '21', '12',\n",
       "        '18', '11', '20', '12', '7', '21', '9']], dtype='<U16')"
      ]
     },
     "execution_count": 170,
     "metadata": {},
     "output_type": "execute_result"
    }
   ],
   "source": [
    "data\n"
   ]
  },
  {
   "cell_type": "markdown",
   "id": "823b305c",
   "metadata": {},
   "source": [
    "# 19. The above data is appropriate for an audience who follow the metric system of measurement. Create an array that holds the same data but presented in Fahrenheit.\n"
   ]
  },
  {
   "cell_type": "code",
   "execution_count": 171,
   "id": "c086a3b2",
   "metadata": {},
   "outputs": [],
   "source": [
    "data_1 = data[2:,2:].astype(int)"
   ]
  },
  {
   "cell_type": "code",
   "execution_count": 172,
   "id": "3bcbbb3d",
   "metadata": {},
   "outputs": [
    {
     "data": {
      "text/plain": [
       "array([[ 11,  20,  10,  20,   9,  30,  14,  24,   6,  29,  12,  21,  12,\n",
       "         27],\n",
       "       [ 13,  23,  13,  29,   8,  22, -13,  32,   6,  21,  14,  23,  11,\n",
       "         28],\n",
       "       [  6,  28,  14,  21,   9,  32,   8,  28,  13,  30,   6,  31,   6,\n",
       "         23],\n",
       "       [  6,  23,   8,  23,  14,  24,   6,  29,  13,  25,  12,  24,  11,\n",
       "         27],\n",
       "       [ 11,  25,  14,  25,   7,  20,   9,  28,   9,  23,  11,  23,  11,\n",
       "         30],\n",
       "       [  9,  30,  15,  26,   9,  27,  14,  31,   8,  22,  10,  26,  12,\n",
       "         28],\n",
       "       [  6,  28,  12,  31,  14,  27,   9,  32,   7,  23,  11,  32,   7,\n",
       "         23],\n",
       "       [  7,  28,  15,  29,  11,  22,  14,  21,  12,  27,  12,  31,  14,\n",
       "         25],\n",
       "       [  5,  22,   8,  21,   8,  20,   7,  19,   8,  22,   2,   7,  18,\n",
       "          4],\n",
       "       [  4,  22,   6,  20,   6,  21,   4,  22,   4,  21,   3,   3,  20,\n",
       "          5],\n",
       "       [  5,  21,   7,  18,   8,  21,   4,  19,   4,  18,   3,   7,  18,\n",
       "          4],\n",
       "       [  6,  19,   2,  18,   7,  20,   8,  22,   8,  19,   7,   4,  20,\n",
       "          8],\n",
       "       [  8,  22,   7,  19, -10,  18,  11,  19,  12,  20,  12,  71,  21,\n",
       "         12],\n",
       "       [  8,  19,  10,  20,  12,  18,  10,  18,  10,  22,   8,  11,  19,\n",
       "          7],\n",
       "       [  9,  22,  11,  19,   7,  21,  11,  21,   9,  19,   7,  10,  19,\n",
       "         10],\n",
       "       [ 11,  21,   7,  20,  11,  21,  12,  18,  11,  20,  12,   7,  21,\n",
       "          9]])"
      ]
     },
     "execution_count": 172,
     "metadata": {},
     "output_type": "execute_result"
    }
   ],
   "source": [
    "data_1"
   ]
  },
  {
   "cell_type": "code",
   "execution_count": 173,
   "id": "13ef5105",
   "metadata": {},
   "outputs": [
    {
     "data": {
      "text/plain": [
       "array([[ 19.8,  36. ,  18. ,  36. ,  16.2,  54. ,  25.2,  43.2,  10.8,\n",
       "         52.2,  21.6,  37.8,  21.6,  48.6],\n",
       "       [ 23.4,  41.4,  23.4,  52.2,  14.4,  39.6, -23.4,  57.6,  10.8,\n",
       "         37.8,  25.2,  41.4,  19.8,  50.4],\n",
       "       [ 10.8,  50.4,  25.2,  37.8,  16.2,  57.6,  14.4,  50.4,  23.4,\n",
       "         54. ,  10.8,  55.8,  10.8,  41.4],\n",
       "       [ 10.8,  41.4,  14.4,  41.4,  25.2,  43.2,  10.8,  52.2,  23.4,\n",
       "         45. ,  21.6,  43.2,  19.8,  48.6],\n",
       "       [ 19.8,  45. ,  25.2,  45. ,  12.6,  36. ,  16.2,  50.4,  16.2,\n",
       "         41.4,  19.8,  41.4,  19.8,  54. ],\n",
       "       [ 16.2,  54. ,  27. ,  46.8,  16.2,  48.6,  25.2,  55.8,  14.4,\n",
       "         39.6,  18. ,  46.8,  21.6,  50.4],\n",
       "       [ 10.8,  50.4,  21.6,  55.8,  25.2,  48.6,  16.2,  57.6,  12.6,\n",
       "         41.4,  19.8,  57.6,  12.6,  41.4],\n",
       "       [ 12.6,  50.4,  27. ,  52.2,  19.8,  39.6,  25.2,  37.8,  21.6,\n",
       "         48.6,  21.6,  55.8,  25.2,  45. ],\n",
       "       [  9. ,  39.6,  14.4,  37.8,  14.4,  36. ,  12.6,  34.2,  14.4,\n",
       "         39.6,   3.6,  12.6,  32.4,   7.2],\n",
       "       [  7.2,  39.6,  10.8,  36. ,  10.8,  37.8,   7.2,  39.6,   7.2,\n",
       "         37.8,   5.4,   5.4,  36. ,   9. ],\n",
       "       [  9. ,  37.8,  12.6,  32.4,  14.4,  37.8,   7.2,  34.2,   7.2,\n",
       "         32.4,   5.4,  12.6,  32.4,   7.2],\n",
       "       [ 10.8,  34.2,   3.6,  32.4,  12.6,  36. ,  14.4,  39.6,  14.4,\n",
       "         34.2,  12.6,   7.2,  36. ,  14.4],\n",
       "       [ 14.4,  39.6,  12.6,  34.2, -18. ,  32.4,  19.8,  34.2,  21.6,\n",
       "         36. ,  21.6, 127.8,  37.8,  21.6],\n",
       "       [ 14.4,  34.2,  18. ,  36. ,  21.6,  32.4,  18. ,  32.4,  18. ,\n",
       "         39.6,  14.4,  19.8,  34.2,  12.6],\n",
       "       [ 16.2,  39.6,  19.8,  34.2,  12.6,  37.8,  19.8,  37.8,  16.2,\n",
       "         34.2,  12.6,  18. ,  34.2,  18. ],\n",
       "       [ 19.8,  37.8,  12.6,  36. ,  19.8,  37.8,  21.6,  32.4,  19.8,\n",
       "         36. ,  21.6,  12.6,  37.8,  16.2]])"
      ]
     },
     "execution_count": 173,
     "metadata": {},
     "output_type": "execute_result"
    }
   ],
   "source": [
    "#ferh_cond = 1.8*C+32\n",
    "data_2 = 1.8*data_1\n",
    "data_2"
   ]
  },
  {
   "cell_type": "code",
   "execution_count": 174,
   "id": "a665cbb8",
   "metadata": {},
   "outputs": [],
   "source": [
    "data_in_F = data_2+32"
   ]
  },
  {
   "cell_type": "code",
   "execution_count": 175,
   "id": "0b06feba",
   "metadata": {},
   "outputs": [
    {
     "data": {
      "text/plain": [
       "array([[ 51.8,  68. ,  50. ,  68. ,  48.2,  86. ,  57.2,  75.2,  42.8,\n",
       "         84.2,  53.6,  69.8,  53.6,  80.6],\n",
       "       [ 55.4,  73.4,  55.4,  84.2,  46.4,  71.6,   8.6,  89.6,  42.8,\n",
       "         69.8,  57.2,  73.4,  51.8,  82.4],\n",
       "       [ 42.8,  82.4,  57.2,  69.8,  48.2,  89.6,  46.4,  82.4,  55.4,\n",
       "         86. ,  42.8,  87.8,  42.8,  73.4],\n",
       "       [ 42.8,  73.4,  46.4,  73.4,  57.2,  75.2,  42.8,  84.2,  55.4,\n",
       "         77. ,  53.6,  75.2,  51.8,  80.6],\n",
       "       [ 51.8,  77. ,  57.2,  77. ,  44.6,  68. ,  48.2,  82.4,  48.2,\n",
       "         73.4,  51.8,  73.4,  51.8,  86. ],\n",
       "       [ 48.2,  86. ,  59. ,  78.8,  48.2,  80.6,  57.2,  87.8,  46.4,\n",
       "         71.6,  50. ,  78.8,  53.6,  82.4],\n",
       "       [ 42.8,  82.4,  53.6,  87.8,  57.2,  80.6,  48.2,  89.6,  44.6,\n",
       "         73.4,  51.8,  89.6,  44.6,  73.4],\n",
       "       [ 44.6,  82.4,  59. ,  84.2,  51.8,  71.6,  57.2,  69.8,  53.6,\n",
       "         80.6,  53.6,  87.8,  57.2,  77. ],\n",
       "       [ 41. ,  71.6,  46.4,  69.8,  46.4,  68. ,  44.6,  66.2,  46.4,\n",
       "         71.6,  35.6,  44.6,  64.4,  39.2],\n",
       "       [ 39.2,  71.6,  42.8,  68. ,  42.8,  69.8,  39.2,  71.6,  39.2,\n",
       "         69.8,  37.4,  37.4,  68. ,  41. ],\n",
       "       [ 41. ,  69.8,  44.6,  64.4,  46.4,  69.8,  39.2,  66.2,  39.2,\n",
       "         64.4,  37.4,  44.6,  64.4,  39.2],\n",
       "       [ 42.8,  66.2,  35.6,  64.4,  44.6,  68. ,  46.4,  71.6,  46.4,\n",
       "         66.2,  44.6,  39.2,  68. ,  46.4],\n",
       "       [ 46.4,  71.6,  44.6,  66.2,  14. ,  64.4,  51.8,  66.2,  53.6,\n",
       "         68. ,  53.6, 159.8,  69.8,  53.6],\n",
       "       [ 46.4,  66.2,  50. ,  68. ,  53.6,  64.4,  50. ,  64.4,  50. ,\n",
       "         71.6,  46.4,  51.8,  66.2,  44.6],\n",
       "       [ 48.2,  71.6,  51.8,  66.2,  44.6,  69.8,  51.8,  69.8,  48.2,\n",
       "         66.2,  44.6,  50. ,  66.2,  50. ],\n",
       "       [ 51.8,  69.8,  44.6,  68. ,  51.8,  69.8,  53.6,  64.4,  51.8,\n",
       "         68. ,  53.6,  44.6,  69.8,  48.2]])"
      ]
     },
     "execution_count": 175,
     "metadata": {},
     "output_type": "execute_result"
    }
   ],
   "source": [
    "data_in_F"
   ]
  },
  {
   "cell_type": "code",
   "execution_count": 176,
   "id": "643db3cf",
   "metadata": {},
   "outputs": [],
   "source": [
    "data_in_F1 = np.hstack((data[2:,0:2],data_in_F))"
   ]
  },
  {
   "cell_type": "code",
   "execution_count": 177,
   "id": "a883188b",
   "metadata": {},
   "outputs": [
    {
     "data": {
      "text/plain": [
       "array([['Month', 'Week', 'Monday', 'Monday', 'Tuesday', 'Tuesday',\n",
       "        'Wednesday', 'Wednesday', 'Thursday', 'Thursday', 'Friday',\n",
       "        'Friday', 'Saturday', 'Saturday', 'Sunday', 'Sunday'],\n",
       "       ['', '', 'Min Temp', 'Max Temp', 'Min Temp', 'Max Temp',\n",
       "        'Min Temp', 'Max Temp', 'Min Temp', 'Max Temp', 'Min Temp',\n",
       "        'Max Temp', 'Min Temp', 'Max Temp', 'Min Temp', 'Max Temp'],\n",
       "       ['November', 'Week 1', '51.8', '68.0', '50.0', '68.0', '48.2',\n",
       "        '86.0', '57.2', '75.2', '42.8', '84.2', '53.6',\n",
       "        '69.80000000000001', '53.6', '80.6'],\n",
       "       ['November', 'Week 2', '55.400000000000006', '73.4',\n",
       "        '55.400000000000006', '84.2', '46.4', '71.6',\n",
       "        '8.599999999999998', '89.6', '42.8', '69.80000000000001', '57.2',\n",
       "        '73.4', '51.8', '82.4'],\n",
       "       ['November', 'Week 3', '42.8', '82.4', '57.2',\n",
       "        '69.80000000000001', '48.2', '89.6', '46.4', '82.4',\n",
       "        '55.400000000000006', '86.0', '42.8', '87.80000000000001',\n",
       "        '42.8', '73.4'],\n",
       "       ['November', 'Week 4', '42.8', '73.4', '46.4', '73.4', '57.2',\n",
       "        '75.2', '42.8', '84.2', '55.400000000000006', '77.0', '53.6',\n",
       "        '75.2', '51.8', '80.6'],\n",
       "       ['December', 'Week 1', '51.8', '77.0', '57.2', '77.0', '44.6',\n",
       "        '68.0', '48.2', '82.4', '48.2', '73.4', '51.8', '73.4', '51.8',\n",
       "        '86.0'],\n",
       "       ['December', 'Week 2', '48.2', '86.0', '59.0',\n",
       "        '78.80000000000001', '48.2', '80.6', '57.2', '87.80000000000001',\n",
       "        '46.4', '71.6', '50.0', '78.80000000000001', '53.6', '82.4'],\n",
       "       ['December', 'Week 3', '42.8', '82.4', '53.6',\n",
       "        '87.80000000000001', '57.2', '80.6', '48.2', '89.6', '44.6',\n",
       "        '73.4', '51.8', '89.6', '44.6', '73.4'],\n",
       "       ['December', 'Week 4', '44.6', '82.4', '59.0', '84.2', '51.8',\n",
       "        '71.6', '57.2', '69.80000000000001', '53.6', '80.6', '53.6',\n",
       "        '87.80000000000001', '57.2', '77.0'],\n",
       "       ['January', 'Week 1', '41.0', '71.6', '46.4', '69.80000000000001',\n",
       "        '46.4', '68.0', '44.6', '66.2', '46.4', '71.6', '35.6', '44.6',\n",
       "        '64.4', '39.2'],\n",
       "       ['January', 'Week 2', '39.2', '71.6', '42.8', '68.0', '42.8',\n",
       "        '69.80000000000001', '39.2', '71.6', '39.2', '69.80000000000001',\n",
       "        '37.4', '37.4', '68.0', '41.0'],\n",
       "       ['January', 'Week 3', '41.0', '69.80000000000001', '44.6', '64.4',\n",
       "        '46.4', '69.80000000000001', '39.2', '66.2', '39.2', '64.4',\n",
       "        '37.4', '44.6', '64.4', '39.2'],\n",
       "       ['January', 'Week 4', '42.8', '66.2', '35.6', '64.4', '44.6',\n",
       "        '68.0', '46.4', '71.6', '46.4', '66.2', '44.6', '39.2', '68.0',\n",
       "        '46.4'],\n",
       "       ['February', 'Week 1', '46.4', '71.6', '44.6', '66.2', '14.0',\n",
       "        '64.4', '51.8', '66.2', '53.6', '68.0', '53.6', '159.8',\n",
       "        '69.80000000000001', '53.6'],\n",
       "       ['February', 'Week 2', '46.4', '66.2', '50.0', '68.0', '53.6',\n",
       "        '64.4', '50.0', '64.4', '50.0', '71.6', '46.4', '51.8', '66.2',\n",
       "        '44.6'],\n",
       "       ['February', 'Week 3', '48.2', '71.6', '51.8', '66.2', '44.6',\n",
       "        '69.80000000000001', '51.8', '69.80000000000001', '48.2', '66.2',\n",
       "        '44.6', '50.0', '66.2', '50.0'],\n",
       "       ['February', 'Week 4', '51.8', '69.80000000000001', '44.6',\n",
       "        '68.0', '51.8', '69.80000000000001', '53.6', '64.4', '51.8',\n",
       "        '68.0', '53.6', '44.6', '69.80000000000001', '48.2']],\n",
       "      dtype='<U32')"
      ]
     },
     "execution_count": 177,
     "metadata": {},
     "output_type": "execute_result"
    }
   ],
   "source": [
    "data_in_F2 = np.vstack((data[0:2,:],data_in_F1))\n",
    "data_in_F2"
   ]
  },
  {
   "cell_type": "code",
   "execution_count": null,
   "id": "a2c25ae7",
   "metadata": {},
   "outputs": [],
   "source": []
  }
 ],
 "metadata": {
  "kernelspec": {
   "display_name": "Python 3 (ipykernel)",
   "language": "python",
   "name": "python3"
  },
  "language_info": {
   "codemirror_mode": {
    "name": "ipython",
    "version": 3
   },
   "file_extension": ".py",
   "mimetype": "text/x-python",
   "name": "python",
   "nbconvert_exporter": "python",
   "pygments_lexer": "ipython3",
   "version": "3.9.12"
  }
 },
 "nbformat": 4,
 "nbformat_minor": 5
}
