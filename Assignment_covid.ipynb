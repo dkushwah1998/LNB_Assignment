{
 "cells": [
  {
   "cell_type": "code",
   "execution_count": 6,
   "id": "b568ab3c",
   "metadata": {},
   "outputs": [],
   "source": [
    "import numpy as np\n",
    "import pandas as pd\n",
    "import matplotlib.pyplot as plt"
   ]
  },
  {
   "cell_type": "code",
   "execution_count": 7,
   "id": "a144a243",
   "metadata": {},
   "outputs": [
    {
     "name": "stderr",
     "output_type": "stream",
     "text": [
      "C:\\Users\\HP\\AppData\\Local\\Temp\\ipykernel_12008\\4184157729.py:1: DtypeWarning: Columns (1) have mixed types. Specify dtype option on import or set low_memory=False.\n",
      "  train= pd.read_csv(r'C:\\Users\\HP\\Desktop\\Data-LB\\covid\\train.csv')\n"
     ]
    }
   ],
   "source": [
    "train= pd.read_csv(r'C:\\Users\\HP\\Desktop\\Data-LB\\covid\\train.csv')"
   ]
  },
  {
   "cell_type": "code",
   "execution_count": 8,
   "id": "991901b0",
   "metadata": {},
   "outputs": [
    {
     "data": {
      "text/html": [
       "<div>\n",
       "<style scoped>\n",
       "    .dataframe tbody tr th:only-of-type {\n",
       "        vertical-align: middle;\n",
       "    }\n",
       "\n",
       "    .dataframe tbody tr th {\n",
       "        vertical-align: top;\n",
       "    }\n",
       "\n",
       "    .dataframe thead th {\n",
       "        text-align: right;\n",
       "    }\n",
       "</style>\n",
       "<table border=\"1\" class=\"dataframe\">\n",
       "  <thead>\n",
       "    <tr style=\"text-align: right;\">\n",
       "      <th></th>\n",
       "      <th>Id</th>\n",
       "      <th>County</th>\n",
       "      <th>Province_State</th>\n",
       "      <th>Country_Region</th>\n",
       "      <th>Population</th>\n",
       "      <th>Weight</th>\n",
       "      <th>Date</th>\n",
       "      <th>Target</th>\n",
       "      <th>TargetValue</th>\n",
       "    </tr>\n",
       "  </thead>\n",
       "  <tbody>\n",
       "    <tr>\n",
       "      <th>0</th>\n",
       "      <td>1</td>\n",
       "      <td>NaN</td>\n",
       "      <td>NaN</td>\n",
       "      <td>Afghanistan</td>\n",
       "      <td>27657145</td>\n",
       "      <td>0.058359</td>\n",
       "      <td>2020-01-23</td>\n",
       "      <td>ConfirmedCases</td>\n",
       "      <td>0</td>\n",
       "    </tr>\n",
       "    <tr>\n",
       "      <th>1</th>\n",
       "      <td>2</td>\n",
       "      <td>NaN</td>\n",
       "      <td>NaN</td>\n",
       "      <td>Afghanistan</td>\n",
       "      <td>27657145</td>\n",
       "      <td>0.583587</td>\n",
       "      <td>2020-01-23</td>\n",
       "      <td>Fatalities</td>\n",
       "      <td>0</td>\n",
       "    </tr>\n",
       "    <tr>\n",
       "      <th>2</th>\n",
       "      <td>3</td>\n",
       "      <td>NaN</td>\n",
       "      <td>NaN</td>\n",
       "      <td>Afghanistan</td>\n",
       "      <td>27657145</td>\n",
       "      <td>0.058359</td>\n",
       "      <td>2020-01-24</td>\n",
       "      <td>ConfirmedCases</td>\n",
       "      <td>0</td>\n",
       "    </tr>\n",
       "    <tr>\n",
       "      <th>3</th>\n",
       "      <td>4</td>\n",
       "      <td>NaN</td>\n",
       "      <td>NaN</td>\n",
       "      <td>Afghanistan</td>\n",
       "      <td>27657145</td>\n",
       "      <td>0.583587</td>\n",
       "      <td>2020-01-24</td>\n",
       "      <td>Fatalities</td>\n",
       "      <td>0</td>\n",
       "    </tr>\n",
       "    <tr>\n",
       "      <th>4</th>\n",
       "      <td>5</td>\n",
       "      <td>NaN</td>\n",
       "      <td>NaN</td>\n",
       "      <td>Afghanistan</td>\n",
       "      <td>27657145</td>\n",
       "      <td>0.058359</td>\n",
       "      <td>2020-01-25</td>\n",
       "      <td>ConfirmedCases</td>\n",
       "      <td>0</td>\n",
       "    </tr>\n",
       "  </tbody>\n",
       "</table>\n",
       "</div>"
      ],
      "text/plain": [
       "   Id County Province_State Country_Region  Population    Weight        Date  \\\n",
       "0   1    NaN            NaN    Afghanistan    27657145  0.058359  2020-01-23   \n",
       "1   2    NaN            NaN    Afghanistan    27657145  0.583587  2020-01-23   \n",
       "2   3    NaN            NaN    Afghanistan    27657145  0.058359  2020-01-24   \n",
       "3   4    NaN            NaN    Afghanistan    27657145  0.583587  2020-01-24   \n",
       "4   5    NaN            NaN    Afghanistan    27657145  0.058359  2020-01-25   \n",
       "\n",
       "           Target  TargetValue  \n",
       "0  ConfirmedCases            0  \n",
       "1      Fatalities            0  \n",
       "2  ConfirmedCases            0  \n",
       "3      Fatalities            0  \n",
       "4  ConfirmedCases            0  "
      ]
     },
     "execution_count": 8,
     "metadata": {},
     "output_type": "execute_result"
    }
   ],
   "source": [
    "train.head()"
   ]
  },
  {
   "cell_type": "code",
   "execution_count": 9,
   "id": "d3805c7d",
   "metadata": {},
   "outputs": [
    {
     "data": {
      "text/html": [
       "<div>\n",
       "<style scoped>\n",
       "    .dataframe tbody tr th:only-of-type {\n",
       "        vertical-align: middle;\n",
       "    }\n",
       "\n",
       "    .dataframe tbody tr th {\n",
       "        vertical-align: top;\n",
       "    }\n",
       "\n",
       "    .dataframe thead th {\n",
       "        text-align: right;\n",
       "    }\n",
       "</style>\n",
       "<table border=\"1\" class=\"dataframe\">\n",
       "  <thead>\n",
       "    <tr style=\"text-align: right;\">\n",
       "      <th></th>\n",
       "      <th>Id</th>\n",
       "      <th>County</th>\n",
       "      <th>Province_State</th>\n",
       "      <th>Country_Region</th>\n",
       "      <th>Population</th>\n",
       "      <th>Weight</th>\n",
       "      <th>Date</th>\n",
       "      <th>Target</th>\n",
       "      <th>TargetValue</th>\n",
       "    </tr>\n",
       "  </thead>\n",
       "  <tbody>\n",
       "    <tr>\n",
       "      <th>969635</th>\n",
       "      <td>969636</td>\n",
       "      <td>NaN</td>\n",
       "      <td>NaN</td>\n",
       "      <td>Zimbabwe</td>\n",
       "      <td>14240168</td>\n",
       "      <td>0.607106</td>\n",
       "      <td>2020-06-08</td>\n",
       "      <td>Fatalities</td>\n",
       "      <td>0</td>\n",
       "    </tr>\n",
       "    <tr>\n",
       "      <th>969636</th>\n",
       "      <td>969637</td>\n",
       "      <td>NaN</td>\n",
       "      <td>NaN</td>\n",
       "      <td>Zimbabwe</td>\n",
       "      <td>14240168</td>\n",
       "      <td>0.060711</td>\n",
       "      <td>2020-06-09</td>\n",
       "      <td>ConfirmedCases</td>\n",
       "      <td>27</td>\n",
       "    </tr>\n",
       "    <tr>\n",
       "      <th>969637</th>\n",
       "      <td>969638</td>\n",
       "      <td>NaN</td>\n",
       "      <td>NaN</td>\n",
       "      <td>Zimbabwe</td>\n",
       "      <td>14240168</td>\n",
       "      <td>0.607106</td>\n",
       "      <td>2020-06-09</td>\n",
       "      <td>Fatalities</td>\n",
       "      <td>0</td>\n",
       "    </tr>\n",
       "    <tr>\n",
       "      <th>969638</th>\n",
       "      <td>969639</td>\n",
       "      <td>NaN</td>\n",
       "      <td>NaN</td>\n",
       "      <td>Zimbabwe</td>\n",
       "      <td>14240168</td>\n",
       "      <td>0.060711</td>\n",
       "      <td>2020-06-10</td>\n",
       "      <td>ConfirmedCases</td>\n",
       "      <td>6</td>\n",
       "    </tr>\n",
       "    <tr>\n",
       "      <th>969639</th>\n",
       "      <td>969640</td>\n",
       "      <td>NaN</td>\n",
       "      <td>NaN</td>\n",
       "      <td>Zimbabwe</td>\n",
       "      <td>14240168</td>\n",
       "      <td>0.607106</td>\n",
       "      <td>2020-06-10</td>\n",
       "      <td>Fatalities</td>\n",
       "      <td>0</td>\n",
       "    </tr>\n",
       "  </tbody>\n",
       "</table>\n",
       "</div>"
      ],
      "text/plain": [
       "            Id County Province_State Country_Region  Population    Weight  \\\n",
       "969635  969636    NaN            NaN       Zimbabwe    14240168  0.607106   \n",
       "969636  969637    NaN            NaN       Zimbabwe    14240168  0.060711   \n",
       "969637  969638    NaN            NaN       Zimbabwe    14240168  0.607106   \n",
       "969638  969639    NaN            NaN       Zimbabwe    14240168  0.060711   \n",
       "969639  969640    NaN            NaN       Zimbabwe    14240168  0.607106   \n",
       "\n",
       "              Date          Target  TargetValue  \n",
       "969635  2020-06-08      Fatalities            0  \n",
       "969636  2020-06-09  ConfirmedCases           27  \n",
       "969637  2020-06-09      Fatalities            0  \n",
       "969638  2020-06-10  ConfirmedCases            6  \n",
       "969639  2020-06-10      Fatalities            0  "
      ]
     },
     "execution_count": 9,
     "metadata": {},
     "output_type": "execute_result"
    }
   ],
   "source": [
    "train.tail()"
   ]
  },
  {
   "cell_type": "code",
   "execution_count": 10,
   "id": "6f5c7137",
   "metadata": {},
   "outputs": [],
   "source": [
    "test = pd.read_csv(r'C:\\Users\\HP\\Desktop\\Data-LB\\covid\\test.csv')"
   ]
  },
  {
   "cell_type": "code",
   "execution_count": 11,
   "id": "76aefadf",
   "metadata": {},
   "outputs": [
    {
     "data": {
      "text/html": [
       "<div>\n",
       "<style scoped>\n",
       "    .dataframe tbody tr th:only-of-type {\n",
       "        vertical-align: middle;\n",
       "    }\n",
       "\n",
       "    .dataframe tbody tr th {\n",
       "        vertical-align: top;\n",
       "    }\n",
       "\n",
       "    .dataframe thead th {\n",
       "        text-align: right;\n",
       "    }\n",
       "</style>\n",
       "<table border=\"1\" class=\"dataframe\">\n",
       "  <thead>\n",
       "    <tr style=\"text-align: right;\">\n",
       "      <th></th>\n",
       "      <th>ForecastId</th>\n",
       "      <th>County</th>\n",
       "      <th>Province_State</th>\n",
       "      <th>Country_Region</th>\n",
       "      <th>Population</th>\n",
       "      <th>Weight</th>\n",
       "      <th>Date</th>\n",
       "      <th>Target</th>\n",
       "    </tr>\n",
       "  </thead>\n",
       "  <tbody>\n",
       "    <tr>\n",
       "      <th>0</th>\n",
       "      <td>1</td>\n",
       "      <td>NaN</td>\n",
       "      <td>NaN</td>\n",
       "      <td>Afghanistan</td>\n",
       "      <td>27657145</td>\n",
       "      <td>0.058359</td>\n",
       "      <td>2020-04-27</td>\n",
       "      <td>ConfirmedCases</td>\n",
       "    </tr>\n",
       "    <tr>\n",
       "      <th>1</th>\n",
       "      <td>2</td>\n",
       "      <td>NaN</td>\n",
       "      <td>NaN</td>\n",
       "      <td>Afghanistan</td>\n",
       "      <td>27657145</td>\n",
       "      <td>0.583587</td>\n",
       "      <td>2020-04-27</td>\n",
       "      <td>Fatalities</td>\n",
       "    </tr>\n",
       "    <tr>\n",
       "      <th>2</th>\n",
       "      <td>3</td>\n",
       "      <td>NaN</td>\n",
       "      <td>NaN</td>\n",
       "      <td>Afghanistan</td>\n",
       "      <td>27657145</td>\n",
       "      <td>0.058359</td>\n",
       "      <td>2020-04-28</td>\n",
       "      <td>ConfirmedCases</td>\n",
       "    </tr>\n",
       "    <tr>\n",
       "      <th>3</th>\n",
       "      <td>4</td>\n",
       "      <td>NaN</td>\n",
       "      <td>NaN</td>\n",
       "      <td>Afghanistan</td>\n",
       "      <td>27657145</td>\n",
       "      <td>0.583587</td>\n",
       "      <td>2020-04-28</td>\n",
       "      <td>Fatalities</td>\n",
       "    </tr>\n",
       "    <tr>\n",
       "      <th>4</th>\n",
       "      <td>5</td>\n",
       "      <td>NaN</td>\n",
       "      <td>NaN</td>\n",
       "      <td>Afghanistan</td>\n",
       "      <td>27657145</td>\n",
       "      <td>0.058359</td>\n",
       "      <td>2020-04-29</td>\n",
       "      <td>ConfirmedCases</td>\n",
       "    </tr>\n",
       "  </tbody>\n",
       "</table>\n",
       "</div>"
      ],
      "text/plain": [
       "   ForecastId County Province_State Country_Region  Population    Weight  \\\n",
       "0           1    NaN            NaN    Afghanistan    27657145  0.058359   \n",
       "1           2    NaN            NaN    Afghanistan    27657145  0.583587   \n",
       "2           3    NaN            NaN    Afghanistan    27657145  0.058359   \n",
       "3           4    NaN            NaN    Afghanistan    27657145  0.583587   \n",
       "4           5    NaN            NaN    Afghanistan    27657145  0.058359   \n",
       "\n",
       "         Date          Target  \n",
       "0  2020-04-27  ConfirmedCases  \n",
       "1  2020-04-27      Fatalities  \n",
       "2  2020-04-28  ConfirmedCases  \n",
       "3  2020-04-28      Fatalities  \n",
       "4  2020-04-29  ConfirmedCases  "
      ]
     },
     "execution_count": 11,
     "metadata": {},
     "output_type": "execute_result"
    }
   ],
   "source": [
    "test.head()"
   ]
  },
  {
   "cell_type": "code",
   "execution_count": 12,
   "id": "b4608e29",
   "metadata": {},
   "outputs": [
    {
     "data": {
      "text/html": [
       "<div>\n",
       "<style scoped>\n",
       "    .dataframe tbody tr th:only-of-type {\n",
       "        vertical-align: middle;\n",
       "    }\n",
       "\n",
       "    .dataframe tbody tr th {\n",
       "        vertical-align: top;\n",
       "    }\n",
       "\n",
       "    .dataframe thead th {\n",
       "        text-align: right;\n",
       "    }\n",
       "</style>\n",
       "<table border=\"1\" class=\"dataframe\">\n",
       "  <thead>\n",
       "    <tr style=\"text-align: right;\">\n",
       "      <th></th>\n",
       "      <th>ForecastId</th>\n",
       "      <th>County</th>\n",
       "      <th>Province_State</th>\n",
       "      <th>Country_Region</th>\n",
       "      <th>Population</th>\n",
       "      <th>Weight</th>\n",
       "      <th>Date</th>\n",
       "      <th>Target</th>\n",
       "    </tr>\n",
       "  </thead>\n",
       "  <tbody>\n",
       "    <tr>\n",
       "      <th>311665</th>\n",
       "      <td>311666</td>\n",
       "      <td>NaN</td>\n",
       "      <td>NaN</td>\n",
       "      <td>Zimbabwe</td>\n",
       "      <td>14240168</td>\n",
       "      <td>0.607106</td>\n",
       "      <td>2020-06-08</td>\n",
       "      <td>Fatalities</td>\n",
       "    </tr>\n",
       "    <tr>\n",
       "      <th>311666</th>\n",
       "      <td>311667</td>\n",
       "      <td>NaN</td>\n",
       "      <td>NaN</td>\n",
       "      <td>Zimbabwe</td>\n",
       "      <td>14240168</td>\n",
       "      <td>0.060711</td>\n",
       "      <td>2020-06-09</td>\n",
       "      <td>ConfirmedCases</td>\n",
       "    </tr>\n",
       "    <tr>\n",
       "      <th>311667</th>\n",
       "      <td>311668</td>\n",
       "      <td>NaN</td>\n",
       "      <td>NaN</td>\n",
       "      <td>Zimbabwe</td>\n",
       "      <td>14240168</td>\n",
       "      <td>0.607106</td>\n",
       "      <td>2020-06-09</td>\n",
       "      <td>Fatalities</td>\n",
       "    </tr>\n",
       "    <tr>\n",
       "      <th>311668</th>\n",
       "      <td>311669</td>\n",
       "      <td>NaN</td>\n",
       "      <td>NaN</td>\n",
       "      <td>Zimbabwe</td>\n",
       "      <td>14240168</td>\n",
       "      <td>0.060711</td>\n",
       "      <td>2020-06-10</td>\n",
       "      <td>ConfirmedCases</td>\n",
       "    </tr>\n",
       "    <tr>\n",
       "      <th>311669</th>\n",
       "      <td>311670</td>\n",
       "      <td>NaN</td>\n",
       "      <td>NaN</td>\n",
       "      <td>Zimbabwe</td>\n",
       "      <td>14240168</td>\n",
       "      <td>0.607106</td>\n",
       "      <td>2020-06-10</td>\n",
       "      <td>Fatalities</td>\n",
       "    </tr>\n",
       "  </tbody>\n",
       "</table>\n",
       "</div>"
      ],
      "text/plain": [
       "        ForecastId County Province_State Country_Region  Population    Weight  \\\n",
       "311665      311666    NaN            NaN       Zimbabwe    14240168  0.607106   \n",
       "311666      311667    NaN            NaN       Zimbabwe    14240168  0.060711   \n",
       "311667      311668    NaN            NaN       Zimbabwe    14240168  0.607106   \n",
       "311668      311669    NaN            NaN       Zimbabwe    14240168  0.060711   \n",
       "311669      311670    NaN            NaN       Zimbabwe    14240168  0.607106   \n",
       "\n",
       "              Date          Target  \n",
       "311665  2020-06-08      Fatalities  \n",
       "311666  2020-06-09  ConfirmedCases  \n",
       "311667  2020-06-09      Fatalities  \n",
       "311668  2020-06-10  ConfirmedCases  \n",
       "311669  2020-06-10      Fatalities  "
      ]
     },
     "execution_count": 12,
     "metadata": {},
     "output_type": "execute_result"
    }
   ],
   "source": [
    "test.tail()"
   ]
  },
  {
   "cell_type": "code",
   "execution_count": 13,
   "id": "2dff5f8c",
   "metadata": {},
   "outputs": [
    {
     "name": "stdout",
     "output_type": "stream",
     "text": [
      "<class 'pandas.core.frame.DataFrame'>\n",
      "RangeIndex: 969640 entries, 0 to 969639\n",
      "Data columns (total 9 columns):\n",
      " #   Column          Non-Null Count   Dtype  \n",
      "---  ------          --------------   -----  \n",
      " 0   Id              969640 non-null  int64  \n",
      " 1   County          880040 non-null  object \n",
      " 2   Province_State  917280 non-null  object \n",
      " 3   Country_Region  969640 non-null  object \n",
      " 4   Population      969640 non-null  int64  \n",
      " 5   Weight          969640 non-null  float64\n",
      " 6   Date            969640 non-null  object \n",
      " 7   Target          969640 non-null  object \n",
      " 8   TargetValue     969640 non-null  int64  \n",
      "dtypes: float64(1), int64(3), object(5)\n",
      "memory usage: 66.6+ MB\n"
     ]
    }
   ],
   "source": [
    "train.info()"
   ]
  },
  {
   "cell_type": "markdown",
   "id": "ab0e5262",
   "metadata": {},
   "source": [
    "there are missing values in column country and provinince_state"
   ]
  },
  {
   "cell_type": "code",
   "execution_count": 14,
   "id": "ffb487dc",
   "metadata": {},
   "outputs": [
    {
     "name": "stdout",
     "output_type": "stream",
     "text": [
      "<class 'pandas.core.frame.DataFrame'>\n",
      "RangeIndex: 311670 entries, 0 to 311669\n",
      "Data columns (total 8 columns):\n",
      " #   Column          Non-Null Count   Dtype  \n",
      "---  ------          --------------   -----  \n",
      " 0   ForecastId      311670 non-null  int64  \n",
      " 1   County          282870 non-null  object \n",
      " 2   Province_State  294840 non-null  object \n",
      " 3   Country_Region  311670 non-null  object \n",
      " 4   Population      311670 non-null  int64  \n",
      " 5   Weight          311670 non-null  float64\n",
      " 6   Date            311670 non-null  object \n",
      " 7   Target          311670 non-null  object \n",
      "dtypes: float64(1), int64(2), object(5)\n",
      "memory usage: 19.0+ MB\n"
     ]
    }
   ],
   "source": [
    "test.info()"
   ]
  },
  {
   "cell_type": "markdown",
   "id": "e78f6f16",
   "metadata": {},
   "source": [
    "in test data, there is no missing values"
   ]
  },
  {
   "cell_type": "code",
   "execution_count": 15,
   "id": "cd120d68",
   "metadata": {},
   "outputs": [
    {
     "data": {
      "text/plain": [
       "Id                    0\n",
       "County            89600\n",
       "Province_State    52360\n",
       "Country_Region        0\n",
       "Population            0\n",
       "Weight                0\n",
       "Date                  0\n",
       "Target                0\n",
       "TargetValue           0\n",
       "dtype: int64"
      ]
     },
     "execution_count": 15,
     "metadata": {},
     "output_type": "execute_result"
    }
   ],
   "source": [
    "train.isnull().sum()"
   ]
  },
  {
   "cell_type": "markdown",
   "id": "2c699ec4",
   "metadata": {},
   "source": [
    "as we can see that there are 89600 missing values in column Country and 52360 missing values in province_state. this is huge number of missing data in both column. so let's delete both columns.\n"
   ]
  },
  {
   "cell_type": "code",
   "execution_count": 16,
   "id": "32d36d2a",
   "metadata": {},
   "outputs": [],
   "source": [
    "train.dropna(axis=1,inplace=True)"
   ]
  },
  {
   "cell_type": "code",
   "execution_count": 17,
   "id": "9cfc5f95",
   "metadata": {},
   "outputs": [],
   "source": [
    "test.drop(['County','Province_State'],axis=1,inplace=True)"
   ]
  },
  {
   "cell_type": "code",
   "execution_count": 18,
   "id": "b0faa335",
   "metadata": {},
   "outputs": [
    {
     "name": "stdout",
     "output_type": "stream",
     "text": [
      "<class 'pandas.core.frame.DataFrame'>\n",
      "RangeIndex: 969640 entries, 0 to 969639\n",
      "Data columns (total 7 columns):\n",
      " #   Column          Non-Null Count   Dtype  \n",
      "---  ------          --------------   -----  \n",
      " 0   Id              969640 non-null  int64  \n",
      " 1   Country_Region  969640 non-null  object \n",
      " 2   Population      969640 non-null  int64  \n",
      " 3   Weight          969640 non-null  float64\n",
      " 4   Date            969640 non-null  object \n",
      " 5   Target          969640 non-null  object \n",
      " 6   TargetValue     969640 non-null  int64  \n",
      "dtypes: float64(1), int64(3), object(3)\n",
      "memory usage: 51.8+ MB\n"
     ]
    }
   ],
   "source": [
    "train.info()"
   ]
  },
  {
   "cell_type": "code",
   "execution_count": 19,
   "id": "988bd9ec",
   "metadata": {},
   "outputs": [
    {
     "data": {
      "text/plain": [
       "0"
      ]
     },
     "execution_count": 19,
     "metadata": {},
     "output_type": "execute_result"
    }
   ],
   "source": [
    "train.duplicated().sum()"
   ]
  },
  {
   "cell_type": "markdown",
   "id": "282aaf38",
   "metadata": {},
   "source": [
    "as there is no duplicated in data. and there is no use of ID for analysis. let's drop column from train and test data."
   ]
  },
  {
   "cell_type": "code",
   "execution_count": 20,
   "id": "b177cf71",
   "metadata": {},
   "outputs": [],
   "source": [
    "train.drop(['Id'],axis=1,inplace=True)"
   ]
  },
  {
   "cell_type": "code",
   "execution_count": 21,
   "id": "666205ff",
   "metadata": {},
   "outputs": [],
   "source": [
    "test.drop(['ForecastId'],axis=1,inplace=True)"
   ]
  },
  {
   "cell_type": "code",
   "execution_count": 22,
   "id": "1152e4e4",
   "metadata": {},
   "outputs": [
    {
     "data": {
      "text/html": [
       "<div>\n",
       "<style scoped>\n",
       "    .dataframe tbody tr th:only-of-type {\n",
       "        vertical-align: middle;\n",
       "    }\n",
       "\n",
       "    .dataframe tbody tr th {\n",
       "        vertical-align: top;\n",
       "    }\n",
       "\n",
       "    .dataframe thead th {\n",
       "        text-align: right;\n",
       "    }\n",
       "</style>\n",
       "<table border=\"1\" class=\"dataframe\">\n",
       "  <thead>\n",
       "    <tr style=\"text-align: right;\">\n",
       "      <th></th>\n",
       "      <th>Country_Region</th>\n",
       "      <th>Population</th>\n",
       "      <th>Weight</th>\n",
       "      <th>Date</th>\n",
       "      <th>Target</th>\n",
       "      <th>TargetValue</th>\n",
       "    </tr>\n",
       "  </thead>\n",
       "  <tbody>\n",
       "    <tr>\n",
       "      <th>0</th>\n",
       "      <td>Afghanistan</td>\n",
       "      <td>27657145</td>\n",
       "      <td>0.058359</td>\n",
       "      <td>2020-01-23</td>\n",
       "      <td>ConfirmedCases</td>\n",
       "      <td>0</td>\n",
       "    </tr>\n",
       "    <tr>\n",
       "      <th>1</th>\n",
       "      <td>Afghanistan</td>\n",
       "      <td>27657145</td>\n",
       "      <td>0.583587</td>\n",
       "      <td>2020-01-23</td>\n",
       "      <td>Fatalities</td>\n",
       "      <td>0</td>\n",
       "    </tr>\n",
       "    <tr>\n",
       "      <th>2</th>\n",
       "      <td>Afghanistan</td>\n",
       "      <td>27657145</td>\n",
       "      <td>0.058359</td>\n",
       "      <td>2020-01-24</td>\n",
       "      <td>ConfirmedCases</td>\n",
       "      <td>0</td>\n",
       "    </tr>\n",
       "    <tr>\n",
       "      <th>3</th>\n",
       "      <td>Afghanistan</td>\n",
       "      <td>27657145</td>\n",
       "      <td>0.583587</td>\n",
       "      <td>2020-01-24</td>\n",
       "      <td>Fatalities</td>\n",
       "      <td>0</td>\n",
       "    </tr>\n",
       "    <tr>\n",
       "      <th>4</th>\n",
       "      <td>Afghanistan</td>\n",
       "      <td>27657145</td>\n",
       "      <td>0.058359</td>\n",
       "      <td>2020-01-25</td>\n",
       "      <td>ConfirmedCases</td>\n",
       "      <td>0</td>\n",
       "    </tr>\n",
       "    <tr>\n",
       "      <th>...</th>\n",
       "      <td>...</td>\n",
       "      <td>...</td>\n",
       "      <td>...</td>\n",
       "      <td>...</td>\n",
       "      <td>...</td>\n",
       "      <td>...</td>\n",
       "    </tr>\n",
       "    <tr>\n",
       "      <th>969635</th>\n",
       "      <td>Zimbabwe</td>\n",
       "      <td>14240168</td>\n",
       "      <td>0.607106</td>\n",
       "      <td>2020-06-08</td>\n",
       "      <td>Fatalities</td>\n",
       "      <td>0</td>\n",
       "    </tr>\n",
       "    <tr>\n",
       "      <th>969636</th>\n",
       "      <td>Zimbabwe</td>\n",
       "      <td>14240168</td>\n",
       "      <td>0.060711</td>\n",
       "      <td>2020-06-09</td>\n",
       "      <td>ConfirmedCases</td>\n",
       "      <td>27</td>\n",
       "    </tr>\n",
       "    <tr>\n",
       "      <th>969637</th>\n",
       "      <td>Zimbabwe</td>\n",
       "      <td>14240168</td>\n",
       "      <td>0.607106</td>\n",
       "      <td>2020-06-09</td>\n",
       "      <td>Fatalities</td>\n",
       "      <td>0</td>\n",
       "    </tr>\n",
       "    <tr>\n",
       "      <th>969638</th>\n",
       "      <td>Zimbabwe</td>\n",
       "      <td>14240168</td>\n",
       "      <td>0.060711</td>\n",
       "      <td>2020-06-10</td>\n",
       "      <td>ConfirmedCases</td>\n",
       "      <td>6</td>\n",
       "    </tr>\n",
       "    <tr>\n",
       "      <th>969639</th>\n",
       "      <td>Zimbabwe</td>\n",
       "      <td>14240168</td>\n",
       "      <td>0.607106</td>\n",
       "      <td>2020-06-10</td>\n",
       "      <td>Fatalities</td>\n",
       "      <td>0</td>\n",
       "    </tr>\n",
       "  </tbody>\n",
       "</table>\n",
       "<p>969640 rows × 6 columns</p>\n",
       "</div>"
      ],
      "text/plain": [
       "       Country_Region  Population    Weight        Date          Target  \\\n",
       "0         Afghanistan    27657145  0.058359  2020-01-23  ConfirmedCases   \n",
       "1         Afghanistan    27657145  0.583587  2020-01-23      Fatalities   \n",
       "2         Afghanistan    27657145  0.058359  2020-01-24  ConfirmedCases   \n",
       "3         Afghanistan    27657145  0.583587  2020-01-24      Fatalities   \n",
       "4         Afghanistan    27657145  0.058359  2020-01-25  ConfirmedCases   \n",
       "...               ...         ...       ...         ...             ...   \n",
       "969635       Zimbabwe    14240168  0.607106  2020-06-08      Fatalities   \n",
       "969636       Zimbabwe    14240168  0.060711  2020-06-09  ConfirmedCases   \n",
       "969637       Zimbabwe    14240168  0.607106  2020-06-09      Fatalities   \n",
       "969638       Zimbabwe    14240168  0.060711  2020-06-10  ConfirmedCases   \n",
       "969639       Zimbabwe    14240168  0.607106  2020-06-10      Fatalities   \n",
       "\n",
       "        TargetValue  \n",
       "0                 0  \n",
       "1                 0  \n",
       "2                 0  \n",
       "3                 0  \n",
       "4                 0  \n",
       "...             ...  \n",
       "969635            0  \n",
       "969636           27  \n",
       "969637            0  \n",
       "969638            6  \n",
       "969639            0  \n",
       "\n",
       "[969640 rows x 6 columns]"
      ]
     },
     "execution_count": 22,
     "metadata": {},
     "output_type": "execute_result"
    }
   ],
   "source": [
    "train"
   ]
  },
  {
   "cell_type": "code",
   "execution_count": 23,
   "id": "7fb03224",
   "metadata": {},
   "outputs": [
    {
     "data": {
      "text/html": [
       "<div>\n",
       "<style scoped>\n",
       "    .dataframe tbody tr th:only-of-type {\n",
       "        vertical-align: middle;\n",
       "    }\n",
       "\n",
       "    .dataframe tbody tr th {\n",
       "        vertical-align: top;\n",
       "    }\n",
       "\n",
       "    .dataframe thead th {\n",
       "        text-align: right;\n",
       "    }\n",
       "</style>\n",
       "<table border=\"1\" class=\"dataframe\">\n",
       "  <thead>\n",
       "    <tr style=\"text-align: right;\">\n",
       "      <th></th>\n",
       "      <th>Country_Region</th>\n",
       "      <th>Population</th>\n",
       "      <th>Weight</th>\n",
       "      <th>Date</th>\n",
       "      <th>Target</th>\n",
       "    </tr>\n",
       "  </thead>\n",
       "  <tbody>\n",
       "    <tr>\n",
       "      <th>0</th>\n",
       "      <td>Afghanistan</td>\n",
       "      <td>27657145</td>\n",
       "      <td>0.058359</td>\n",
       "      <td>2020-04-27</td>\n",
       "      <td>ConfirmedCases</td>\n",
       "    </tr>\n",
       "    <tr>\n",
       "      <th>1</th>\n",
       "      <td>Afghanistan</td>\n",
       "      <td>27657145</td>\n",
       "      <td>0.583587</td>\n",
       "      <td>2020-04-27</td>\n",
       "      <td>Fatalities</td>\n",
       "    </tr>\n",
       "    <tr>\n",
       "      <th>2</th>\n",
       "      <td>Afghanistan</td>\n",
       "      <td>27657145</td>\n",
       "      <td>0.058359</td>\n",
       "      <td>2020-04-28</td>\n",
       "      <td>ConfirmedCases</td>\n",
       "    </tr>\n",
       "    <tr>\n",
       "      <th>3</th>\n",
       "      <td>Afghanistan</td>\n",
       "      <td>27657145</td>\n",
       "      <td>0.583587</td>\n",
       "      <td>2020-04-28</td>\n",
       "      <td>Fatalities</td>\n",
       "    </tr>\n",
       "    <tr>\n",
       "      <th>4</th>\n",
       "      <td>Afghanistan</td>\n",
       "      <td>27657145</td>\n",
       "      <td>0.058359</td>\n",
       "      <td>2020-04-29</td>\n",
       "      <td>ConfirmedCases</td>\n",
       "    </tr>\n",
       "    <tr>\n",
       "      <th>...</th>\n",
       "      <td>...</td>\n",
       "      <td>...</td>\n",
       "      <td>...</td>\n",
       "      <td>...</td>\n",
       "      <td>...</td>\n",
       "    </tr>\n",
       "    <tr>\n",
       "      <th>311665</th>\n",
       "      <td>Zimbabwe</td>\n",
       "      <td>14240168</td>\n",
       "      <td>0.607106</td>\n",
       "      <td>2020-06-08</td>\n",
       "      <td>Fatalities</td>\n",
       "    </tr>\n",
       "    <tr>\n",
       "      <th>311666</th>\n",
       "      <td>Zimbabwe</td>\n",
       "      <td>14240168</td>\n",
       "      <td>0.060711</td>\n",
       "      <td>2020-06-09</td>\n",
       "      <td>ConfirmedCases</td>\n",
       "    </tr>\n",
       "    <tr>\n",
       "      <th>311667</th>\n",
       "      <td>Zimbabwe</td>\n",
       "      <td>14240168</td>\n",
       "      <td>0.607106</td>\n",
       "      <td>2020-06-09</td>\n",
       "      <td>Fatalities</td>\n",
       "    </tr>\n",
       "    <tr>\n",
       "      <th>311668</th>\n",
       "      <td>Zimbabwe</td>\n",
       "      <td>14240168</td>\n",
       "      <td>0.060711</td>\n",
       "      <td>2020-06-10</td>\n",
       "      <td>ConfirmedCases</td>\n",
       "    </tr>\n",
       "    <tr>\n",
       "      <th>311669</th>\n",
       "      <td>Zimbabwe</td>\n",
       "      <td>14240168</td>\n",
       "      <td>0.607106</td>\n",
       "      <td>2020-06-10</td>\n",
       "      <td>Fatalities</td>\n",
       "    </tr>\n",
       "  </tbody>\n",
       "</table>\n",
       "<p>311670 rows × 5 columns</p>\n",
       "</div>"
      ],
      "text/plain": [
       "       Country_Region  Population    Weight        Date          Target\n",
       "0         Afghanistan    27657145  0.058359  2020-04-27  ConfirmedCases\n",
       "1         Afghanistan    27657145  0.583587  2020-04-27      Fatalities\n",
       "2         Afghanistan    27657145  0.058359  2020-04-28  ConfirmedCases\n",
       "3         Afghanistan    27657145  0.583587  2020-04-28      Fatalities\n",
       "4         Afghanistan    27657145  0.058359  2020-04-29  ConfirmedCases\n",
       "...               ...         ...       ...         ...             ...\n",
       "311665       Zimbabwe    14240168  0.607106  2020-06-08      Fatalities\n",
       "311666       Zimbabwe    14240168  0.060711  2020-06-09  ConfirmedCases\n",
       "311667       Zimbabwe    14240168  0.607106  2020-06-09      Fatalities\n",
       "311668       Zimbabwe    14240168  0.060711  2020-06-10  ConfirmedCases\n",
       "311669       Zimbabwe    14240168  0.607106  2020-06-10      Fatalities\n",
       "\n",
       "[311670 rows x 5 columns]"
      ]
     },
     "execution_count": 23,
     "metadata": {},
     "output_type": "execute_result"
    }
   ],
   "source": [
    "test"
   ]
  },
  {
   "cell_type": "code",
   "execution_count": 24,
   "id": "6195209f",
   "metadata": {},
   "outputs": [
    {
     "data": {
      "text/plain": [
       "Country_Region     187\n",
       "Population        3408\n",
       "Weight            6816\n",
       "Date               140\n",
       "Target               2\n",
       "TargetValue       2603\n",
       "dtype: int64"
      ]
     },
     "execution_count": 24,
     "metadata": {},
     "output_type": "execute_result"
    }
   ],
   "source": [
    "train.nunique()"
   ]
  },
  {
   "cell_type": "code",
   "execution_count": 25,
   "id": "6509ad36",
   "metadata": {},
   "outputs": [
    {
     "data": {
      "text/plain": [
       "Country_Region    484820\n",
       "Population        484820\n",
       "Weight            484820\n",
       "Date              484820\n",
       "Target            484820\n",
       "TargetValue       484820\n",
       "dtype: int64"
      ]
     },
     "execution_count": 25,
     "metadata": {},
     "output_type": "execute_result"
    }
   ],
   "source": [
    "train[train['Target'] =='ConfirmedCases'].count()"
   ]
  },
  {
   "cell_type": "code",
   "execution_count": 26,
   "id": "40bbfb7c",
   "metadata": {},
   "outputs": [
    {
     "data": {
      "text/plain": [
       "Country_Region    484820\n",
       "Population        484820\n",
       "Weight            484820\n",
       "Date              484820\n",
       "Target            484820\n",
       "TargetValue       484820\n",
       "dtype: int64"
      ]
     },
     "execution_count": 26,
     "metadata": {},
     "output_type": "execute_result"
    }
   ],
   "source": [
    "train[train['Target'] =='Fatalities'].count()"
   ]
  },
  {
   "cell_type": "code",
   "execution_count": 27,
   "id": "d376d786",
   "metadata": {},
   "outputs": [
    {
     "data": {
      "text/html": [
       "<div>\n",
       "<style scoped>\n",
       "    .dataframe tbody tr th:only-of-type {\n",
       "        vertical-align: middle;\n",
       "    }\n",
       "\n",
       "    .dataframe tbody tr th {\n",
       "        vertical-align: top;\n",
       "    }\n",
       "\n",
       "    .dataframe thead th {\n",
       "        text-align: right;\n",
       "    }\n",
       "</style>\n",
       "<table border=\"1\" class=\"dataframe\">\n",
       "  <thead>\n",
       "    <tr style=\"text-align: right;\">\n",
       "      <th></th>\n",
       "      <th>Population</th>\n",
       "      <th>Weight</th>\n",
       "      <th>TargetValue</th>\n",
       "    </tr>\n",
       "  </thead>\n",
       "  <tbody>\n",
       "    <tr>\n",
       "      <th>count</th>\n",
       "      <td>9.696400e+05</td>\n",
       "      <td>969640.000000</td>\n",
       "      <td>969640.000000</td>\n",
       "    </tr>\n",
       "    <tr>\n",
       "      <th>mean</th>\n",
       "      <td>2.720127e+06</td>\n",
       "      <td>0.530870</td>\n",
       "      <td>12.563518</td>\n",
       "    </tr>\n",
       "    <tr>\n",
       "      <th>std</th>\n",
       "      <td>3.477771e+07</td>\n",
       "      <td>0.451909</td>\n",
       "      <td>302.524795</td>\n",
       "    </tr>\n",
       "    <tr>\n",
       "      <th>min</th>\n",
       "      <td>8.600000e+01</td>\n",
       "      <td>0.047491</td>\n",
       "      <td>-10034.000000</td>\n",
       "    </tr>\n",
       "    <tr>\n",
       "      <th>25%</th>\n",
       "      <td>1.213300e+04</td>\n",
       "      <td>0.096838</td>\n",
       "      <td>0.000000</td>\n",
       "    </tr>\n",
       "    <tr>\n",
       "      <th>50%</th>\n",
       "      <td>3.053100e+04</td>\n",
       "      <td>0.349413</td>\n",
       "      <td>0.000000</td>\n",
       "    </tr>\n",
       "    <tr>\n",
       "      <th>75%</th>\n",
       "      <td>1.056120e+05</td>\n",
       "      <td>0.968379</td>\n",
       "      <td>0.000000</td>\n",
       "    </tr>\n",
       "    <tr>\n",
       "      <th>max</th>\n",
       "      <td>1.395773e+09</td>\n",
       "      <td>2.239186</td>\n",
       "      <td>36163.000000</td>\n",
       "    </tr>\n",
       "  </tbody>\n",
       "</table>\n",
       "</div>"
      ],
      "text/plain": [
       "         Population         Weight    TargetValue\n",
       "count  9.696400e+05  969640.000000  969640.000000\n",
       "mean   2.720127e+06       0.530870      12.563518\n",
       "std    3.477771e+07       0.451909     302.524795\n",
       "min    8.600000e+01       0.047491  -10034.000000\n",
       "25%    1.213300e+04       0.096838       0.000000\n",
       "50%    3.053100e+04       0.349413       0.000000\n",
       "75%    1.056120e+05       0.968379       0.000000\n",
       "max    1.395773e+09       2.239186   36163.000000"
      ]
     },
     "execution_count": 27,
     "metadata": {},
     "output_type": "execute_result"
    }
   ],
   "source": [
    "train.describe()"
   ]
  },
  {
   "cell_type": "code",
   "execution_count": 28,
   "id": "0b7cad23",
   "metadata": {},
   "outputs": [],
   "source": [
    "# ADD a column for cases\n",
    "data = [train,test]\n",
    "for dataset in data:\n",
    "    dataset['Cases'] = dataset['Population']*dataset['Weight']"
   ]
  },
  {
   "cell_type": "markdown",
   "id": "9baf486a",
   "metadata": {},
   "source": [
    "cases will represent the number of cases of country on a perticular date, these are confirmed case and death"
   ]
  },
  {
   "cell_type": "code",
   "execution_count": 29,
   "id": "9b2de0c3",
   "metadata": {},
   "outputs": [
    {
     "data": {
      "text/html": [
       "<div>\n",
       "<style scoped>\n",
       "    .dataframe tbody tr th:only-of-type {\n",
       "        vertical-align: middle;\n",
       "    }\n",
       "\n",
       "    .dataframe tbody tr th {\n",
       "        vertical-align: top;\n",
       "    }\n",
       "\n",
       "    .dataframe thead th {\n",
       "        text-align: right;\n",
       "    }\n",
       "</style>\n",
       "<table border=\"1\" class=\"dataframe\">\n",
       "  <thead>\n",
       "    <tr style=\"text-align: right;\">\n",
       "      <th></th>\n",
       "      <th>Country_Region</th>\n",
       "      <th>Population</th>\n",
       "      <th>Weight</th>\n",
       "      <th>Date</th>\n",
       "      <th>Target</th>\n",
       "      <th>TargetValue</th>\n",
       "      <th>Cases</th>\n",
       "    </tr>\n",
       "  </thead>\n",
       "  <tbody>\n",
       "    <tr>\n",
       "      <th>0</th>\n",
       "      <td>Afghanistan</td>\n",
       "      <td>27657145</td>\n",
       "      <td>0.058359</td>\n",
       "      <td>2020-01-23</td>\n",
       "      <td>ConfirmedCases</td>\n",
       "      <td>0</td>\n",
       "      <td>1.614036e+06</td>\n",
       "    </tr>\n",
       "    <tr>\n",
       "      <th>1</th>\n",
       "      <td>Afghanistan</td>\n",
       "      <td>27657145</td>\n",
       "      <td>0.583587</td>\n",
       "      <td>2020-01-23</td>\n",
       "      <td>Fatalities</td>\n",
       "      <td>0</td>\n",
       "      <td>1.614036e+07</td>\n",
       "    </tr>\n",
       "    <tr>\n",
       "      <th>2</th>\n",
       "      <td>Afghanistan</td>\n",
       "      <td>27657145</td>\n",
       "      <td>0.058359</td>\n",
       "      <td>2020-01-24</td>\n",
       "      <td>ConfirmedCases</td>\n",
       "      <td>0</td>\n",
       "      <td>1.614036e+06</td>\n",
       "    </tr>\n",
       "    <tr>\n",
       "      <th>3</th>\n",
       "      <td>Afghanistan</td>\n",
       "      <td>27657145</td>\n",
       "      <td>0.583587</td>\n",
       "      <td>2020-01-24</td>\n",
       "      <td>Fatalities</td>\n",
       "      <td>0</td>\n",
       "      <td>1.614036e+07</td>\n",
       "    </tr>\n",
       "    <tr>\n",
       "      <th>4</th>\n",
       "      <td>Afghanistan</td>\n",
       "      <td>27657145</td>\n",
       "      <td>0.058359</td>\n",
       "      <td>2020-01-25</td>\n",
       "      <td>ConfirmedCases</td>\n",
       "      <td>0</td>\n",
       "      <td>1.614036e+06</td>\n",
       "    </tr>\n",
       "    <tr>\n",
       "      <th>...</th>\n",
       "      <td>...</td>\n",
       "      <td>...</td>\n",
       "      <td>...</td>\n",
       "      <td>...</td>\n",
       "      <td>...</td>\n",
       "      <td>...</td>\n",
       "      <td>...</td>\n",
       "    </tr>\n",
       "    <tr>\n",
       "      <th>969635</th>\n",
       "      <td>Zimbabwe</td>\n",
       "      <td>14240168</td>\n",
       "      <td>0.607106</td>\n",
       "      <td>2020-06-08</td>\n",
       "      <td>Fatalities</td>\n",
       "      <td>0</td>\n",
       "      <td>8.645297e+06</td>\n",
       "    </tr>\n",
       "    <tr>\n",
       "      <th>969636</th>\n",
       "      <td>Zimbabwe</td>\n",
       "      <td>14240168</td>\n",
       "      <td>0.060711</td>\n",
       "      <td>2020-06-09</td>\n",
       "      <td>ConfirmedCases</td>\n",
       "      <td>27</td>\n",
       "      <td>8.645297e+05</td>\n",
       "    </tr>\n",
       "    <tr>\n",
       "      <th>969637</th>\n",
       "      <td>Zimbabwe</td>\n",
       "      <td>14240168</td>\n",
       "      <td>0.607106</td>\n",
       "      <td>2020-06-09</td>\n",
       "      <td>Fatalities</td>\n",
       "      <td>0</td>\n",
       "      <td>8.645297e+06</td>\n",
       "    </tr>\n",
       "    <tr>\n",
       "      <th>969638</th>\n",
       "      <td>Zimbabwe</td>\n",
       "      <td>14240168</td>\n",
       "      <td>0.060711</td>\n",
       "      <td>2020-06-10</td>\n",
       "      <td>ConfirmedCases</td>\n",
       "      <td>6</td>\n",
       "      <td>8.645297e+05</td>\n",
       "    </tr>\n",
       "    <tr>\n",
       "      <th>969639</th>\n",
       "      <td>Zimbabwe</td>\n",
       "      <td>14240168</td>\n",
       "      <td>0.607106</td>\n",
       "      <td>2020-06-10</td>\n",
       "      <td>Fatalities</td>\n",
       "      <td>0</td>\n",
       "      <td>8.645297e+06</td>\n",
       "    </tr>\n",
       "  </tbody>\n",
       "</table>\n",
       "<p>969640 rows × 7 columns</p>\n",
       "</div>"
      ],
      "text/plain": [
       "       Country_Region  Population    Weight        Date          Target  \\\n",
       "0         Afghanistan    27657145  0.058359  2020-01-23  ConfirmedCases   \n",
       "1         Afghanistan    27657145  0.583587  2020-01-23      Fatalities   \n",
       "2         Afghanistan    27657145  0.058359  2020-01-24  ConfirmedCases   \n",
       "3         Afghanistan    27657145  0.583587  2020-01-24      Fatalities   \n",
       "4         Afghanistan    27657145  0.058359  2020-01-25  ConfirmedCases   \n",
       "...               ...         ...       ...         ...             ...   \n",
       "969635       Zimbabwe    14240168  0.607106  2020-06-08      Fatalities   \n",
       "969636       Zimbabwe    14240168  0.060711  2020-06-09  ConfirmedCases   \n",
       "969637       Zimbabwe    14240168  0.607106  2020-06-09      Fatalities   \n",
       "969638       Zimbabwe    14240168  0.060711  2020-06-10  ConfirmedCases   \n",
       "969639       Zimbabwe    14240168  0.607106  2020-06-10      Fatalities   \n",
       "\n",
       "        TargetValue         Cases  \n",
       "0                 0  1.614036e+06  \n",
       "1                 0  1.614036e+07  \n",
       "2                 0  1.614036e+06  \n",
       "3                 0  1.614036e+07  \n",
       "4                 0  1.614036e+06  \n",
       "...             ...           ...  \n",
       "969635            0  8.645297e+06  \n",
       "969636           27  8.645297e+05  \n",
       "969637            0  8.645297e+06  \n",
       "969638            6  8.645297e+05  \n",
       "969639            0  8.645297e+06  \n",
       "\n",
       "[969640 rows x 7 columns]"
      ]
     },
     "execution_count": 29,
     "metadata": {},
     "output_type": "execute_result"
    }
   ],
   "source": [
    "train"
   ]
  },
  {
   "cell_type": "code",
   "execution_count": 30,
   "id": "467120ab",
   "metadata": {},
   "outputs": [],
   "source": [
    "for dataset in data:\n",
    "    dataset['Target'] = dataset['Target'].map({'ConfirmedCases':0,'Fatalities':1})\n",
    "        "
   ]
  },
  {
   "cell_type": "code",
   "execution_count": 31,
   "id": "3e5255ab",
   "metadata": {},
   "outputs": [
    {
     "data": {
      "text/html": [
       "<div>\n",
       "<style scoped>\n",
       "    .dataframe tbody tr th:only-of-type {\n",
       "        vertical-align: middle;\n",
       "    }\n",
       "\n",
       "    .dataframe tbody tr th {\n",
       "        vertical-align: top;\n",
       "    }\n",
       "\n",
       "    .dataframe thead th {\n",
       "        text-align: right;\n",
       "    }\n",
       "</style>\n",
       "<table border=\"1\" class=\"dataframe\">\n",
       "  <thead>\n",
       "    <tr style=\"text-align: right;\">\n",
       "      <th></th>\n",
       "      <th>Country_Region</th>\n",
       "      <th>Population</th>\n",
       "      <th>Weight</th>\n",
       "      <th>Date</th>\n",
       "      <th>Target</th>\n",
       "      <th>TargetValue</th>\n",
       "      <th>Cases</th>\n",
       "    </tr>\n",
       "  </thead>\n",
       "  <tbody>\n",
       "    <tr>\n",
       "      <th>0</th>\n",
       "      <td>Afghanistan</td>\n",
       "      <td>27657145</td>\n",
       "      <td>0.058359</td>\n",
       "      <td>2020-01-23</td>\n",
       "      <td>0</td>\n",
       "      <td>0</td>\n",
       "      <td>1.614036e+06</td>\n",
       "    </tr>\n",
       "    <tr>\n",
       "      <th>1</th>\n",
       "      <td>Afghanistan</td>\n",
       "      <td>27657145</td>\n",
       "      <td>0.583587</td>\n",
       "      <td>2020-01-23</td>\n",
       "      <td>1</td>\n",
       "      <td>0</td>\n",
       "      <td>1.614036e+07</td>\n",
       "    </tr>\n",
       "    <tr>\n",
       "      <th>2</th>\n",
       "      <td>Afghanistan</td>\n",
       "      <td>27657145</td>\n",
       "      <td>0.058359</td>\n",
       "      <td>2020-01-24</td>\n",
       "      <td>0</td>\n",
       "      <td>0</td>\n",
       "      <td>1.614036e+06</td>\n",
       "    </tr>\n",
       "    <tr>\n",
       "      <th>3</th>\n",
       "      <td>Afghanistan</td>\n",
       "      <td>27657145</td>\n",
       "      <td>0.583587</td>\n",
       "      <td>2020-01-24</td>\n",
       "      <td>1</td>\n",
       "      <td>0</td>\n",
       "      <td>1.614036e+07</td>\n",
       "    </tr>\n",
       "    <tr>\n",
       "      <th>4</th>\n",
       "      <td>Afghanistan</td>\n",
       "      <td>27657145</td>\n",
       "      <td>0.058359</td>\n",
       "      <td>2020-01-25</td>\n",
       "      <td>0</td>\n",
       "      <td>0</td>\n",
       "      <td>1.614036e+06</td>\n",
       "    </tr>\n",
       "    <tr>\n",
       "      <th>...</th>\n",
       "      <td>...</td>\n",
       "      <td>...</td>\n",
       "      <td>...</td>\n",
       "      <td>...</td>\n",
       "      <td>...</td>\n",
       "      <td>...</td>\n",
       "      <td>...</td>\n",
       "    </tr>\n",
       "    <tr>\n",
       "      <th>969635</th>\n",
       "      <td>Zimbabwe</td>\n",
       "      <td>14240168</td>\n",
       "      <td>0.607106</td>\n",
       "      <td>2020-06-08</td>\n",
       "      <td>1</td>\n",
       "      <td>0</td>\n",
       "      <td>8.645297e+06</td>\n",
       "    </tr>\n",
       "    <tr>\n",
       "      <th>969636</th>\n",
       "      <td>Zimbabwe</td>\n",
       "      <td>14240168</td>\n",
       "      <td>0.060711</td>\n",
       "      <td>2020-06-09</td>\n",
       "      <td>0</td>\n",
       "      <td>27</td>\n",
       "      <td>8.645297e+05</td>\n",
       "    </tr>\n",
       "    <tr>\n",
       "      <th>969637</th>\n",
       "      <td>Zimbabwe</td>\n",
       "      <td>14240168</td>\n",
       "      <td>0.607106</td>\n",
       "      <td>2020-06-09</td>\n",
       "      <td>1</td>\n",
       "      <td>0</td>\n",
       "      <td>8.645297e+06</td>\n",
       "    </tr>\n",
       "    <tr>\n",
       "      <th>969638</th>\n",
       "      <td>Zimbabwe</td>\n",
       "      <td>14240168</td>\n",
       "      <td>0.060711</td>\n",
       "      <td>2020-06-10</td>\n",
       "      <td>0</td>\n",
       "      <td>6</td>\n",
       "      <td>8.645297e+05</td>\n",
       "    </tr>\n",
       "    <tr>\n",
       "      <th>969639</th>\n",
       "      <td>Zimbabwe</td>\n",
       "      <td>14240168</td>\n",
       "      <td>0.607106</td>\n",
       "      <td>2020-06-10</td>\n",
       "      <td>1</td>\n",
       "      <td>0</td>\n",
       "      <td>8.645297e+06</td>\n",
       "    </tr>\n",
       "  </tbody>\n",
       "</table>\n",
       "<p>969640 rows × 7 columns</p>\n",
       "</div>"
      ],
      "text/plain": [
       "       Country_Region  Population    Weight        Date  Target  TargetValue  \\\n",
       "0         Afghanistan    27657145  0.058359  2020-01-23       0            0   \n",
       "1         Afghanistan    27657145  0.583587  2020-01-23       1            0   \n",
       "2         Afghanistan    27657145  0.058359  2020-01-24       0            0   \n",
       "3         Afghanistan    27657145  0.583587  2020-01-24       1            0   \n",
       "4         Afghanistan    27657145  0.058359  2020-01-25       0            0   \n",
       "...               ...         ...       ...         ...     ...          ...   \n",
       "969635       Zimbabwe    14240168  0.607106  2020-06-08       1            0   \n",
       "969636       Zimbabwe    14240168  0.060711  2020-06-09       0           27   \n",
       "969637       Zimbabwe    14240168  0.607106  2020-06-09       1            0   \n",
       "969638       Zimbabwe    14240168  0.060711  2020-06-10       0            6   \n",
       "969639       Zimbabwe    14240168  0.607106  2020-06-10       1            0   \n",
       "\n",
       "               Cases  \n",
       "0       1.614036e+06  \n",
       "1       1.614036e+07  \n",
       "2       1.614036e+06  \n",
       "3       1.614036e+07  \n",
       "4       1.614036e+06  \n",
       "...              ...  \n",
       "969635  8.645297e+06  \n",
       "969636  8.645297e+05  \n",
       "969637  8.645297e+06  \n",
       "969638  8.645297e+05  \n",
       "969639  8.645297e+06  \n",
       "\n",
       "[969640 rows x 7 columns]"
      ]
     },
     "execution_count": 31,
     "metadata": {},
     "output_type": "execute_result"
    }
   ],
   "source": [
    "train"
   ]
  },
  {
   "cell_type": "code",
   "execution_count": 32,
   "id": "6116ae0e",
   "metadata": {},
   "outputs": [
    {
     "data": {
      "text/html": [
       "<div>\n",
       "<style scoped>\n",
       "    .dataframe tbody tr th:only-of-type {\n",
       "        vertical-align: middle;\n",
       "    }\n",
       "\n",
       "    .dataframe tbody tr th {\n",
       "        vertical-align: top;\n",
       "    }\n",
       "\n",
       "    .dataframe thead th {\n",
       "        text-align: right;\n",
       "    }\n",
       "</style>\n",
       "<table border=\"1\" class=\"dataframe\">\n",
       "  <thead>\n",
       "    <tr style=\"text-align: right;\">\n",
       "      <th></th>\n",
       "      <th>Population</th>\n",
       "      <th>Weight</th>\n",
       "      <th>Target</th>\n",
       "      <th>TargetValue</th>\n",
       "      <th>Cases</th>\n",
       "    </tr>\n",
       "  </thead>\n",
       "  <tbody>\n",
       "    <tr>\n",
       "      <th>count</th>\n",
       "      <td>9.696400e+05</td>\n",
       "      <td>969640.000000</td>\n",
       "      <td>969640.0</td>\n",
       "      <td>969640.000000</td>\n",
       "      <td>9.696400e+05</td>\n",
       "    </tr>\n",
       "    <tr>\n",
       "      <th>mean</th>\n",
       "      <td>2.720127e+06</td>\n",
       "      <td>0.530870</td>\n",
       "      <td>0.5</td>\n",
       "      <td>12.563518</td>\n",
       "      <td>8.173019e+05</td>\n",
       "    </tr>\n",
       "    <tr>\n",
       "      <th>std</th>\n",
       "      <td>3.477771e+07</td>\n",
       "      <td>0.451909</td>\n",
       "      <td>0.5</td>\n",
       "      <td>302.524795</td>\n",
       "      <td>1.198266e+07</td>\n",
       "    </tr>\n",
       "    <tr>\n",
       "      <th>min</th>\n",
       "      <td>8.600000e+01</td>\n",
       "      <td>0.047491</td>\n",
       "      <td>0.0</td>\n",
       "      <td>-10034.000000</td>\n",
       "      <td>1.925700e+01</td>\n",
       "    </tr>\n",
       "    <tr>\n",
       "      <th>25%</th>\n",
       "      <td>1.213300e+04</td>\n",
       "      <td>0.096838</td>\n",
       "      <td>0.0</td>\n",
       "      <td>0.000000</td>\n",
       "      <td>2.664201e+03</td>\n",
       "    </tr>\n",
       "    <tr>\n",
       "      <th>50%</th>\n",
       "      <td>3.053100e+04</td>\n",
       "      <td>0.349413</td>\n",
       "      <td>0.5</td>\n",
       "      <td>0.000000</td>\n",
       "      <td>1.143104e+04</td>\n",
       "    </tr>\n",
       "    <tr>\n",
       "      <th>75%</th>\n",
       "      <td>1.056120e+05</td>\n",
       "      <td>0.968379</td>\n",
       "      <td>1.0</td>\n",
       "      <td>0.000000</td>\n",
       "      <td>4.304159e+04</td>\n",
       "    </tr>\n",
       "    <tr>\n",
       "      <th>max</th>\n",
       "      <td>1.395773e+09</td>\n",
       "      <td>2.239186</td>\n",
       "      <td>1.0</td>\n",
       "      <td>36163.000000</td>\n",
       "      <td>6.628638e+08</td>\n",
       "    </tr>\n",
       "  </tbody>\n",
       "</table>\n",
       "</div>"
      ],
      "text/plain": [
       "         Population         Weight    Target    TargetValue         Cases\n",
       "count  9.696400e+05  969640.000000  969640.0  969640.000000  9.696400e+05\n",
       "mean   2.720127e+06       0.530870       0.5      12.563518  8.173019e+05\n",
       "std    3.477771e+07       0.451909       0.5     302.524795  1.198266e+07\n",
       "min    8.600000e+01       0.047491       0.0  -10034.000000  1.925700e+01\n",
       "25%    1.213300e+04       0.096838       0.0       0.000000  2.664201e+03\n",
       "50%    3.053100e+04       0.349413       0.5       0.000000  1.143104e+04\n",
       "75%    1.056120e+05       0.968379       1.0       0.000000  4.304159e+04\n",
       "max    1.395773e+09       2.239186       1.0   36163.000000  6.628638e+08"
      ]
     },
     "execution_count": 32,
     "metadata": {},
     "output_type": "execute_result"
    }
   ],
   "source": [
    "train.describe()"
   ]
  },
  {
   "cell_type": "code",
   "execution_count": 33,
   "id": "a8342d71",
   "metadata": {},
   "outputs": [],
   "source": [
    "import seaborn as sns"
   ]
  },
  {
   "cell_type": "code",
   "execution_count": 34,
   "id": "ba822008",
   "metadata": {},
   "outputs": [
    {
     "data": {
      "text/plain": [
       "<matplotlib.collections.PathCollection at 0x2d525a66d30>"
      ]
     },
     "execution_count": 34,
     "metadata": {},
     "output_type": "execute_result"
    },
    {
     "data": {
      "image/png": "[encoded data removed]",
      "text/plain": [
       "<Figure size 640x480 with 1 Axes>"
      ]
     },
     "metadata": {},
     "output_type": "display_data"
    }
   ],
   "source": [
    "plt.scatter(train['Population'],train['Target'])"
   ]
  },
  {
   "cell_type": "code",
   "execution_count": 35,
   "id": "a05ab503",
   "metadata": {},
   "outputs": [
    {
     "data": {
      "text/plain": [
       "<AxesSubplot:>"
      ]
     },
     "execution_count": 35,
     "metadata": {},
     "output_type": "execute_result"
    },
    {
     "data": {
      "image/png": "[encoded data removed]",
      "text/plain": [
       "<Figure size 640x480 with 2 Axes>"
      ]
     },
     "metadata": {},
     "output_type": "display_data"
    }
   ],
   "source": [
    "sns.heatmap(train.corr(),annot=True)"
   ]
  },
  {
   "cell_type": "markdown",
   "id": "d526a295",
   "metadata": {},
   "source": [
    "# Decision Tree"
   ]
  },
  {
   "cell_type": "code",
   "execution_count": 36,
   "id": "279ffeb6",
   "metadata": {},
   "outputs": [],
   "source": [
    "from sklearn.preprocessing import LabelEncoder"
   ]
  },
  {
   "cell_type": "code",
   "execution_count": 37,
   "id": "10bb4716",
   "metadata": {},
   "outputs": [],
   "source": [
    "pop = LabelEncoder()\n",
    "date = LabelEncoder()\n",
    "cont = LabelEncoder()"
   ]
  },
  {
   "cell_type": "code",
   "execution_count": 38,
   "id": "d748e554",
   "metadata": {},
   "outputs": [],
   "source": [
    "data = [train,test]\n",
    "for dataset in data:\n",
    "    dataset['Country_Region'] = cont.fit_transform(dataset['Country_Region'])\n",
    "    dataset['Population'] = pop.fit_transform(dataset['Population'])\n",
    "    dataset['Date'] = date.fit_transform(dataset['Date'])"
   ]
  },
  {
   "cell_type": "code",
   "execution_count": 39,
   "id": "9519589e",
   "metadata": {},
   "outputs": [
    {
     "data": {
      "text/html": [
       "<div>\n",
       "<style scoped>\n",
       "    .dataframe tbody tr th:only-of-type {\n",
       "        vertical-align: middle;\n",
       "    }\n",
       "\n",
       "    .dataframe tbody tr th {\n",
       "        vertical-align: top;\n",
       "    }\n",
       "\n",
       "    .dataframe thead th {\n",
       "        text-align: right;\n",
       "    }\n",
       "</style>\n",
       "<table border=\"1\" class=\"dataframe\">\n",
       "  <thead>\n",
       "    <tr style=\"text-align: right;\">\n",
       "      <th></th>\n",
       "      <th>Country_Region</th>\n",
       "      <th>Population</th>\n",
       "      <th>Weight</th>\n",
       "      <th>Date</th>\n",
       "      <th>Target</th>\n",
       "      <th>TargetValue</th>\n",
       "      <th>Cases</th>\n",
       "    </tr>\n",
       "  </thead>\n",
       "  <tbody>\n",
       "    <tr>\n",
       "      <th>0</th>\n",
       "      <td>0</td>\n",
       "      <td>3339</td>\n",
       "      <td>0.058359</td>\n",
       "      <td>0</td>\n",
       "      <td>0</td>\n",
       "      <td>0</td>\n",
       "      <td>1.614036e+06</td>\n",
       "    </tr>\n",
       "    <tr>\n",
       "      <th>1</th>\n",
       "      <td>0</td>\n",
       "      <td>3339</td>\n",
       "      <td>0.583587</td>\n",
       "      <td>0</td>\n",
       "      <td>1</td>\n",
       "      <td>0</td>\n",
       "      <td>1.614036e+07</td>\n",
       "    </tr>\n",
       "    <tr>\n",
       "      <th>2</th>\n",
       "      <td>0</td>\n",
       "      <td>3339</td>\n",
       "      <td>0.058359</td>\n",
       "      <td>1</td>\n",
       "      <td>0</td>\n",
       "      <td>0</td>\n",
       "      <td>1.614036e+06</td>\n",
       "    </tr>\n",
       "    <tr>\n",
       "      <th>3</th>\n",
       "      <td>0</td>\n",
       "      <td>3339</td>\n",
       "      <td>0.583587</td>\n",
       "      <td>1</td>\n",
       "      <td>1</td>\n",
       "      <td>0</td>\n",
       "      <td>1.614036e+07</td>\n",
       "    </tr>\n",
       "    <tr>\n",
       "      <th>4</th>\n",
       "      <td>0</td>\n",
       "      <td>3339</td>\n",
       "      <td>0.058359</td>\n",
       "      <td>2</td>\n",
       "      <td>0</td>\n",
       "      <td>0</td>\n",
       "      <td>1.614036e+06</td>\n",
       "    </tr>\n",
       "    <tr>\n",
       "      <th>...</th>\n",
       "      <td>...</td>\n",
       "      <td>...</td>\n",
       "      <td>...</td>\n",
       "      <td>...</td>\n",
       "      <td>...</td>\n",
       "      <td>...</td>\n",
       "      <td>...</td>\n",
       "    </tr>\n",
       "    <tr>\n",
       "      <th>969635</th>\n",
       "      <td>186</td>\n",
       "      <td>3304</td>\n",
       "      <td>0.607106</td>\n",
       "      <td>137</td>\n",
       "      <td>1</td>\n",
       "      <td>0</td>\n",
       "      <td>8.645297e+06</td>\n",
       "    </tr>\n",
       "    <tr>\n",
       "      <th>969636</th>\n",
       "      <td>186</td>\n",
       "      <td>3304</td>\n",
       "      <td>0.060711</td>\n",
       "      <td>138</td>\n",
       "      <td>0</td>\n",
       "      <td>27</td>\n",
       "      <td>8.645297e+05</td>\n",
       "    </tr>\n",
       "    <tr>\n",
       "      <th>969637</th>\n",
       "      <td>186</td>\n",
       "      <td>3304</td>\n",
       "      <td>0.607106</td>\n",
       "      <td>138</td>\n",
       "      <td>1</td>\n",
       "      <td>0</td>\n",
       "      <td>8.645297e+06</td>\n",
       "    </tr>\n",
       "    <tr>\n",
       "      <th>969638</th>\n",
       "      <td>186</td>\n",
       "      <td>3304</td>\n",
       "      <td>0.060711</td>\n",
       "      <td>139</td>\n",
       "      <td>0</td>\n",
       "      <td>6</td>\n",
       "      <td>8.645297e+05</td>\n",
       "    </tr>\n",
       "    <tr>\n",
       "      <th>969639</th>\n",
       "      <td>186</td>\n",
       "      <td>3304</td>\n",
       "      <td>0.607106</td>\n",
       "      <td>139</td>\n",
       "      <td>1</td>\n",
       "      <td>0</td>\n",
       "      <td>8.645297e+06</td>\n",
       "    </tr>\n",
       "  </tbody>\n",
       "</table>\n",
       "<p>969640 rows × 7 columns</p>\n",
       "</div>"
      ],
      "text/plain": [
       "        Country_Region  Population    Weight  Date  Target  TargetValue  \\\n",
       "0                    0        3339  0.058359     0       0            0   \n",
       "1                    0        3339  0.583587     0       1            0   \n",
       "2                    0        3339  0.058359     1       0            0   \n",
       "3                    0        3339  0.583587     1       1            0   \n",
       "4                    0        3339  0.058359     2       0            0   \n",
       "...                ...         ...       ...   ...     ...          ...   \n",
       "969635             186        3304  0.607106   137       1            0   \n",
       "969636             186        3304  0.060711   138       0           27   \n",
       "969637             186        3304  0.607106   138       1            0   \n",
       "969638             186        3304  0.060711   139       0            6   \n",
       "969639             186        3304  0.607106   139       1            0   \n",
       "\n",
       "               Cases  \n",
       "0       1.614036e+06  \n",
       "1       1.614036e+07  \n",
       "2       1.614036e+06  \n",
       "3       1.614036e+07  \n",
       "4       1.614036e+06  \n",
       "...              ...  \n",
       "969635  8.645297e+06  \n",
       "969636  8.645297e+05  \n",
       "969637  8.645297e+06  \n",
       "969638  8.645297e+05  \n",
       "969639  8.645297e+06  \n",
       "\n",
       "[969640 rows x 7 columns]"
      ]
     },
     "execution_count": 39,
     "metadata": {},
     "output_type": "execute_result"
    }
   ],
   "source": [
    "train"
   ]
  },
  {
   "cell_type": "code",
   "execution_count": 40,
   "id": "38849a04",
   "metadata": {},
   "outputs": [],
   "source": [
    "x_train = train[['Country_Region','Population','Weight','Date']]"
   ]
  },
  {
   "cell_type": "code",
   "execution_count": 41,
   "id": "6d71f0fa",
   "metadata": {},
   "outputs": [],
   "source": [
    "y_train= train['Target']"
   ]
  },
  {
   "cell_type": "code",
   "execution_count": 42,
   "id": "4c47b456",
   "metadata": {},
   "outputs": [],
   "source": [
    "x_test = test[['Country_Region','Population','Weight','Date']]\n",
    "y_test = test['Target']"
   ]
  },
  {
   "cell_type": "code",
   "execution_count": 43,
   "id": "15f49ce3",
   "metadata": {},
   "outputs": [],
   "source": [
    "from sklearn.tree import DecisionTreeClassifier "
   ]
  },
  {
   "cell_type": "code",
   "execution_count": 44,
   "id": "d09608c8",
   "metadata": {},
   "outputs": [],
   "source": [
    "dtc = DecisionTreeClassifier()"
   ]
  },
  {
   "cell_type": "code",
   "execution_count": 45,
   "id": "1211bb95",
   "metadata": {},
   "outputs": [
    {
     "data": {
      "text/plain": [
       "DecisionTreeClassifier()"
      ]
     },
     "execution_count": 45,
     "metadata": {},
     "output_type": "execute_result"
    }
   ],
   "source": [
    "dtc.fit(x_train,y_train)"
   ]
  },
  {
   "cell_type": "code",
   "execution_count": 46,
   "id": "1f87f2ca",
   "metadata": {},
   "outputs": [
    {
     "data": {
      "text/plain": [
       "1.0"
      ]
     },
     "execution_count": 46,
     "metadata": {},
     "output_type": "execute_result"
    }
   ],
   "source": [
    "dtc.score(x_test,y_test)"
   ]
  },
  {
   "cell_type": "markdown",
   "id": "5e83172b",
   "metadata": {},
   "source": [
    "as we can see that accuracy is 100%. so it is a overfit model. let's try another one."
   ]
  },
  {
   "cell_type": "markdown",
   "id": "d5b5bd5a",
   "metadata": {},
   "source": [
    "# Logistic regression"
   ]
  },
  {
   "cell_type": "code",
   "execution_count": 47,
   "id": "86df1279",
   "metadata": {},
   "outputs": [],
   "source": [
    "from sklearn.linear_model import LogisticRegression"
   ]
  },
  {
   "cell_type": "code",
   "execution_count": 48,
   "id": "aabbe8d9",
   "metadata": {},
   "outputs": [],
   "source": [
    "model = LogisticRegression()"
   ]
  },
  {
   "cell_type": "code",
   "execution_count": 49,
   "id": "d0a0acc6",
   "metadata": {},
   "outputs": [
    {
     "data": {
      "text/plain": [
       "LogisticRegression()"
      ]
     },
     "execution_count": 49,
     "metadata": {},
     "output_type": "execute_result"
    }
   ],
   "source": [
    "model.fit(x_train,y_train)"
   ]
  },
  {
   "cell_type": "code",
   "execution_count": 50,
   "id": "9ca8329d",
   "metadata": {},
   "outputs": [
    {
     "data": {
      "text/plain": [
       "1.0"
      ]
     },
     "execution_count": 50,
     "metadata": {},
     "output_type": "execute_result"
    }
   ],
   "source": [
    "model.score(x_test,y_test)"
   ]
  },
  {
   "cell_type": "markdown",
   "id": "30e2fc6e",
   "metadata": {},
   "source": [
    "# KNN"
   ]
  },
  {
   "cell_type": "code",
   "execution_count": 51,
   "id": "a86ae4bc",
   "metadata": {},
   "outputs": [],
   "source": [
    "from sklearn.neighbors import KNeighborsClassifier"
   ]
  },
  {
   "cell_type": "code",
   "execution_count": 52,
   "id": "b56e5671",
   "metadata": {},
   "outputs": [],
   "source": [
    "knn = KNeighborsClassifier(n_neighbors = 5)"
   ]
  },
  {
   "cell_type": "code",
   "execution_count": 53,
   "id": "8f848120",
   "metadata": {},
   "outputs": [
    {
     "data": {
      "text/plain": [
       "KNeighborsClassifier()"
      ]
     },
     "execution_count": 53,
     "metadata": {},
     "output_type": "execute_result"
    }
   ],
   "source": [
    "knn.fit(x_train,y_train)"
   ]
  },
  {
   "cell_type": "code",
   "execution_count": 54,
   "id": "a322acaa",
   "metadata": {},
   "outputs": [
    {
     "name": "stderr",
     "output_type": "stream",
     "text": [
      "C:\\ProgramData\\Anaconda3\\lib\\site-packages\\sklearn\\neighbors\\_classification.py:228: FutureWarning: Unlike other reduction functions (e.g. `skew`, `kurtosis`), the default behavior of `mode` typically preserves the axis it acts along. In SciPy 1.11.0, this behavior will change: the default value of `keepdims` will become False, the `axis` over which the statistic is taken will be eliminated, and the value None will no longer be accepted. Set `keepdims` to True or False to avoid this warning.\n",
      "  mode, _ = stats.mode(_y[neigh_ind, k], axis=1)\n"
     ]
    },
    {
     "data": {
      "text/plain": [
       "1.0"
      ]
     },
     "execution_count": 54,
     "metadata": {},
     "output_type": "execute_result"
    }
   ],
   "source": [
    "knn.score(x_test,y_test)"
   ]
  },
  {
   "cell_type": "code",
   "execution_count": null,
   "id": "56ed1acd",
   "metadata": {},
   "outputs": [],
   "source": []
  }
 ],
 "metadata": {
  "kernelspec": {
   "display_name": "Python 3 (ipykernel)",
   "language": "python",
   "name": "python3"
  },
  "language_info": {
   "codemirror_mode": {
    "name": "ipython",
    "version": 3
   },
   "file_extension": ".py",
   "mimetype": "text/x-python",
   "name": "python",
   "nbconvert_exporter": "python",
   "pygments_lexer": "ipython3",
   "version": "3.9.13"
  }
 },
 "nbformat": 4,
 "nbformat_minor": 5
}
