{
 "cells": [
  {
   "cell_type": "markdown",
   "id": "dcd2ff5e",
   "metadata": {},
   "source": [
    "1. Create a 4X2 integer array and Prints its attributes\n",
    "Note: The element must be a type of unsigned int16. And print the\n",
    "following Attributes. \n",
    "The shape of an array.\n",
    "Array dimensions.\n",
    "The Length of each element of the array in bytes.\n"
   ]
  },
  {
   "cell_type": "code",
   "execution_count": 1,
   "id": "c1c0c5d7",
   "metadata": {},
   "outputs": [
    {
     "data": {
      "text/plain": [
       "array([[1, 2],\n",
       "       [2, 3],\n",
       "       [3, 4],\n",
       "       [4, 5]])"
      ]
     },
     "execution_count": 1,
     "metadata": {},
     "output_type": "execute_result"
    }
   ],
   "source": [
    "import numpy as np\n",
    "arr = np.array([[1,2],[2,3],[3,4],[4,5]])\n",
    "arr"
   ]
  },
  {
   "cell_type": "code",
   "execution_count": 2,
   "id": "52bc3c58",
   "metadata": {},
   "outputs": [
    {
     "data": {
      "text/plain": [
       "(4, 2)"
      ]
     },
     "execution_count": 2,
     "metadata": {},
     "output_type": "execute_result"
    }
   ],
   "source": [
    "np.shape(arr)"
   ]
  },
  {
   "cell_type": "markdown",
   "id": "d40c937f",
   "metadata": {},
   "source": [
    "2. Note: The element must be a type of unsigned int16. And print the\n",
    "following Attributes. The shape of an array."
   ]
  },
  {
   "cell_type": "code",
   "execution_count": 6,
   "id": "82e7cd6f",
   "metadata": {},
   "outputs": [
    {
     "data": {
      "text/plain": [
       "2"
      ]
     },
     "execution_count": 6,
     "metadata": {},
     "output_type": "execute_result"
    }
   ],
   "source": [
    "np.ndim(arr)"
   ]
  },
  {
   "cell_type": "code",
   "execution_count": 10,
   "id": "8bf1df2f",
   "metadata": {},
   "outputs": [
    {
     "data": {
      "text/plain": [
       "8"
      ]
     },
     "execution_count": 10,
     "metadata": {},
     "output_type": "execute_result"
    }
   ],
   "source": [
    "np.size(arr)"
   ]
  },
  {
   "cell_type": "code",
   "execution_count": 11,
   "id": "921425dd",
   "metadata": {},
   "outputs": [
    {
     "data": {
      "text/plain": [
       "4"
      ]
     },
     "execution_count": 11,
     "metadata": {},
     "output_type": "execute_result"
    }
   ],
   "source": [
    "arr.itemsize"
   ]
  },
  {
   "cell_type": "markdown",
   "id": "df75a7f9",
   "metadata": {},
   "source": [
    "2. Create a 5X2 integer array from a range between 100 to 200 such that the\n",
    "difference between each element is 10.\n"
   ]
  },
  {
   "cell_type": "code",
   "execution_count": 12,
   "id": "f250c121",
   "metadata": {},
   "outputs": [
    {
     "data": {
      "text/plain": [
       "array([100, 110, 120, 130, 140, 150, 160, 170, 180, 190])"
      ]
     },
     "execution_count": 12,
     "metadata": {},
     "output_type": "execute_result"
    }
   ],
   "source": [
    "arr_2 = np.arange(100,200,10)\n",
    "arr_2"
   ]
  },
  {
   "cell_type": "code",
   "execution_count": 13,
   "id": "990334c8",
   "metadata": {},
   "outputs": [
    {
     "data": {
      "text/plain": [
       "array([[100, 110],\n",
       "       [120, 130],\n",
       "       [140, 150],\n",
       "       [160, 170],\n",
       "       [180, 190]])"
      ]
     },
     "execution_count": 13,
     "metadata": {},
     "output_type": "execute_result"
    }
   ],
   "source": [
    "arr1= arr_2.reshape(5,2)\n",
    "arr1"
   ]
  },
  {
   "cell_type": "markdown",
   "id": "7d754dc6",
   "metadata": {},
   "source": [
    "3. Following is the provided numPy array. Return array of items by taking the\n",
    "third column from all rows\n",
    "* sampleArray = numpy.array([[11 ,22, 33], [44, 55, 66], [77, 88, 99]])\n"
   ]
  },
  {
   "cell_type": "code",
   "execution_count": 15,
   "id": "a786e3bc",
   "metadata": {},
   "outputs": [
    {
     "data": {
      "text/plain": [
       "array([[11, 22, 33],\n",
       "       [44, 55, 66],\n",
       "       [77, 88, 99]])"
      ]
     },
     "execution_count": 15,
     "metadata": {},
     "output_type": "execute_result"
    }
   ],
   "source": [
    "arr = np.array([[11 ,22, 33], [44, 55, 66], [77, 88, 99]])\n",
    "arr"
   ]
  },
  {
   "cell_type": "code",
   "execution_count": 16,
   "id": "83a46cbe",
   "metadata": {},
   "outputs": [
    {
     "data": {
      "text/plain": [
       "array([11, 22, 33, 44, 55, 66, 77, 88, 99])"
      ]
     },
     "execution_count": 16,
     "metadata": {},
     "output_type": "execute_result"
    }
   ],
   "source": [
    "arr = arr.flatten()\n",
    "arr"
   ]
  },
  {
   "cell_type": "markdown",
   "id": "e9e914c8",
   "metadata": {},
   "source": [
    "4. Extract all odd numbers from arr\n",
    "Input:\n",
    "arr = np.array([0, 1, 2, 3, 4, 5, 6, 7, 8, 9])\n",
    "    \n",
    "    "
   ]
  },
  {
   "cell_type": "code",
   "execution_count": 26,
   "id": "97f5889d",
   "metadata": {},
   "outputs": [
    {
     "name": "stdout",
     "output_type": "stream",
     "text": [
      "1\n",
      "3\n",
      "5\n",
      "7\n",
      "9\n"
     ]
    }
   ],
   "source": [
    "arr = np.array([0,1,2,3,4,5,6,7,8,9])\n",
    "for i in arr:\n",
    "   \n",
    "    if i%2!=0:\n",
    "        \n",
    "        print(i)"
   ]
  },
  {
   "cell_type": "markdown",
   "id": "e26d1d97",
   "metadata": {},
   "source": [
    "5. Create a null vector of size 10\n"
   ]
  },
  {
   "cell_type": "code",
   "execution_count": 29,
   "id": "2e0fad06",
   "metadata": {},
   "outputs": [
    {
     "data": {
      "text/plain": [
       "array([0., 0., 0., 0., 0., 0., 0., 0., 0., 0.])"
      ]
     },
     "execution_count": 29,
     "metadata": {},
     "output_type": "execute_result"
    }
   ],
   "source": [
    "null_vector = np.zeros(10)\n",
    "null_vector"
   ]
  },
  {
   "cell_type": "markdown",
   "id": "ba3ed330",
   "metadata": {},
   "source": [
    "5. Create a null vector of size 10 but the fifth value which is 1"
   ]
  },
  {
   "cell_type": "code",
   "execution_count": 55,
   "id": "b09a4406",
   "metadata": {},
   "outputs": [],
   "source": [
    "null_vector1 = np.zeros(10)\n",
    "null_vector1[4] = 1"
   ]
  },
  {
   "cell_type": "code",
   "execution_count": 56,
   "id": "4f6fcfb1",
   "metadata": {},
   "outputs": [
    {
     "data": {
      "text/plain": [
       "array([0., 0., 0., 0., 1., 0., 0., 0., 0., 0.])"
      ]
     },
     "execution_count": 56,
     "metadata": {},
     "output_type": "execute_result"
    }
   ],
   "source": [
    "null_vector1"
   ]
  },
  {
   "cell_type": "markdown",
   "id": "8e989cb3",
   "metadata": {},
   "source": [
    "6. Create a vector with values ranging from 10 to 49\n"
   ]
  },
  {
   "cell_type": "code",
   "execution_count": 32,
   "id": "cee0f071",
   "metadata": {},
   "outputs": [
    {
     "data": {
      "text/plain": [
       "array([10, 11, 12, 13, 14, 15, 16, 17, 18, 19, 20, 21, 22, 23, 24, 25, 26,\n",
       "       27, 28, 29, 30, 31, 32, 33, 34, 35, 36, 37, 38, 39, 40, 41, 42, 43,\n",
       "       44, 45, 46, 47, 48, 49])"
      ]
     },
     "execution_count": 32,
     "metadata": {},
     "output_type": "execute_result"
    }
   ],
   "source": [
    "v = np.arange(10,50)\n",
    "v"
   ]
  },
  {
   "cell_type": "markdown",
   "id": "11f50a9a",
   "metadata": {},
   "source": [
    "7. Create a 3x3 identity matrix"
   ]
  },
  {
   "cell_type": "code",
   "execution_count": 33,
   "id": "c9a449f5",
   "metadata": {},
   "outputs": [],
   "source": [
    "m = np.eye(3,3)"
   ]
  },
  {
   "cell_type": "code",
   "execution_count": 34,
   "id": "771edd35",
   "metadata": {},
   "outputs": [
    {
     "data": {
      "text/plain": [
       "array([[1., 0., 0.],\n",
       "       [0., 1., 0.],\n",
       "       [0., 0., 1.]])"
      ]
     },
     "execution_count": 34,
     "metadata": {},
     "output_type": "execute_result"
    }
   ],
   "source": [
    "m"
   ]
  },
  {
   "cell_type": "markdown",
   "id": "7b42161d",
   "metadata": {},
   "source": [
    "8. Create a 3x3x3 array with random values"
   ]
  },
  {
   "cell_type": "code",
   "execution_count": 40,
   "id": "0755250b",
   "metadata": {},
   "outputs": [],
   "source": [
    "a = np.random.random((3,3,3))"
   ]
  },
  {
   "cell_type": "code",
   "execution_count": 41,
   "id": "60f70777",
   "metadata": {},
   "outputs": [
    {
     "data": {
      "text/plain": [
       "array([[[0.63928264, 0.60731186, 0.25952077],\n",
       "        [0.32696836, 0.04189999, 0.53968386],\n",
       "        [0.3090973 , 0.27174355, 0.93215781]],\n",
       "\n",
       "       [[0.44432376, 0.23791921, 0.01672282],\n",
       "        [0.47032231, 0.10042588, 0.94293996],\n",
       "        [0.66928431, 0.8583327 , 0.42172125]],\n",
       "\n",
       "       [[0.52631337, 0.63759978, 0.54651942],\n",
       "        [0.38532488, 0.9469443 , 0.44330142],\n",
       "        [0.00857222, 0.83077895, 0.72787881]]])"
      ]
     },
     "execution_count": 41,
     "metadata": {},
     "output_type": "execute_result"
    }
   ],
   "source": [
    "a"
   ]
  },
  {
   "cell_type": "markdown",
   "id": "3377a92b",
   "metadata": {},
   "source": [
    " 9. Write a NumPy program to convert a list of numeric values into a\n",
    "one-dimensional NumPy array"
   ]
  },
  {
   "cell_type": "code",
   "execution_count": 42,
   "id": "ddbb2a76",
   "metadata": {},
   "outputs": [
    {
     "data": {
      "text/plain": [
       "list"
      ]
     },
     "execution_count": 42,
     "metadata": {},
     "output_type": "execute_result"
    }
   ],
   "source": [
    "l = [4,5,6,7,8,9,2,4,6,4]\n",
    "type(l)"
   ]
  },
  {
   "cell_type": "code",
   "execution_count": 43,
   "id": "06d957eb",
   "metadata": {},
   "outputs": [
    {
     "data": {
      "text/plain": [
       "numpy.ndarray"
      ]
     },
     "execution_count": 43,
     "metadata": {},
     "output_type": "execute_result"
    }
   ],
   "source": [
    "a = np.array(l)\n",
    "type(a)"
   ]
  },
  {
   "cell_type": "code",
   "execution_count": 44,
   "id": "2d5a6ff9",
   "metadata": {},
   "outputs": [
    {
     "data": {
      "text/plain": [
       "array([4, 5, 6, 7, 8, 9, 2, 4, 6, 4])"
      ]
     },
     "execution_count": 44,
     "metadata": {},
     "output_type": "execute_result"
    }
   ],
   "source": [
    "a"
   ]
  },
  {
   "cell_type": "markdown",
   "id": "a446113d",
   "metadata": {},
   "source": [
    "10. Write a NumPy program to create a 4x4 matrix with values ranging from 7\n",
    "to 15."
   ]
  },
  {
   "cell_type": "code",
   "execution_count": 45,
   "id": "0cf9b85d",
   "metadata": {},
   "outputs": [
    {
     "data": {
      "text/plain": [
       "array([[ 7.        ,  7.53333333,  8.06666667,  8.6       ],\n",
       "       [ 9.13333333,  9.66666667, 10.2       , 10.73333333],\n",
       "       [11.26666667, 11.8       , 12.33333333, 12.86666667],\n",
       "       [13.4       , 13.93333333, 14.46666667, 15.        ]])"
      ]
     },
     "execution_count": 45,
     "metadata": {},
     "output_type": "execute_result"
    }
   ],
   "source": [
    "a4 = np.linspace(7,15,16).reshape((4,4))\n",
    "a4\n"
   ]
  },
  {
   "cell_type": "code",
   "execution_count": 46,
   "id": "d43136c0",
   "metadata": {},
   "outputs": [
    {
     "data": {
      "text/plain": [
       "(4, 4)"
      ]
     },
     "execution_count": 46,
     "metadata": {},
     "output_type": "execute_result"
    }
   ],
   "source": [
    "np.shape(a4)"
   ]
  },
  {
   "cell_type": "markdown",
   "id": "53ad18f9",
   "metadata": {},
   "source": [
    "11. Write a NumPy program to create a null vector of size 10 and update the\n",
    "sixth value to 11.\n"
   ]
  },
  {
   "cell_type": "code",
   "execution_count": 54,
   "id": "8f592d39",
   "metadata": {},
   "outputs": [
    {
     "data": {
      "text/plain": [
       "array([ 0.,  0.,  0.,  0.,  0., 11.,  0.,  0.,  0.,  0.])"
      ]
     },
     "execution_count": 54,
     "metadata": {},
     "output_type": "execute_result"
    }
   ],
   "source": [
    "n_vector= np.zeros(10)\n",
    "n_vector[5] = 11\n",
    "n_vector"
   ]
  },
  {
   "cell_type": "markdown",
   "id": "30a12397",
   "metadata": {},
   "source": [
    "12. Write a NumPy program to create a 2d array with 1 on the border and 0\n",
    "inside.\n"
   ]
  },
  {
   "cell_type": "code",
   "execution_count": 50,
   "id": "aba9846d",
   "metadata": {},
   "outputs": [],
   "source": [
    "a2 = np.zeros(10)"
   ]
  },
  {
   "cell_type": "code",
   "execution_count": 53,
   "id": "f6c549ec",
   "metadata": {},
   "outputs": [
    {
     "data": {
      "text/plain": [
       "array([[1., 0., 0., 0., 0., 0., 0., 0., 0., 1.]])"
      ]
     },
     "execution_count": 53,
     "metadata": {},
     "output_type": "execute_result"
    }
   ],
   "source": [
    "a2[0] = 1\n",
    "a2[-1] = 1\n",
    "\n",
    "arr_2d= np.array([a2])\n",
    "arr_2d"
   ]
  },
  {
   "cell_type": "markdown",
   "id": "d1670148",
   "metadata": {},
   "source": [
    "13. Write a NumPy program to convert the values of Centigrade degrees into\n",
    "Fahrenheit degrees and vice versa. Values are stored into a NumPy array.\n"
   ]
  },
  {
   "cell_type": "code",
   "execution_count": 59,
   "id": "886af481",
   "metadata": {},
   "outputs": [],
   "source": [
    "values_in_C = np.array([10,20,30,40])\n",
    "values_in_F = np.array([80,98,104,145])\n",
    "C_to_F = 1.8*values_in_C + 32\n",
    "F_to_C = (values_in_F-32)/1.8\n"
   ]
  },
  {
   "cell_type": "code",
   "execution_count": 60,
   "id": "cb121d25",
   "metadata": {},
   "outputs": [
    {
     "name": "stdout",
     "output_type": "stream",
     "text": [
      "Values Centigrade to Fahrenheit:  [ 50.  68.  86. 104.]\n",
      "Values Fahrenheit to centigrade:  [26.66666667 36.66666667 40.         62.77777778]\n"
     ]
    }
   ],
   "source": [
    "print(\"Values Centigrade to Fahrenheit: \",C_to_F)\n",
    "print(\"Values Fahrenheit to centigrade: \",F_to_C)"
   ]
  },
  {
   "cell_type": "markdown",
   "id": "167f4549",
   "metadata": {},
   "source": [
    "14. Write a NumPy program to create an array of ones and an array of zeros"
   ]
  },
  {
   "cell_type": "code",
   "execution_count": 61,
   "id": "f1fe049c",
   "metadata": {},
   "outputs": [
    {
     "data": {
      "text/plain": [
       "array([1., 1., 1., 1., 1., 1., 1., 1., 1., 1.])"
      ]
     },
     "execution_count": 61,
     "metadata": {},
     "output_type": "execute_result"
    }
   ],
   "source": [
    "ones_arr = np.ones(10)\n",
    "ones_arr"
   ]
  },
  {
   "cell_type": "code",
   "execution_count": 62,
   "id": "d48a8960",
   "metadata": {},
   "outputs": [
    {
     "data": {
      "text/plain": [
       "array([0., 0., 0., 0., 0., 0., 0., 0., 0., 0.])"
      ]
     },
     "execution_count": 62,
     "metadata": {},
     "output_type": "execute_result"
    }
   ],
   "source": [
    "zeros_arr = np.zeros(10)\n",
    "zeros_arr"
   ]
  },
  {
   "cell_type": "markdown",
   "id": "f0d47a2a",
   "metadata": {},
   "source": [
    "15. Write a NumPy program to create a new shape to an array without\n",
    "changing its data."
   ]
  },
  {
   "cell_type": "code",
   "execution_count": 63,
   "id": "77afd36d",
   "metadata": {},
   "outputs": [],
   "source": [
    "a = np.arange(15,35,2)"
   ]
  },
  {
   "cell_type": "code",
   "execution_count": 64,
   "id": "ac887ae8",
   "metadata": {},
   "outputs": [
    {
     "data": {
      "text/plain": [
       "array([15, 17, 19, 21, 23, 25, 27, 29, 31, 33])"
      ]
     },
     "execution_count": 64,
     "metadata": {},
     "output_type": "execute_result"
    }
   ],
   "source": [
    "a"
   ]
  },
  {
   "cell_type": "code",
   "execution_count": 65,
   "id": "6515728d",
   "metadata": {},
   "outputs": [
    {
     "data": {
      "text/plain": [
       "(10,)"
      ]
     },
     "execution_count": 65,
     "metadata": {},
     "output_type": "execute_result"
    }
   ],
   "source": [
    "np.shape(a)"
   ]
  },
  {
   "cell_type": "code",
   "execution_count": 66,
   "id": "c81ae044",
   "metadata": {},
   "outputs": [
    {
     "data": {
      "text/plain": [
       "array([[15, 17],\n",
       "       [19, 21],\n",
       "       [23, 25],\n",
       "       [27, 29],\n",
       "       [31, 33]])"
      ]
     },
     "execution_count": 66,
     "metadata": {},
     "output_type": "execute_result"
    }
   ],
   "source": [
    "new_arr = a.reshape((5,2))\n",
    "new_arr"
   ]
  },
  {
   "cell_type": "code",
   "execution_count": 67,
   "id": "0fe01308",
   "metadata": {},
   "outputs": [
    {
     "data": {
      "text/plain": [
       "(5, 2)"
      ]
     },
     "execution_count": 67,
     "metadata": {},
     "output_type": "execute_result"
    }
   ],
   "source": [
    "np.shape(new_arr)"
   ]
  },
  {
   "cell_type": "markdown",
   "id": "f9b28c07",
   "metadata": {},
   "source": [
    " 16. Write a NumPy program to create a new array of 3*5, filled with 2."
   ]
  },
  {
   "cell_type": "code",
   "execution_count": 71,
   "id": "2d78b968",
   "metadata": {},
   "outputs": [
    {
     "data": {
      "text/plain": [
       "(15,)"
      ]
     },
     "execution_count": 71,
     "metadata": {},
     "output_type": "execute_result"
    }
   ],
   "source": [
    "a = np.array([2,2,2,2,2,2,2,2,2,2,2,2,2,2,2])\n",
    "np.shape(a)"
   ]
  },
  {
   "cell_type": "code",
   "execution_count": 72,
   "id": "6d8b77ac",
   "metadata": {},
   "outputs": [
    {
     "data": {
      "text/plain": [
       "array([[2, 2, 2, 2, 2],\n",
       "       [2, 2, 2, 2, 2],\n",
       "       [2, 2, 2, 2, 2]])"
      ]
     },
     "execution_count": 72,
     "metadata": {},
     "output_type": "execute_result"
    }
   ],
   "source": [
    "a = a.reshape((3,5))\n",
    "a"
   ]
  },
  {
   "cell_type": "code",
   "execution_count": 73,
   "id": "912732fa",
   "metadata": {},
   "outputs": [
    {
     "data": {
      "text/plain": [
       "(3, 5)"
      ]
     },
     "execution_count": 73,
     "metadata": {},
     "output_type": "execute_result"
    }
   ],
   "source": [
    "np.shape(a)"
   ]
  },
  {
   "cell_type": "markdown",
   "id": "4e709536",
   "metadata": {},
   "source": [
    "17. Write a NumPy program to create a 3-D array with ones on a diagonal\n",
    "and zeros elsewhere"
   ]
  },
  {
   "cell_type": "code",
   "execution_count": 78,
   "id": "de52dfd8",
   "metadata": {},
   "outputs": [
    {
     "data": {
      "text/plain": [
       "array([[1., 0., 0.],\n",
       "       [0., 1., 0.],\n",
       "       [0., 0., 1.]])"
      ]
     },
     "execution_count": 78,
     "metadata": {},
     "output_type": "execute_result"
    }
   ],
   "source": [
    "a3 = np.eye(3,3)\n",
    "a3"
   ]
  },
  {
   "cell_type": "code",
   "execution_count": 79,
   "id": "cffb3380",
   "metadata": {},
   "outputs": [
    {
     "data": {
      "text/plain": [
       "(3, 3)"
      ]
     },
     "execution_count": 79,
     "metadata": {},
     "output_type": "execute_result"
    }
   ],
   "source": [
    "np.shape(a3)"
   ]
  },
  {
   "cell_type": "code",
   "execution_count": 80,
   "id": "565a0cf5",
   "metadata": {},
   "outputs": [
    {
     "data": {
      "text/plain": [
       "(1, 3, 3)"
      ]
     },
     "execution_count": 80,
     "metadata": {},
     "output_type": "execute_result"
    }
   ],
   "source": [
    "a3 = a3.reshape(1,3,3)\n",
    "np.shape(a3)"
   ]
  },
  {
   "cell_type": "code",
   "execution_count": 81,
   "id": "fee9a8e5",
   "metadata": {},
   "outputs": [
    {
     "data": {
      "text/plain": [
       "array([[[1., 0., 0.],\n",
       "        [0., 1., 0.],\n",
       "        [0., 0., 1.]]])"
      ]
     },
     "execution_count": 81,
     "metadata": {},
     "output_type": "execute_result"
    }
   ],
   "source": [
    "a3"
   ]
  },
  {
   "cell_type": "markdown",
   "id": "ee3ba5ae",
   "metadata": {},
   "source": [
    "18. Write a NumPy program to create a 1-D array of 20 element spaced\n",
    "evenly on a log scale between 2. and 5., exclusive.\n"
   ]
  },
  {
   "cell_type": "code",
   "execution_count": 82,
   "id": "80537b91",
   "metadata": {},
   "outputs": [
    {
     "data": {
      "text/plain": [
       "array([2.        , 2.15789474, 2.31578947, 2.47368421, 2.63157895,\n",
       "       2.78947368, 2.94736842, 3.10526316, 3.26315789, 3.42105263,\n",
       "       3.57894737, 3.73684211, 3.89473684, 4.05263158, 4.21052632,\n",
       "       4.36842105, 4.52631579, 4.68421053, 4.84210526, 5.        ])"
      ]
     },
     "execution_count": 82,
     "metadata": {},
     "output_type": "execute_result"
    }
   ],
   "source": [
    "a = np.linspace(2,5,20)\n",
    "a"
   ]
  },
  {
   "cell_type": "markdown",
   "id": "973b098e",
   "metadata": {},
   "source": [
    "19. Write a NumPy program (using NumPy) to sum of all the multiples of 3\n",
    "or 5 below 100"
   ]
  },
  {
   "cell_type": "code",
   "execution_count": 91,
   "id": "b05788b2",
   "metadata": {},
   "outputs": [
    {
     "name": "stdout",
     "output_type": "stream",
     "text": [
      "404\n"
     ]
    }
   ],
   "source": [
    "arr = np.array([6,5,4,12,15,20,24,56,55,48,63,65,66,145,25])\n",
    "def sum_():\n",
    "    sum_ = 0\n",
    "    \n",
    "    for i in arr:\n",
    "        \n",
    "        if i%3==0 or i%5==0 and i<100:\n",
    "            sum_ = sum_+i\n",
    "    return sum_\n",
    "print(sum_())"
   ]
  },
  {
   "cell_type": "code",
   "execution_count": null,
   "id": "b7d6c095",
   "metadata": {},
   "outputs": [],
   "source": []
  }
 ],
 "metadata": {
  "kernelspec": {
   "display_name": "Python 3 (ipykernel)",
   "language": "python",
   "name": "python3"
  },
  "language_info": {
   "codemirror_mode": {
    "name": "ipython",
    "version": 3
   },
   "file_extension": ".py",
   "mimetype": "text/x-python",
   "name": "python",
   "nbconvert_exporter": "python",
   "pygments_lexer": "ipython3",
   "version": "3.9.12"
  }
 },
 "nbformat": 4,
 "nbformat_minor": 5
}
