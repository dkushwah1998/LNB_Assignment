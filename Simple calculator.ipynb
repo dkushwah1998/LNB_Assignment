{
 "cells": [
  {
   "cell_type": "code",
   "execution_count": 23,
   "id": "0155754e",
   "metadata": {},
   "outputs": [
    {
     "name": "stdout",
     "output_type": "stream",
     "text": [
      "Enter first number: 520\n",
      "Enter second number: 468\n",
      "enter third number: 614\n",
      "Enter fourth number: 245\n"
     ]
    }
   ],
   "source": [
    "## Calculator\n",
    "n1 = int(input(\"Enter first number: \"))\n",
    "n2 = int(input(\"Enter second number: \"))\n",
    "n3 = int(input(\"enter third number: \"))\n",
    "n4 = int(input(\"Enter fourth number: \"))"
   ]
  },
  {
   "cell_type": "code",
   "execution_count": 24,
   "id": "ead759d0",
   "metadata": {},
   "outputs": [
    {
     "name": "stdout",
     "output_type": "stream",
     "text": [
      "Sum of n1 and n2:  988\n",
      "sum of n1 and n3:  1134\n",
      "Sum of n1 and n4:  765\n",
      "Sum of n2 and n3:  1082\n",
      "Sum of n3 and n4:  859\n",
      "Sum of n2 and n4:  713\n",
      "Sum of n1, n2, n3, and n4:  1847\n"
     ]
    }
   ],
   "source": [
    "#Addition\n",
    "print(\"Sum of n1 and n2: \",n1+n2)\n",
    "print(\"sum of n1 and n3: \",n1+n3)\n",
    "print(\"Sum of n1 and n4: \",n1+n4)\n",
    "print(\"Sum of n2 and n3: \",n2+n3)\n",
    "print(\"Sum of n3 and n4: \",n3+n4)\n",
    "print(\"Sum of n2 and n4: \",n2+n4)\n",
    "print(\"Sum of n1, n2, n3, and n4: \",n1+n2+n3+n4)"
   ]
  },
  {
   "cell_type": "code",
   "execution_count": 25,
   "id": "495b5bb4",
   "metadata": {},
   "outputs": [
    {
     "name": "stdout",
     "output_type": "stream",
     "text": [
      "Subtaction of n1 and n2:  52\n",
      "Subtaction of n1 and n3:  -94\n",
      "Subtaction of n1 and n4:  275\n",
      "Subtaction of n2 and n3:  -146\n",
      "Subtaction of n3 and n4:  369\n",
      "Subtaction of n2 and n4:  223\n"
     ]
    }
   ],
   "source": [
    "##Subtraction\n",
    "print(\"Subtaction of n1 and n2: \",n1-n2)\n",
    "print(\"Subtaction of n1 and n3: \",n1-n3)\n",
    "print(\"Subtaction of n1 and n4: \",n1-n4)\n",
    "print(\"Subtaction of n2 and n3: \",n2-n3)\n",
    "print(\"Subtaction of n3 and n4: \",n3-n4)\n",
    "print(\"Subtaction of n2 and n4: \",n2-n4)"
   ]
  },
  {
   "cell_type": "code",
   "execution_count": 26,
   "id": "c62fd5b7",
   "metadata": {},
   "outputs": [
    {
     "name": "stdout",
     "output_type": "stream",
     "text": [
      "Product of n1 and n2:  243360\n",
      "Product of n1 and n3:  319280\n",
      "Product of n1 and n4:  127400\n",
      "Product of n2 and n3:  287352\n",
      "Product of n3 and n4:  150430\n",
      "Product of n2 and n4:  114660\n",
      "Product of n1, n2, n3, and n4:  36608644800\n"
     ]
    }
   ],
   "source": [
    "##Multiplication\n",
    "print(\"Product of n1 and n2: \",n1*n2)\n",
    "print(\"Product of n1 and n3: \",n1*n3)\n",
    "print(\"Product of n1 and n4: \",n1*n4)\n",
    "print(\"Product of n2 and n3: \",n2*n3)\n",
    "print(\"Product of n3 and n4: \",n3*n4)\n",
    "print(\"Product of n2 and n4: \",n2*n4)\n",
    "print(\"Product of n1, n2, n3, and n4: \",n1*n2*n3*n4)"
   ]
  },
  {
   "cell_type": "code",
   "execution_count": 27,
   "id": "f77557b0",
   "metadata": {},
   "outputs": [
    {
     "name": "stdout",
     "output_type": "stream",
     "text": [
      "Division of n1 and n2:  1.1111111111111112\n",
      "Division of n1 and n3:  0.8469055374592834\n",
      "Division of n1 and n4:  2.122448979591837\n",
      "Division of n2 and n3:  0.762214983713355\n",
      "Division of n3 and n4:  2.5061224489795917\n",
      "Division of n2 and n4:  1.910204081632653\n"
     ]
    }
   ],
   "source": [
    "##Division\n",
    "print(\"Division of n1 and n2: \",n1/n2)\n",
    "print(\"Division of n1 and n3: \",n1/n3)\n",
    "print(\"Division of n1 and n4: \",n1/n4)\n",
    "print(\"Division of n2 and n3: \",n2/n3)\n",
    "print(\"Division of n3 and n4: \",n3/n4)\n",
    "print(\"Division of n2 and n4: \",n2/n4)"
   ]
  },
  {
   "cell_type": "code",
   "execution_count": 28,
   "id": "259e3011",
   "metadata": {},
   "outputs": [
    {
     "name": "stdout",
     "output_type": "stream",
     "text": [
      "Division of n1 and n2:  2\n",
      "Division of n1 and n3:  1\n",
      "Division of n1 and n4:  3\n",
      "Division of n2 and n3:  1\n",
      "Division of n3 and n4:  3\n",
      "Division of n2 and n4:  2\n"
     ]
    }
   ],
   "source": [
    "##Ceil round division\n",
    "import math\n",
    "print(\"Division of n1 and n2: \",math.ceil(n1/n2))\n",
    "print(\"Division of n1 and n3: \",math.ceil(n1/n3))\n",
    "print(\"Division of n1 and n4: \",math.ceil(n1/n4))\n",
    "print(\"Division of n2 and n3: \",math.ceil(n2/n3))\n",
    "print(\"Division of n3 and n4: \",math.ceil(n3/n4))\n",
    "print(\"Division of n2 and n4: \",math.ceil(n2/n4))\n"
   ]
  },
  {
   "cell_type": "code",
   "execution_count": 29,
   "id": "a178ad24",
   "metadata": {},
   "outputs": [
    {
     "name": "stdout",
     "output_type": "stream",
     "text": [
      "Division of n1 and n2:  1\n",
      "Division of n1 and n3:  0\n",
      "Division of n1 and n4:  2\n",
      "Division of n2 and n3:  0\n",
      "Division of n3 and n4:  2\n",
      "Division of n2 and n4:  1\n"
     ]
    }
   ],
   "source": [
    "##Floor round for division\n",
    "print(\"Division of n1 and n2: \",math.floor(n1/n2))\n",
    "print(\"Division of n1 and n3: \",math.floor(n1/n3))\n",
    "print(\"Division of n1 and n4: \",math.floor(n1/n4))\n",
    "print(\"Division of n2 and n3: \",math.floor(n2/n3))\n",
    "print(\"Division of n3 and n4: \",math.floor(n3/n4))\n",
    "print(\"Division of n2 and n4: \",math.floor(n2/n4))"
   ]
  },
  {
   "cell_type": "code",
   "execution_count": 30,
   "id": "10d782dc",
   "metadata": {},
   "outputs": [
    {
     "name": "stdout",
     "output_type": "stream",
     "text": [
      "Reminder of n1 and n2:  52\n",
      "Reminder of n1 and n3:  520\n",
      "Reminder of n1 and n4:  30\n",
      "Reminder of n2 and n3:  468\n",
      "Reminder of n3 and n4:  124\n",
      "Reminder of n2 and n4:  223\n"
     ]
    }
   ],
   "source": [
    "##Reminder\n",
    "print(\"Reminder of n1 and n2: \",n1%n2)\n",
    "print(\"Reminder of n1 and n3: \",n1%n3)\n",
    "print(\"Reminder of n1 and n4: \",n1%n4)\n",
    "print(\"Reminder of n2 and n3: \",n2%n3)\n",
    "print(\"Reminder of n3 and n4: \",n3%n4)\n",
    "print(\"Reminder of n2 and n4: \",n2%n4)"
   ]
  },
  {
   "cell_type": "code",
   "execution_count": 31,
   "id": "f188a362",
   "metadata": {},
   "outputs": [
    {
     "name": "stdout",
     "output_type": "stream",
     "text": [
      "Average of n1, n2, n3 and n4:  461.75\n"
     ]
    }
   ],
   "source": [
    "##Average\n",
    "print(\"Average of n1, n2, n3 and n4: \",(n1+n2+n3+n4)/4)"
   ]
  },
  {
   "cell_type": "code",
   "execution_count": 32,
   "id": "62b419c2",
   "metadata": {},
   "outputs": [
    {
     "name": "stdout",
     "output_type": "stream",
     "text": [
      "Percentage of n2 W.r.t. n1:  90.0 %\n",
      "Percentage of n3 W.r.t. n1:  118.07692307692308 %\n",
      "Percentage of n3 W.r.t. n2:  131.1965811965812 %\n",
      "Percentage of n4 W.r.t. n1:  47.11538461538461 %\n",
      "Percentage of n4 W.r.t. n2:  52.35042735042735 %\n",
      "Percentage of n4 W.r.t. n3:  39.902280130293164 %\n"
     ]
    }
   ],
   "source": [
    "##Percentage\n",
    "print(\"Percentage of n2 W.r.t. n1: \", (n2/n1)*100,'%')\n",
    "print(\"Percentage of n3 W.r.t. n1: \", (n3/n1)*100,'%')\n",
    "print(\"Percentage of n3 W.r.t. n2: \", (n3/n2)*100,'%')\n",
    "print(\"Percentage of n4 W.r.t. n1: \", (n4/n1)*100,'%')\n",
    "print(\"Percentage of n4 W.r.t. n2: \", (n4/n2)*100,'%')\n",
    "print(\"Percentage of n4 W.r.t. n3: \", (n4/n3)*100,'%')"
   ]
  },
  {
   "cell_type": "code",
   "execution_count": 33,
   "id": "d5d35d9a",
   "metadata": {},
   "outputs": [
    {
     "name": "stdout",
     "output_type": "stream",
     "text": [
      "Percentage of n1:  28.153762858689767 %\n",
      "Percentage of n2:  25.33838657282079 %\n",
      "Percentage of n3:  33.24309691391446 %\n",
      "Percentage of n4:  13.264753654574987 %\n"
     ]
    }
   ],
   "source": [
    "total = n1+n2+n3+n4\n",
    "print(\"Percentage of n1: \",n1*100/total,'%')\n",
    "print(\"Percentage of n2: \",n2*100/total,'%')\n",
    "print(\"Percentage of n3: \",n3*100/total,'%')\n",
    "print(\"Percentage of n4: \",n4*100/total,'%')"
   ]
  },
  {
   "cell_type": "code",
   "execution_count": 34,
   "id": "2e34fa7b",
   "metadata": {},
   "outputs": [
    {
     "name": "stdout",
     "output_type": "stream",
     "text": [
      "Percentage of n1:  29 %\n",
      "Percentage of n2:  26 %\n",
      "Percentage of n3:  34 %\n",
      "Percentage of n4:  14 %\n"
     ]
    }
   ],
   "source": [
    "#Ceil round for percentage\n",
    "print(\"Percentage of n1: \",math.ceil(n1*100/total),'%')\n",
    "print(\"Percentage of n2: \",math.ceil(n2*100/total),'%')\n",
    "print(\"Percentage of n3: \",math.ceil(n3*100/total),'%')\n",
    "print(\"Percentage of n4: \",math.ceil(n4*100/total),'%')"
   ]
  },
  {
   "cell_type": "code",
   "execution_count": 35,
   "id": "ac130ebd",
   "metadata": {},
   "outputs": [
    {
     "name": "stdout",
     "output_type": "stream",
     "text": [
      "Percentage of n1:  28 %\n",
      "Percentage of n2:  25 %\n",
      "Percentage of n3:  33 %\n",
      "Percentage of n4:  13 %\n"
     ]
    }
   ],
   "source": [
    "#floor round for percentage\n",
    "print(\"Percentage of n1: \",math.floor(n1*100/total),'%')\n",
    "print(\"Percentage of n2: \",math.floor(n2*100/total),'%')\n",
    "print(\"Percentage of n3: \",math.floor(n3*100/total),'%')\n",
    "print(\"Percentage of n4: \",math.floor(n4*100/total),'%')"
   ]
  },
  {
   "cell_type": "code",
   "execution_count": null,
   "id": "d854b6a8",
   "metadata": {},
   "outputs": [],
   "source": []
  },
  {
   "cell_type": "code",
   "execution_count": null,
   "id": "78ea9a12",
   "metadata": {},
   "outputs": [],
   "source": []
  }
 ],
 "metadata": {
  "kernelspec": {
   "display_name": "Python 3 (ipykernel)",
   "language": "python",
   "name": "python3"
  },
  "language_info": {
   "codemirror_mode": {
    "name": "ipython",
    "version": 3
   },
   "file_extension": ".py",
   "mimetype": "text/x-python",
   "name": "python",
   "nbconvert_exporter": "python",
   "pygments_lexer": "ipython3",
   "version": "3.9.12"
  }
 },
 "nbformat": 4,
 "nbformat_minor": 5
}
