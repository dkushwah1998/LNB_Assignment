{
 "cells": [
  {
   "cell_type": "markdown",
   "id": "4f20fe09",
   "metadata": {},
   "source": [
    "# 1. Write a program to iterate the first 10 numbers and in each iteration, print the sum of the current and previous number."
   ]
  },
  {
   "cell_type": "code",
   "execution_count": 1,
   "id": "60fb7b2e",
   "metadata": {},
   "outputs": [
    {
     "name": "stdout",
     "output_type": "stream",
     "text": [
      "Current number 0 Previous Number 0 Sum: 0\n",
      "Current number 1 Previous Number 0 Sum: 1\n",
      "Current number 2 Previous Number 1 Sum: 3\n",
      "Current number 3 Previous Number 2 Sum: 5\n",
      "Current number 4 Previous Number 3 Sum: 7\n",
      "Current number 5 Previous Number 4 Sum: 9\n",
      "Current number 6 Previous Number 5 Sum: 11\n",
      "Current number 7 Previous Number 6 Sum: 13\n",
      "Current number 8 Previous Number 7 Sum: 15\n",
      "Current number 9 Previous Number 8 Sum: 17\n"
     ]
    }
   ],
   "source": [
    "previous_num = 0\n",
    "for i in range(0,10):\n",
    "    \n",
    "    sum_two_number = previous_num + i\n",
    "    print(f'Current number {i} Previous Number {previous_num} Sum: {sum_two_number}')\n",
    "    previous_num = i"
   ]
  },
  {
   "cell_type": "markdown",
   "id": "c7307fda",
   "metadata": {},
   "source": [
    "# 2. Write a program to find how many times substring “Emma” appears in the given string.\n",
    "Given:\n",
    "str_x = \"Emma is good developer. Emma is a writer\"\n"
   ]
  },
  {
   "cell_type": "code",
   "execution_count": 2,
   "id": "9c7f8fc4",
   "metadata": {},
   "outputs": [
    {
     "name": "stdout",
     "output_type": "stream",
     "text": [
      "Emma appeared 2 times.\n"
     ]
    }
   ],
   "source": [
    "str_x = \"Emma is good developer. Emma is a writer\"\n",
    "print(\"Emma appeared\",str_x.count(\"Emma\"),\"times.\")"
   ]
  },
  {
   "cell_type": "markdown",
   "id": "8f4f376f",
   "metadata": {},
   "source": [
    "# 3. Create a new list from a two list using the following condition\n",
    "Given a two list of numbers, write a program to create a new list such that the\n",
    "new list should contain odd numbers from the first list and even numbers\n",
    "from the second list."
   ]
  },
  {
   "cell_type": "code",
   "execution_count": 71,
   "id": "2586eeba",
   "metadata": {},
   "outputs": [
    {
     "name": "stdout",
     "output_type": "stream",
     "text": [
      "35\n"
     ]
    }
   ],
   "source": [
    "list1 = [10, 20, 25, 30, 35]\n",
    "list2 = [40, 45, 60, 75, 90]\n",
    "def new_list():\n",
    "    new_list = list()\n",
    "    \n",
    "    for i in list1:\n",
    "      \n",
    "        if i%2 !=0:\n",
    "            new_list = i\n",
    "    return new_list\n",
    "    \n",
    "print(new_list())"
   ]
  },
  {
   "cell_type": "code",
   "execution_count": 63,
   "id": "dec99649",
   "metadata": {},
   "outputs": [
    {
     "name": "stdout",
     "output_type": "stream",
     "text": [
      "90\n"
     ]
    }
   ],
   "source": [
    "for n in list2:\n",
    "    if n%2 == 0:\n",
    "        new_list = n\n",
    "    \n",
    "print(new_list)"
   ]
  },
  {
   "cell_type": "markdown",
   "id": "5aa15030",
   "metadata": {},
   "source": [
    "# 4. Print downward Half-Pyramid Pattern with Star (asterisk)"
   ]
  },
  {
   "cell_type": "code",
   "execution_count": 64,
   "id": "fc2e23cb",
   "metadata": {},
   "outputs": [
    {
     "name": "stdout",
     "output_type": "stream",
     "text": [
      "*****\n",
      "****\n",
      "***\n",
      "**\n",
      "*\n",
      "\n"
     ]
    }
   ],
   "source": [
    "r = 6\n",
    "for i in range(r,0,-1):\n",
    "    for j in range(0, i-1):\n",
    "        print('*', end = \"\")\n",
    "    print('')"
   ]
  },
  {
   "cell_type": "markdown",
   "id": "81c0ce66",
   "metadata": {},
   "source": [
    "# 5) Write a function called exponent(base, exp) that returns an int value of base raises to the power of exp."
   ]
  },
  {
   "cell_type": "code",
   "execution_count": 6,
   "id": "8b4ef4b9",
   "metadata": {},
   "outputs": [
    {
     "name": "stdout",
     "output_type": "stream",
     "text": [
      "2\n",
      "5\n",
      "2 raises to power of 5: 32\n"
     ]
    }
   ],
   "source": [
    "a = int(input())\n",
    "b = int(input())\n",
    "exp_fun = pow(a,b)\n",
    "print(f\"{a} raises to power of {b}: {exp_fun}\")"
   ]
  },
  {
   "cell_type": "markdown",
   "id": "a3e61f79",
   "metadata": {},
   "source": [
    "# 6) Write a NumPy program to test whether none of the elements of a given array is zero"
   ]
  },
  {
   "cell_type": "code",
   "execution_count": 7,
   "id": "d85a920d",
   "metadata": {},
   "outputs": [
    {
     "name": "stdout",
     "output_type": "stream",
     "text": [
      "True\n",
      "True\n",
      "True\n",
      "True\n",
      "True\n",
      "True\n",
      "True\n",
      "True\n"
     ]
    }
   ],
   "source": [
    "import numpy as np\n",
    "arr = np.array([5,6,4,8,6,7,25,5])\n",
    "for i in arr:\n",
    "    if i != 0:\n",
    "        print(True)\n",
    "    else:\n",
    "        False"
   ]
  },
  {
   "cell_type": "code",
   "execution_count": 8,
   "id": "85fa4daf",
   "metadata": {},
   "outputs": [
    {
     "data": {
      "text/plain": [
       "False"
      ]
     },
     "execution_count": 8,
     "metadata": {},
     "output_type": "execute_result"
    }
   ],
   "source": [
    "0 in arr"
   ]
  },
  {
   "cell_type": "markdown",
   "id": "4c3d2e3e",
   "metadata": {},
   "source": [
    "# 7) . Write a NumPy program to create an array of 10 zeros,10 ones, 10 fives."
   ]
  },
  {
   "cell_type": "code",
   "execution_count": 9,
   "id": "f2e8c592",
   "metadata": {},
   "outputs": [],
   "source": [
    "a = np.zeros(10)\n",
    "b = np.ones(10)\n",
    "c = np.array([5,5,5,5,5,5,5,5,5,5])"
   ]
  },
  {
   "cell_type": "code",
   "execution_count": 10,
   "id": "bc45e151",
   "metadata": {},
   "outputs": [],
   "source": [
    "d = np.concatenate((a,b,c),axis =0)"
   ]
  },
  {
   "cell_type": "code",
   "execution_count": 11,
   "id": "c8b20d6f",
   "metadata": {},
   "outputs": [
    {
     "data": {
      "text/plain": [
       "array([0., 0., 0., 0., 0., 0., 0., 0., 0., 0., 1., 1., 1., 1., 1., 1., 1.,\n",
       "       1., 1., 1., 5., 5., 5., 5., 5., 5., 5., 5., 5., 5.])"
      ]
     },
     "execution_count": 11,
     "metadata": {},
     "output_type": "execute_result"
    }
   ],
   "source": [
    "d"
   ]
  },
  {
   "cell_type": "code",
   "execution_count": 12,
   "id": "e53c3bb2",
   "metadata": {},
   "outputs": [
    {
     "data": {
      "text/plain": [
       "array([[0., 0., 0., 0., 0.],\n",
       "       [0., 0., 0., 0., 0.],\n",
       "       [1., 1., 1., 1., 1.],\n",
       "       [1., 1., 1., 1., 1.],\n",
       "       [5., 5., 5., 5., 5.],\n",
       "       [5., 5., 5., 5., 5.]])"
      ]
     },
     "execution_count": 12,
     "metadata": {},
     "output_type": "execute_result"
    }
   ],
   "source": [
    "d.reshape(6,5)"
   ]
  },
  {
   "cell_type": "markdown",
   "id": "82ff55b7",
   "metadata": {},
   "source": [
    "# 8) Write a NumPy program to create an array of all the even integers from 30 to70."
   ]
  },
  {
   "cell_type": "code",
   "execution_count": 13,
   "id": "70fa7de7",
   "metadata": {},
   "outputs": [
    {
     "data": {
      "text/plain": [
       "array([30, 32, 34, 36, 38, 40, 42, 44, 46, 48, 50, 52, 54, 56, 58, 60, 62,\n",
       "       64, 66, 68, 70])"
      ]
     },
     "execution_count": 13,
     "metadata": {},
     "output_type": "execute_result"
    }
   ],
   "source": [
    "arr = np.arange(30,71,2)\n",
    "arr"
   ]
  },
  {
   "cell_type": "markdown",
   "id": "b5d31dbd",
   "metadata": {},
   "source": [
    "# 9) Write a NumPy program to compute sum of all elements, sum of each column and sum of each row of a given array."
   ]
  },
  {
   "cell_type": "code",
   "execution_count": 14,
   "id": "4e048bed",
   "metadata": {},
   "outputs": [
    {
     "data": {
      "text/plain": [
       "array([[ 4,  6,  4, 17,  3],\n",
       "       [13, 12, 20, 13, 14],\n",
       "       [ 8,  2,  4,  5, 20],\n",
       "       [24,  9, 19, 15, 14],\n",
       "       [ 5, 12, 13,  5,  7]])"
      ]
     },
     "execution_count": 14,
     "metadata": {},
     "output_type": "execute_result"
    }
   ],
   "source": [
    "arr = np.random.randint(1,25,25).reshape(5,5)\n",
    "arr"
   ]
  },
  {
   "cell_type": "code",
   "execution_count": 15,
   "id": "5311d578",
   "metadata": {},
   "outputs": [
    {
     "name": "stdout",
     "output_type": "stream",
     "text": [
      "Sum of all elements of array:\n",
      "268\n"
     ]
    }
   ],
   "source": [
    "print(\"Sum of all elements of array:\")\n",
    "print(np.sum(arr))"
   ]
  },
  {
   "cell_type": "code",
   "execution_count": 16,
   "id": "6b18d64e",
   "metadata": {},
   "outputs": [
    {
     "name": "stdout",
     "output_type": "stream",
     "text": [
      "Sum of coulmns:\n",
      "[54 41 60 55 58]\n"
     ]
    }
   ],
   "source": [
    "print(\"Sum of coulmns:\")\n",
    "print(np.sum(arr, axis = 0))"
   ]
  },
  {
   "cell_type": "code",
   "execution_count": 17,
   "id": "7afe62cc",
   "metadata": {},
   "outputs": [
    {
     "name": "stdout",
     "output_type": "stream",
     "text": [
      "Sum of rows:\n",
      " [34 72 39 81 42]\n"
     ]
    }
   ],
   "source": [
    "print(\"Sum of rows:\\n\",np.sum(arr,axis = 1))"
   ]
  },
  {
   "cell_type": "markdown",
   "id": "ea106f5d",
   "metadata": {},
   "source": [
    "# 10) Write a NumPy program to create a 5x5 zero matrix with elements on the main diagonal equal to 1, 2, 3, 4, 5."
   ]
  },
  {
   "cell_type": "code",
   "execution_count": 18,
   "id": "58dd672f",
   "metadata": {},
   "outputs": [
    {
     "data": {
      "text/plain": [
       "array([[1, 0, 0, 0, 0],\n",
       "       [0, 2, 0, 0, 0],\n",
       "       [0, 0, 3, 0, 0],\n",
       "       [0, 0, 0, 4, 0],\n",
       "       [0, 0, 0, 0, 5]])"
      ]
     },
     "execution_count": 18,
     "metadata": {},
     "output_type": "execute_result"
    }
   ],
   "source": [
    "arr = np.diag([1,2,3,4,5])\n",
    "arr"
   ]
  },
  {
   "cell_type": "markdown",
   "id": "bdf29d04",
   "metadata": {},
   "source": [
    "# 11) Write a NumPy program to sort a given array by row and column in ascending order.\n"
   ]
  },
  {
   "cell_type": "code",
   "execution_count": 19,
   "id": "4d4f3cc8",
   "metadata": {},
   "outputs": [
    {
     "data": {
      "text/plain": [
       "array([[25, 10, 17, 21, 24],\n",
       "       [24, 26, 31, 20, 11],\n",
       "       [18, 18, 18, 34, 31],\n",
       "       [34, 10, 21, 16, 31],\n",
       "       [14, 31, 15, 19, 11]])"
      ]
     },
     "execution_count": 19,
     "metadata": {},
     "output_type": "execute_result"
    }
   ],
   "source": [
    "arr = np.random.randint(10,35,25).reshape(5,5)\n",
    "arr\n"
   ]
  },
  {
   "cell_type": "code",
   "execution_count": 20,
   "id": "908dae2b",
   "metadata": {},
   "outputs": [
    {
     "data": {
      "text/plain": [
       "array([[14, 10, 15, 16, 11],\n",
       "       [18, 10, 17, 19, 11],\n",
       "       [24, 18, 18, 20, 24],\n",
       "       [25, 26, 21, 21, 31],\n",
       "       [34, 31, 31, 34, 31]])"
      ]
     },
     "execution_count": 20,
     "metadata": {},
     "output_type": "execute_result"
    }
   ],
   "source": [
    "np.sort(arr,axis=0)"
   ]
  },
  {
   "cell_type": "code",
   "execution_count": 21,
   "id": "5cf31816",
   "metadata": {},
   "outputs": [
    {
     "data": {
      "text/plain": [
       "array([[10, 17, 21, 24, 25],\n",
       "       [11, 20, 24, 26, 31],\n",
       "       [18, 18, 18, 31, 34],\n",
       "       [10, 16, 21, 31, 34],\n",
       "       [11, 14, 15, 19, 31]])"
      ]
     },
     "execution_count": 21,
     "metadata": {},
     "output_type": "execute_result"
    }
   ],
   "source": [
    "np.sort(arr,axis=1)"
   ]
  },
  {
   "cell_type": "markdown",
   "id": "a71683d5",
   "metadata": {},
   "source": [
    "# 12) Write a NumPy program to create a three-dimension array with shape (3,5,4) and set to a variable.\n"
   ]
  },
  {
   "cell_type": "code",
   "execution_count": 22,
   "id": "d3a09af7",
   "metadata": {},
   "outputs": [
    {
     "data": {
      "text/plain": [
       "array([[[53, 41, 50, 66],\n",
       "        [27, 17, 52, 53],\n",
       "        [36, 26, 29, 32],\n",
       "        [29, 17, 39, 52],\n",
       "        [58, 15, 53, 13]],\n",
       "\n",
       "       [[27, 34, 49, 48],\n",
       "        [62, 64, 42, 56],\n",
       "        [28, 66, 44, 57],\n",
       "        [16, 33, 52, 16],\n",
       "        [57, 38, 14, 23]],\n",
       "\n",
       "       [[64, 19, 65, 31],\n",
       "        [27, 49, 45, 20],\n",
       "        [41, 69, 54, 27],\n",
       "        [42, 18, 58, 29],\n",
       "        [60, 59, 45, 47]]])"
      ]
     },
     "execution_count": 22,
     "metadata": {},
     "output_type": "execute_result"
    }
   ],
   "source": [
    "array_3d = np.random.randint(10,70,60).reshape(3,5,4)\n",
    "array_3d"
   ]
  },
  {
   "cell_type": "markdown",
   "id": "698521ae",
   "metadata": {},
   "source": [
    "# 13) Write a NumPy program to swap rows and columns of a given array in reverse order.Write a NumPy program to multiply two given arrays of same size element-by-element"
   ]
  },
  {
   "cell_type": "code",
   "execution_count": null,
   "id": "5c3ca62b",
   "metadata": {},
   "outputs": [],
   "source": []
  },
  {
   "cell_type": "code",
   "execution_count": null,
   "id": "6eea3315",
   "metadata": {},
   "outputs": [],
   "source": []
  },
  {
   "cell_type": "code",
   "execution_count": null,
   "id": "702b3518",
   "metadata": {},
   "outputs": [],
   "source": []
  },
  {
   "cell_type": "markdown",
   "id": "8072b2fa",
   "metadata": {},
   "source": [
    "# 14) Write a NumPy program to print the NumPy version in your system."
   ]
  },
  {
   "cell_type": "code",
   "execution_count": 25,
   "id": "fb0cc403",
   "metadata": {},
   "outputs": [
    {
     "data": {
      "text/plain": [
       "'1.21.5'"
      ]
     },
     "execution_count": 25,
     "metadata": {},
     "output_type": "execute_result"
    }
   ],
   "source": [
    "np.__version__"
   ]
  },
  {
   "cell_type": "markdown",
   "id": "6c026b6f",
   "metadata": {},
   "source": [
    "# 15) Print max from axis 0 and min from axis 1 from the following 2-D array."
   ]
  },
  {
   "cell_type": "markdown",
   "id": "cc06ac9b",
   "metadata": {},
   "source": [
    "sampleArray =\n",
    "numpy.array([[34,43,73],[82,22,12],[53,94,66]])\n"
   ]
  },
  {
   "cell_type": "code",
   "execution_count": 26,
   "id": "f7f507be",
   "metadata": {},
   "outputs": [
    {
     "data": {
      "text/plain": [
       "array([[34, 43, 73],\n",
       "       [82, 22, 12],\n",
       "       [53, 94, 66]])"
      ]
     },
     "execution_count": 26,
     "metadata": {},
     "output_type": "execute_result"
    }
   ],
   "source": [
    "arr = np.array([[34,43,73],[82,22,12],[53,94,66]])\n",
    "arr"
   ]
  },
  {
   "cell_type": "code",
   "execution_count": 88,
   "id": "86484b5c",
   "metadata": {},
   "outputs": [
    {
     "data": {
      "text/plain": [
       "array([82, 94, 73])"
      ]
     },
     "execution_count": 88,
     "metadata": {},
     "output_type": "execute_result"
    }
   ],
   "source": [
    "np.max(arr,axis = 0)"
   ]
  },
  {
   "cell_type": "code",
   "execution_count": 89,
   "id": "c4c42b1b",
   "metadata": {},
   "outputs": [
    {
     "data": {
      "text/plain": [
       "array([34, 12, 53])"
      ]
     },
     "execution_count": 89,
     "metadata": {},
     "output_type": "execute_result"
    }
   ],
   "source": [
    "np.min(arr,axis=1)"
   ]
  },
  {
   "cell_type": "markdown",
   "id": "b9ca384e",
   "metadata": {},
   "source": [
    "# 18) Create a result array by adding the following two NumPy arrays. Next, modify the result array by calculating the square of each element\n",
    "arrayOne = numpy.array([[5, 6, 9], [21 ,18, 27]])\n",
    "arrayTwo = numpy.array([[15 ,33, 24], [4 ,7, 1]])"
   ]
  },
  {
   "cell_type": "code",
   "execution_count": 44,
   "id": "d671794a",
   "metadata": {},
   "outputs": [],
   "source": [
    "arr_1 = np.array([[5, 6, 9], [21 ,18, 27]])\n",
    "arr_2 = np.array([[15 ,33, 24], [4 ,7, 1]])"
   ]
  },
  {
   "cell_type": "code",
   "execution_count": 45,
   "id": "5c9295ce",
   "metadata": {},
   "outputs": [
    {
     "data": {
      "text/plain": [
       "array([[20, 39, 33],\n",
       "       [25, 25, 28]])"
      ]
     },
     "execution_count": 45,
     "metadata": {},
     "output_type": "execute_result"
    }
   ],
   "source": [
    "arr = arr_1+arr_2\n",
    "arr"
   ]
  },
  {
   "cell_type": "code",
   "execution_count": 46,
   "id": "8ad2f3ff",
   "metadata": {},
   "outputs": [
    {
     "data": {
      "text/plain": [
       "array([[ 400, 1521, 1089],\n",
       "       [ 625,  625,  784]], dtype=int32)"
      ]
     },
     "execution_count": 46,
     "metadata": {},
     "output_type": "execute_result"
    }
   ],
   "source": [
    "np.square(arr)"
   ]
  },
  {
   "cell_type": "markdown",
   "id": "17c448ce",
   "metadata": {},
   "source": [
    "# 19) Write a NumPy program to compute the multiplication of two given matrixes."
   ]
  },
  {
   "cell_type": "code",
   "execution_count": 47,
   "id": "84e5e803",
   "metadata": {},
   "outputs": [],
   "source": [
    "arr_1 = np.array([[5, 6, 9], [21 ,18, 27]])\n",
    "arr_2 = np.array([[15 ,33, 24], [4 ,7, 1]])"
   ]
  },
  {
   "cell_type": "code",
   "execution_count": 49,
   "id": "11ededc9",
   "metadata": {},
   "outputs": [
    {
     "data": {
      "text/plain": [
       "array([[ 489,   71],\n",
       "       [1557,  237]])"
      ]
     },
     "execution_count": 49,
     "metadata": {},
     "output_type": "execute_result"
    }
   ],
   "source": [
    "mul = np.dot(arr_1,arr_2.T)\n",
    "mul"
   ]
  },
  {
   "cell_type": "markdown",
   "id": "3f5fe5d2",
   "metadata": {},
   "source": [
    "# 20) Write a NumPy program to find a matrix or vector norm.\n"
   ]
  },
  {
   "cell_type": "code",
   "execution_count": 56,
   "id": "cc24cff4",
   "metadata": {},
   "outputs": [],
   "source": [
    "arr = np.random.randint(5,20,4)"
   ]
  },
  {
   "cell_type": "code",
   "execution_count": 57,
   "id": "137b41fd",
   "metadata": {},
   "outputs": [
    {
     "data": {
      "text/plain": [
       "array([ 6, 15,  6, 18])"
      ]
     },
     "execution_count": 57,
     "metadata": {},
     "output_type": "execute_result"
    }
   ],
   "source": [
    "arr"
   ]
  },
  {
   "cell_type": "code",
   "execution_count": 58,
   "id": "a4b7911e",
   "metadata": {},
   "outputs": [
    {
     "data": {
      "text/plain": [
       "24.919871588754223"
      ]
     },
     "execution_count": 58,
     "metadata": {},
     "output_type": "execute_result"
    }
   ],
   "source": [
    "np.linalg.norm(arr)"
   ]
  },
  {
   "cell_type": "markdown",
   "id": "0e3d11cb",
   "metadata": {},
   "source": [
    "# 22) Write a NumPy program to add, subtract, multiply, divide arguments element-wise.\n"
   ]
  },
  {
   "cell_type": "code",
   "execution_count": 72,
   "id": "598b5961",
   "metadata": {},
   "outputs": [],
   "source": [
    "arr_1 = np.array([[5, 6, 9], [21 ,18, 27]])\n",
    "arr_2 = np.array([[15 ,33, 24], [4 ,7, 1]])"
   ]
  },
  {
   "cell_type": "code",
   "execution_count": 73,
   "id": "c179dd21",
   "metadata": {},
   "outputs": [
    {
     "data": {
      "text/plain": [
       "array([[20, 39, 33],\n",
       "       [25, 25, 28]])"
      ]
     },
     "execution_count": 73,
     "metadata": {},
     "output_type": "execute_result"
    }
   ],
   "source": [
    "arr_1+arr_2"
   ]
  },
  {
   "cell_type": "code",
   "execution_count": 74,
   "id": "432057a6",
   "metadata": {},
   "outputs": [
    {
     "data": {
      "text/plain": [
       "array([[-10, -27, -15],\n",
       "       [ 17,  11,  26]])"
      ]
     },
     "execution_count": 74,
     "metadata": {},
     "output_type": "execute_result"
    }
   ],
   "source": [
    "arr_1-arr_2"
   ]
  },
  {
   "cell_type": "code",
   "execution_count": 75,
   "id": "3495be5c",
   "metadata": {},
   "outputs": [
    {
     "data": {
      "text/plain": [
       "array([[ 75, 198, 216],\n",
       "       [ 84, 126,  27]])"
      ]
     },
     "execution_count": 75,
     "metadata": {},
     "output_type": "execute_result"
    }
   ],
   "source": [
    "arr_1*arr_2"
   ]
  },
  {
   "cell_type": "code",
   "execution_count": 76,
   "id": "c3cd0871",
   "metadata": {},
   "outputs": [
    {
     "data": {
      "text/plain": [
       "array([[ 0.33333333,  0.18181818,  0.375     ],\n",
       "       [ 5.25      ,  2.57142857, 27.        ]])"
      ]
     },
     "execution_count": 76,
     "metadata": {},
     "output_type": "execute_result"
    }
   ],
   "source": [
    "arr_1/arr_2"
   ]
  },
  {
   "cell_type": "markdown",
   "id": "0a8912e7",
   "metadata": {},
   "source": [
    "# 23) Write a NumPy program to get the largest integer smaller or equal to the division of the inputs."
   ]
  },
  {
   "cell_type": "code",
   "execution_count": 77,
   "id": "cc3cb0ca",
   "metadata": {},
   "outputs": [
    {
     "data": {
      "text/plain": [
       "array([[34, 43, 73],\n",
       "       [82, 22, 12],\n",
       "       [53, 94, 66]])"
      ]
     },
     "execution_count": 77,
     "metadata": {},
     "output_type": "execute_result"
    }
   ],
   "source": [
    "arr = np.array([[34,43,73],[82,22,12],[53,94,66]])\n",
    "arr\n"
   ]
  },
  {
   "cell_type": "code",
   "execution_count": 87,
   "id": "3f044e1f",
   "metadata": {},
   "outputs": [
    {
     "data": {
      "text/plain": [
       "94"
      ]
     },
     "execution_count": 87,
     "metadata": {},
     "output_type": "execute_result"
    }
   ],
   "source": [
    "np.max(arr)"
   ]
  },
  {
   "cell_type": "code",
   "execution_count": 80,
   "id": "4a0cf8a6",
   "metadata": {},
   "outputs": [
    {
     "data": {
      "text/plain": [
       "12"
      ]
     },
     "execution_count": 80,
     "metadata": {},
     "output_type": "execute_result"
    }
   ],
   "source": [
    "np.min(arr)"
   ]
  },
  {
   "cell_type": "code",
   "execution_count": 85,
   "id": "42480ffe",
   "metadata": {},
   "outputs": [
    {
     "name": "stdout",
     "output_type": "stream",
     "text": [
      "34\n",
      "(array([0, 0, 1, 2, 2, 2], dtype=int64), array([1, 2, 0, 0, 1, 2], dtype=int64))\n",
      "(array([1, 1], dtype=int64), array([1, 2], dtype=int64))\n",
      "(array([0], dtype=int64), array([0], dtype=int64))\n"
     ]
    }
   ],
   "source": [
    "a = int(input())\n",
    "print(np.where(arr>a))\n",
    "print(np.where(arr<a))\n",
    "print(np.where(arr==a))"
   ]
  },
  {
   "cell_type": "markdown",
   "id": "2a36e84f",
   "metadata": {},
   "source": [
    "# 24) Write a NumPy program to get the powers of an array values element-wise"
   ]
  },
  {
   "cell_type": "code",
   "execution_count": 91,
   "id": "e1cee55a",
   "metadata": {},
   "outputs": [
    {
     "data": {
      "text/plain": [
       "array([  0,   1,   8,  27,  64, 125, 216], dtype=int32)"
      ]
     },
     "execution_count": 91,
     "metadata": {},
     "output_type": "execute_result"
    }
   ],
   "source": [
    "arr = np.array([0, 1, 2, 3, 4, 5, 6])\n",
    "pow(arr,3)"
   ]
  },
  {
   "cell_type": "markdown",
   "id": "29db9886",
   "metadata": {},
   "source": [
    "# 25) Write a NumPy program to round array elements to the given number of decimals.\n"
   ]
  },
  {
   "cell_type": "code",
   "execution_count": 92,
   "id": "a0324279",
   "metadata": {},
   "outputs": [
    {
     "data": {
      "text/plain": [
       "array([[19, 12, 16],\n",
       "       [10, 23, 19],\n",
       "       [20, 19, 18],\n",
       "       [22, 18, 12]])"
      ]
     },
     "execution_count": 92,
     "metadata": {},
     "output_type": "execute_result"
    }
   ],
   "source": [
    "arr = np.random.randint(10,25,12).reshape(4,3)\n",
    "arr"
   ]
  },
  {
   "cell_type": "code",
   "execution_count": 96,
   "id": "374ae516",
   "metadata": {},
   "outputs": [
    {
     "data": {
      "text/plain": [
       "array([[ 0.14987721, -0.53657292, -0.28790332],\n",
       "       [-0.54402111, -0.8462204 ,  0.14987721],\n",
       "       [ 0.91294525,  0.14987721, -0.75098725],\n",
       "       [-0.00885131, -0.75098725, -0.53657292]])"
      ]
     },
     "execution_count": 96,
     "metadata": {},
     "output_type": "execute_result"
    }
   ],
   "source": [
    "a = np.sin(arr)\n",
    "a"
   ]
  },
  {
   "cell_type": "code",
   "execution_count": 98,
   "id": "17070ab9",
   "metadata": {},
   "outputs": [
    {
     "data": {
      "text/plain": [
       "array([[ 0.15, -0.54, -0.29],\n",
       "       [-0.54, -0.85,  0.15],\n",
       "       [ 0.91,  0.15, -0.75],\n",
       "       [-0.01, -0.75, -0.54]])"
      ]
     },
     "execution_count": 98,
     "metadata": {},
     "output_type": "execute_result"
    }
   ],
   "source": [
    "np.round(a,2)"
   ]
  },
  {
   "cell_type": "markdown",
   "id": "42d32b46",
   "metadata": {},
   "source": [
    "# 26) Write a NumPy program to multiply a 5x3 matrix by a 3x2 matrix and create a real matrix product"
   ]
  },
  {
   "cell_type": "code",
   "execution_count": 99,
   "id": "f54bc08c",
   "metadata": {},
   "outputs": [
    {
     "data": {
      "text/plain": [
       "array([[10, 21, 21],\n",
       "       [24, 10, 19],\n",
       "       [12, 17, 17],\n",
       "       [13, 22, 10],\n",
       "       [19, 11, 19]])"
      ]
     },
     "execution_count": 99,
     "metadata": {},
     "output_type": "execute_result"
    }
   ],
   "source": [
    "arr1 = np.random.randint(10,25,15).reshape(5,3)\n",
    "arr1\n"
   ]
  },
  {
   "cell_type": "code",
   "execution_count": 100,
   "id": "d24a9565",
   "metadata": {},
   "outputs": [
    {
     "data": {
      "text/plain": [
       "array([[36, 39],\n",
       "       [28, 31],\n",
       "       [33, 28]])"
      ]
     },
     "execution_count": 100,
     "metadata": {},
     "output_type": "execute_result"
    }
   ],
   "source": [
    "arr2 = np.random.randint(25,40,6).reshape(3,2)\n",
    "arr2"
   ]
  },
  {
   "cell_type": "code",
   "execution_count": 102,
   "id": "9a9d83b0",
   "metadata": {},
   "outputs": [
    {
     "data": {
      "text/plain": [
       "array([[1641, 1629],\n",
       "       [1771, 1778],\n",
       "       [1469, 1471],\n",
       "       [1414, 1469],\n",
       "       [1619, 1614]])"
      ]
     },
     "execution_count": 102,
     "metadata": {},
     "output_type": "execute_result"
    }
   ],
   "source": [
    "np.dot(arr1,arr2)"
   ]
  },
  {
   "cell_type": "markdown",
   "id": "f30c8db0",
   "metadata": {},
   "source": [
    "# 27) Write a NumPy program to sort a given array of shape 2 along the first axis, last axis and on flattened array.\n"
   ]
  },
  {
   "cell_type": "code",
   "execution_count": 103,
   "id": "b2d63236",
   "metadata": {},
   "outputs": [
    {
     "data": {
      "text/plain": [
       "array([[39, 48, 49, 26, 44],\n",
       "       [27, 27, 46, 37, 38],\n",
       "       [36, 35, 37, 39, 46]])"
      ]
     },
     "execution_count": 103,
     "metadata": {},
     "output_type": "execute_result"
    }
   ],
   "source": [
    "arr = np.random.randint(25,50,15).reshape(3,5)\n",
    "arr"
   ]
  },
  {
   "cell_type": "code",
   "execution_count": 104,
   "id": "db387248",
   "metadata": {},
   "outputs": [
    {
     "data": {
      "text/plain": [
       "array([[27, 27, 37, 26, 38],\n",
       "       [36, 35, 46, 37, 44],\n",
       "       [39, 48, 49, 39, 46]])"
      ]
     },
     "execution_count": 104,
     "metadata": {},
     "output_type": "execute_result"
    }
   ],
   "source": [
    "np.sort(arr,axis=0)"
   ]
  },
  {
   "cell_type": "code",
   "execution_count": 105,
   "id": "5434b814",
   "metadata": {},
   "outputs": [
    {
     "data": {
      "text/plain": [
       "array([[26, 39, 44, 48, 49],\n",
       "       [27, 27, 37, 38, 46],\n",
       "       [35, 36, 37, 39, 46]])"
      ]
     },
     "execution_count": 105,
     "metadata": {},
     "output_type": "execute_result"
    }
   ],
   "source": [
    "np.sort(arr,axis=1)"
   ]
  },
  {
   "cell_type": "code",
   "execution_count": 108,
   "id": "460b0dcc",
   "metadata": {},
   "outputs": [
    {
     "data": {
      "text/plain": [
       "array([26, 27, 27, 35, 36, 37, 37, 38, 39, 39, 44, 46, 46, 48, 49])"
      ]
     },
     "execution_count": 108,
     "metadata": {},
     "output_type": "execute_result"
    }
   ],
   "source": [
    "np.sort(arr,axis=None)"
   ]
  },
  {
   "cell_type": "code",
   "execution_count": null,
   "id": "d4f6eae3",
   "metadata": {},
   "outputs": [],
   "source": []
  }
 ],
 "metadata": {
  "kernelspec": {
   "display_name": "Python 3 (ipykernel)",
   "language": "python",
   "name": "python3"
  },
  "language_info": {
   "codemirror_mode": {
    "name": "ipython",
    "version": 3
   },
   "file_extension": ".py",
   "mimetype": "text/x-python",
   "name": "python",
   "nbconvert_exporter": "python",
   "pygments_lexer": "ipython3",
   "version": "3.9.12"
  }
 },
 "nbformat": 4,
 "nbformat_minor": 5
}
